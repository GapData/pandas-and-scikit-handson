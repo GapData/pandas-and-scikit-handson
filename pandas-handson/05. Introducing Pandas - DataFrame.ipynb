{
 "metadata": {
  "name": ""
 },
 "nbformat": 3,
 "nbformat_minor": 0,
 "worksheets": [
  {
   "cells": [
    {
     "cell_type": "markdown",
     "metadata": {},
     "source": [
      "## Import Pandas"
     ]
    },
    {
     "cell_type": "code",
     "collapsed": false,
     "input": [
      "# NumPy and pandas\n",
      "import numpy as np\n",
      "import pandas as pd\n",
      "\n",
      "# Set some pandas options for controlling output display\n",
      "pd.set_option('display.notebook_repr_html', False) # When True, IPython notebook will use html representation for pandas objects\n",
      "pd.set_option('display.max_columns', 10) # If max_columns is exceeded, switch to truncate view.\n",
      "pd.set_option('display.max_rows', 10) # If max_rows is exceeded, switch to truncate view.\n"
     ],
     "language": "python",
     "metadata": {},
     "outputs": [],
     "prompt_number": 1
    },
    {
     "cell_type": "markdown",
     "metadata": {},
     "source": [
      "## Creating DataFrame\n",
      "1. DataFrame is mostly used data structure in Pandas.\n",
      "2. It comprises of two or more dimensional data \n",
      "3. Each column of a DataFrame is a Series\n"
     ]
    },
    {
     "cell_type": "code",
     "collapsed": false,
     "input": [
      "# create dataframe with 2-d ndarray\n",
      "df = pd.DataFrame(np.array([[3,4],[6,7]]))"
     ],
     "language": "python",
     "metadata": {},
     "outputs": [],
     "prompt_number": 2
    },
    {
     "cell_type": "code",
     "collapsed": false,
     "input": [
      "df"
     ],
     "language": "python",
     "metadata": {},
     "outputs": [
      {
       "metadata": {},
       "output_type": "pyout",
       "prompt_number": 3,
       "text": [
        "   0  1\n",
        "0  3  4\n",
        "1  6  7"
       ]
      }
     ],
     "prompt_number": 3
    },
    {
     "cell_type": "code",
     "collapsed": false,
     "input": [
      "df[0]"
     ],
     "language": "python",
     "metadata": {},
     "outputs": [
      {
       "metadata": {},
       "output_type": "pyout",
       "prompt_number": 4,
       "text": [
        "0    3\n",
        "1    6\n",
        "Name: 0, dtype: int64"
       ]
      }
     ],
     "prompt_number": 4
    },
    {
     "cell_type": "code",
     "collapsed": false,
     "input": [
      "# each colums of the dataframe is a series\n",
      "type(df[0])"
     ],
     "language": "python",
     "metadata": {},
     "outputs": [
      {
       "metadata": {},
       "output_type": "pyout",
       "prompt_number": 5,
       "text": [
        "pandas.core.series.Series"
       ]
      }
     ],
     "prompt_number": 5
    },
    {
     "cell_type": "code",
     "collapsed": false,
     "input": [
      "# create dataframe with Series objects]\n",
      "s1 = pd.Series([4,2,3,5,7])\n",
      "s2 = pd.Series([6,3,8,3,9])\n",
      "                \n",
      "df1 = pd.DataFrame([s1,s2])\n",
      "df1"
     ],
     "language": "python",
     "metadata": {},
     "outputs": [
      {
       "metadata": {},
       "output_type": "pyout",
       "prompt_number": 8,
       "text": [
        "   0  1  2  3  4\n",
        "0  4  2  3  5  7\n",
        "1  6  3  8  3  9"
       ]
      }
     ],
     "prompt_number": 8
    },
    {
     "cell_type": "code",
     "collapsed": false,
     "input": [
      "# number of rows and columns\n",
      "df1.shape\n"
     ],
     "language": "python",
     "metadata": {},
     "outputs": [
      {
       "metadata": {},
       "output_type": "pyout",
       "prompt_number": 9,
       "text": [
        "(2, 5)"
       ]
      }
     ],
     "prompt_number": 9
    },
    {
     "cell_type": "code",
     "collapsed": false,
     "input": [
      "# assign column names\n",
      "df2 = pd.DataFrame([s1,s2], columns=['a','b','c','d','e'])\n",
      "df2.columns"
     ],
     "language": "python",
     "metadata": {},
     "outputs": [
      {
       "metadata": {},
       "output_type": "pyout",
       "prompt_number": 10,
       "text": [
        "Index([u'a', u'b', u'c', u'd', u'e'], dtype='object')"
       ]
      }
     ],
     "prompt_number": 10
    },
    {
     "cell_type": "code",
     "collapsed": false,
     "input": [
      "# create dataframe with dictonary\n",
      "s3 = pd.Series([7,4,3,5,6])\n",
      "s4 = pd.Series([6,3,8,7,4])\n",
      "data_dict = {'c1' : s3, 'c2' : s4}\n",
      "df3 = pd.DataFrame(data_dict)\n",
      "df3"
     ],
     "language": "python",
     "metadata": {},
     "outputs": [
      {
       "metadata": {},
       "output_type": "pyout",
       "prompt_number": 11,
       "text": [
        "   c1  c2\n",
        "0   7   6\n",
        "1   4   3\n",
        "2   3   8\n",
        "3   5   7\n",
        "4   6   4"
       ]
      }
     ],
     "prompt_number": 11
    },
    {
     "cell_type": "markdown",
     "metadata": {},
     "source": [
      "## reading csv data with dataframe.\n",
      "NOTE : We are using data sets from http://ikdd.acm.org/Site/CoDS2016/datachallenge.html"
     ]
    },
    {
     "cell_type": "code",
     "collapsed": false,
     "input": [
      "employee_data = pd.read_csv('data/data.csv')"
     ],
     "language": "python",
     "metadata": {},
     "outputs": [],
     "prompt_number": 13
    },
    {
     "cell_type": "code",
     "collapsed": false,
     "input": [
      "# read first five rows\n",
      "employee_data.head()"
     ],
     "language": "python",
     "metadata": {},
     "outputs": [
      {
       "metadata": {},
       "output_type": "pyout",
       "prompt_number": 14,
       "text": [
        "  Unnamed: 0      ID   Salary          DOJ          DOL  \\\n",
        "0      train  203097   420000  6/1/12 0:00      present   \n",
        "1      train  579905   500000  9/1/13 0:00      present   \n",
        "2      train  810601   325000  6/1/14 0:00      present   \n",
        "3      train  267447  1100000  7/1/11 0:00      present   \n",
        "4      train  343523   200000  3/1/14 0:00  3/1/15 0:00   \n",
        "\n",
        "           ...           conscientiousness agreeableness extraversion  \\\n",
        "0          ...                      0.9737        0.8128       0.5269   \n",
        "1          ...                     -0.7335        0.3789       1.2396   \n",
        "2          ...                      0.2718        1.7109       0.1637   \n",
        "3          ...                      0.0464        0.3448      -0.3440   \n",
        "4          ...                     -0.8810       -0.2793      -1.0697   \n",
        "\n",
        "  nueroticism  openess_to_experience  \n",
        "0     1.35490                -0.4455  \n",
        "1    -0.10760                 0.8637  \n",
        "2    -0.86820                 0.6721  \n",
        "3    -0.40780                -0.9194  \n",
        "4     0.09163                -0.1295  \n",
        "\n",
        "[5 rows x 39 columns]"
       ]
      }
     ],
     "prompt_number": 14
    },
    {
     "cell_type": "code",
     "collapsed": false,
     "input": [
      "# column 1 - ID\n",
      "# column 2 - Salary\n",
      "# column 5 - Designation\n",
      "# column 6 - City\n",
      "# column 7 - Gender\n",
      "# let's use columns [1,2,5,6,7] for further study."
     ],
     "language": "python",
     "metadata": {},
     "outputs": [],
     "prompt_number": 15
    },
    {
     "cell_type": "code",
     "collapsed": false,
     "input": [
      "employee_data_limited = pd.read_csv(\"data/data.csv\", \n",
      "                    usecols=[1, 2, 5, 6, 7])"
     ],
     "language": "python",
     "metadata": {},
     "outputs": [],
     "prompt_number": 16
    },
    {
     "cell_type": "code",
     "collapsed": false,
     "input": [
      "# read first 5 rows\n",
      "employee_data_limited.head()"
     ],
     "language": "python",
     "metadata": {},
     "outputs": [
      {
       "metadata": {},
       "output_type": "pyout",
       "prompt_number": 17,
       "text": [
        "       ID   Salary               Designation    JobCity Gender\n",
        "0  203097   420000   senior quality engineer  Bangalore      f\n",
        "1  579905   500000         assistant manager     Indore      m\n",
        "2  810601   325000          systems engineer    Chennai      f\n",
        "3  267447  1100000  senior software engineer    Gurgaon      m\n",
        "4  343523   200000                       get    Manesar      m"
       ]
      }
     ],
     "prompt_number": 17
    },
    {
     "cell_type": "code",
     "collapsed": false,
     "input": [
      "# read last 5 rows.\n",
      "employee_data_limited.tail()"
     ],
     "language": "python",
     "metadata": {},
     "outputs": [
      {
       "metadata": {},
       "output_type": "pyout",
       "prompt_number": 18,
       "text": [
        "          ID  Salary                  Designation           JobCity Gender\n",
        "3993   47916  280000            software engineer        New Delhi       m\n",
        "3994  752781  100000             technical writer         Hyderabad      f\n",
        "3995  355888  320000  associate software engineer         Bangalore      m\n",
        "3996  947111  200000           software developer  Asifabadbanglore      f\n",
        "3997  324966  400000      senior systems engineer           Chennai      f"
       ]
      }
     ],
     "prompt_number": 18
    },
    {
     "cell_type": "code",
     "collapsed": false,
     "input": [
      "# number of rows in our dataset\n",
      "len(employee_data_limited)"
     ],
     "language": "python",
     "metadata": {},
     "outputs": [
      {
       "metadata": {},
       "output_type": "pyout",
       "prompt_number": 19,
       "text": [
        "3998"
       ]
      }
     ],
     "prompt_number": 19
    },
    {
     "cell_type": "code",
     "collapsed": false,
     "input": [
      "# what are index and columns\n",
      "employee_data_limited.index, employee_data_limited.columns"
     ],
     "language": "python",
     "metadata": {},
     "outputs": [
      {
       "metadata": {},
       "output_type": "pyout",
       "prompt_number": 23,
       "text": [
        "(Int64Index([   0,    1,    2,    3,    4,    5,    6,    7,    8,    9,\n",
        "            ...\n",
        "            3988, 3989, 3990, 3991, 3992, 3993, 3994, 3995, 3996, 3997],\n",
        "           dtype='int64', length=3998),\n",
        " Index([u'ID', u'Salary', u'Designation', u'JobCity', u'Gender'], dtype='object'))"
       ]
      }
     ],
     "prompt_number": 23
    },
    {
     "cell_type": "markdown",
     "metadata": {},
     "source": [
      "## How to select particular columns in a dataframe?"
     ]
    },
    {
     "cell_type": "code",
     "collapsed": false,
     "input": [
      "# let's select column 1 and 3\n",
      "employee_data_limited[[1,3]].head()"
     ],
     "language": "python",
     "metadata": {},
     "outputs": [
      {
       "metadata": {},
       "output_type": "pyout",
       "prompt_number": 25,
       "text": [
        "    Salary    JobCity\n",
        "0   420000  Bangalore\n",
        "1   500000     Indore\n",
        "2   325000    Chennai\n",
        "3  1100000    Gurgaon\n",
        "4   200000    Manesar"
       ]
      }
     ],
     "prompt_number": 25
    },
    {
     "cell_type": "code",
     "collapsed": false,
     "input": [
      "# select only 'Salary' column\n",
      "employee_data_limited[[1]].head()"
     ],
     "language": "python",
     "metadata": {},
     "outputs": [
      {
       "metadata": {},
       "output_type": "pyout",
       "prompt_number": 26,
       "text": [
        "    Salary\n",
        "0   420000\n",
        "1   500000\n",
        "2   325000\n",
        "3  1100000\n",
        "4   200000"
       ]
      }
     ],
     "prompt_number": 26
    },
    {
     "cell_type": "markdown",
     "metadata": {},
     "source": [
      "## How to change the column names in a dataframe?"
     ]
    },
    {
     "cell_type": "code",
     "collapsed": false,
     "input": [
      "# let's copy our data in anothere dataframe object\n",
      "employee_data_copy = employee_data_limited.copy()\n",
      "# we are changing the column names as follows\n",
      "employee_data_copy.columns = ['id','salary','designation','job_city','gender']\n",
      "employee_data_copy.head()"
     ],
     "language": "python",
     "metadata": {},
     "outputs": [
      {
       "metadata": {},
       "output_type": "pyout",
       "prompt_number": 27,
       "text": [
        "       id   salary               designation   job_city gender\n",
        "0  203097   420000   senior quality engineer  Bangalore      f\n",
        "1  579905   500000         assistant manager     Indore      m\n",
        "2  810601   325000          systems engineer    Chennai      f\n",
        "3  267447  1100000  senior software engineer    Gurgaon      m\n",
        "4  343523   200000                       get    Manesar      m"
       ]
      }
     ],
     "prompt_number": 27
    },
    {
     "cell_type": "code",
     "collapsed": false,
     "input": [
      "type(employee_data_copy[[1]].head())"
     ],
     "language": "python",
     "metadata": {},
     "outputs": [
      {
       "metadata": {},
       "output_type": "pyout",
       "prompt_number": 29,
       "text": [
        "pandas.core.frame.DataFrame"
       ]
      }
     ],
     "prompt_number": 29
    },
    {
     "cell_type": "code",
     "collapsed": false,
     "input": [
      "type(employee_data_copy['salary'])"
     ],
     "language": "python",
     "metadata": {},
     "outputs": [
      {
       "metadata": {},
       "output_type": "pyout",
       "prompt_number": 30,
       "text": [
        "pandas.core.series.Series"
       ]
      }
     ],
     "prompt_number": 30
    },
    {
     "cell_type": "code",
     "collapsed": false,
     "input": [
      "# get salary only\n",
      "employee_data_copy['salary'].head()"
     ],
     "language": "python",
     "metadata": {},
     "outputs": [
      {
       "metadata": {},
       "output_type": "pyout",
       "prompt_number": 31,
       "text": [
        "0     420000\n",
        "1     500000\n",
        "2     325000\n",
        "3    1100000\n",
        "4     200000\n",
        "Name: salary, dtype: float64"
       ]
      }
     ],
     "prompt_number": 31
    },
    {
     "cell_type": "code",
     "collapsed": false,
     "input": [
      "# get salary and city both\n",
      "employee_data_copy[['salary', 'job_city']].head()"
     ],
     "language": "python",
     "metadata": {},
     "outputs": [
      {
       "metadata": {},
       "output_type": "pyout",
       "prompt_number": 33,
       "text": [
        "    salary   job_city\n",
        "0   420000  Bangalore\n",
        "1   500000     Indore\n",
        "2   325000    Chennai\n",
        "3  1100000    Gurgaon\n",
        "4   200000    Manesar"
       ]
      }
     ],
     "prompt_number": 33
    },
    {
     "cell_type": "code",
     "collapsed": false,
     "input": [],
     "language": "python",
     "metadata": {},
     "outputs": []
    }
   ],
   "metadata": {}
  }
 ]
}