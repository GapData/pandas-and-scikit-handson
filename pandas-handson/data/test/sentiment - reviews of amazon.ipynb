{
 "metadata": {
  "name": ""
 },
 "nbformat": 3,
 "nbformat_minor": 0,
 "worksheets": [
  {
   "cells": [
    {
     "cell_type": "code",
     "collapsed": false,
     "input": [
      "import pandas as pandas\n",
      "products = pandas.read_csv(\"data/amazon_baby.csv\")  # read csv to pandas df\n",
      "products = products.fillna({'review':''})  # fill in N/A's in the review column\n",
      "products.head()\n"
     ],
     "language": "python",
     "metadata": {},
     "outputs": [
      {
       "html": [
        "<div style=\"max-width:1500px;overflow:auto;\">\n",
        "<table border=\"1\" class=\"dataframe\">\n",
        "  <thead>\n",
        "    <tr style=\"text-align: right;\">\n",
        "      <th></th>\n",
        "      <th>name</th>\n",
        "      <th>review</th>\n",
        "      <th>rating</th>\n",
        "    </tr>\n",
        "  </thead>\n",
        "  <tbody>\n",
        "    <tr>\n",
        "      <th>0</th>\n",
        "      <td>Planetwise Flannel Wipes</td>\n",
        "      <td>These flannel wipes are OK, but in my opinion ...</td>\n",
        "      <td>3</td>\n",
        "    </tr>\n",
        "    <tr>\n",
        "      <th>1</th>\n",
        "      <td>Planetwise Wipe Pouch</td>\n",
        "      <td>it came early and was not disappointed. i love...</td>\n",
        "      <td>5</td>\n",
        "    </tr>\n",
        "    <tr>\n",
        "      <th>2</th>\n",
        "      <td>Annas Dream Full Quilt with 2 Shams</td>\n",
        "      <td>Very soft and comfortable and warmer than it l...</td>\n",
        "      <td>5</td>\n",
        "    </tr>\n",
        "    <tr>\n",
        "      <th>3</th>\n",
        "      <td>Stop Pacifier Sucking without tears with Thumb...</td>\n",
        "      <td>This is a product well worth the purchase.  I ...</td>\n",
        "      <td>5</td>\n",
        "    </tr>\n",
        "    <tr>\n",
        "      <th>4</th>\n",
        "      <td>Stop Pacifier Sucking without tears with Thumb...</td>\n",
        "      <td>All of my kids have cried non-stop when I trie...</td>\n",
        "      <td>5</td>\n",
        "    </tr>\n",
        "  </tbody>\n",
        "</table>\n",
        "</div>"
       ],
       "metadata": {},
       "output_type": "pyout",
       "prompt_number": 2,
       "text": [
        "                                                name  \\\n",
        "0                           Planetwise Flannel Wipes   \n",
        "1                              Planetwise Wipe Pouch   \n",
        "2                Annas Dream Full Quilt with 2 Shams   \n",
        "3  Stop Pacifier Sucking without tears with Thumb...   \n",
        "4  Stop Pacifier Sucking without tears with Thumb...   \n",
        "\n",
        "                                              review  rating  \n",
        "0  These flannel wipes are OK, but in my opinion ...       3  \n",
        "1  it came early and was not disappointed. i love...       5  \n",
        "2  Very soft and comfortable and warmer than it l...       5  \n",
        "3  This is a product well worth the purchase.  I ...       5  \n",
        "4  All of my kids have cried non-stop when I trie...       5  "
       ]
      }
     ],
     "prompt_number": 2
    },
    {
     "cell_type": "code",
     "collapsed": false,
     "input": [
      "# a simple method to remove punctuation from review text\n",
      "def remove_punctuation(text):\n",
      "    import string\n",
      "    return text.translate(None, string.punctuation) \n",
      "\n",
      "# apply the remove_punctuation method on the review column and save to a new review_clean column\n",
      "products['review_clean'] = products.apply(lambda row: remove_punctuation(row['review']), axis=1)\n",
      "products.head()"
     ],
     "language": "python",
     "metadata": {},
     "outputs": [
      {
       "html": [
        "<div style=\"max-width:1500px;overflow:auto;\">\n",
        "<table border=\"1\" class=\"dataframe\">\n",
        "  <thead>\n",
        "    <tr style=\"text-align: right;\">\n",
        "      <th></th>\n",
        "      <th>name</th>\n",
        "      <th>review</th>\n",
        "      <th>rating</th>\n",
        "      <th>review_clean</th>\n",
        "    </tr>\n",
        "  </thead>\n",
        "  <tbody>\n",
        "    <tr>\n",
        "      <th>0</th>\n",
        "      <td>Planetwise Flannel Wipes</td>\n",
        "      <td>These flannel wipes are OK, but in my opinion ...</td>\n",
        "      <td>3</td>\n",
        "      <td>These flannel wipes are OK but in my opinion n...</td>\n",
        "    </tr>\n",
        "    <tr>\n",
        "      <th>1</th>\n",
        "      <td>Planetwise Wipe Pouch</td>\n",
        "      <td>it came early and was not disappointed. i love...</td>\n",
        "      <td>5</td>\n",
        "      <td>it came early and was not disappointed i love ...</td>\n",
        "    </tr>\n",
        "    <tr>\n",
        "      <th>2</th>\n",
        "      <td>Annas Dream Full Quilt with 2 Shams</td>\n",
        "      <td>Very soft and comfortable and warmer than it l...</td>\n",
        "      <td>5</td>\n",
        "      <td>Very soft and comfortable and warmer than it l...</td>\n",
        "    </tr>\n",
        "    <tr>\n",
        "      <th>3</th>\n",
        "      <td>Stop Pacifier Sucking without tears with Thumb...</td>\n",
        "      <td>This is a product well worth the purchase.  I ...</td>\n",
        "      <td>5</td>\n",
        "      <td>This is a product well worth the purchase  I h...</td>\n",
        "    </tr>\n",
        "    <tr>\n",
        "      <th>4</th>\n",
        "      <td>Stop Pacifier Sucking without tears with Thumb...</td>\n",
        "      <td>All of my kids have cried non-stop when I trie...</td>\n",
        "      <td>5</td>\n",
        "      <td>All of my kids have cried nonstop when I tried...</td>\n",
        "    </tr>\n",
        "  </tbody>\n",
        "</table>\n",
        "</div>"
       ],
       "metadata": {},
       "output_type": "pyout",
       "prompt_number": 3,
       "text": [
        "                                                name  \\\n",
        "0                           Planetwise Flannel Wipes   \n",
        "1                              Planetwise Wipe Pouch   \n",
        "2                Annas Dream Full Quilt with 2 Shams   \n",
        "3  Stop Pacifier Sucking without tears with Thumb...   \n",
        "4  Stop Pacifier Sucking without tears with Thumb...   \n",
        "\n",
        "                                              review  rating  \\\n",
        "0  These flannel wipes are OK, but in my opinion ...       3   \n",
        "1  it came early and was not disappointed. i love...       5   \n",
        "2  Very soft and comfortable and warmer than it l...       5   \n",
        "3  This is a product well worth the purchase.  I ...       5   \n",
        "4  All of my kids have cried non-stop when I trie...       5   \n",
        "\n",
        "                                        review_clean  \n",
        "0  These flannel wipes are OK but in my opinion n...  \n",
        "1  it came early and was not disappointed i love ...  \n",
        "2  Very soft and comfortable and warmer than it l...  \n",
        "3  This is a product well worth the purchase  I h...  \n",
        "4  All of my kids have cried nonstop when I tried...  "
       ]
      }
     ],
     "prompt_number": 3
    },
    {
     "cell_type": "code",
     "collapsed": false,
     "input": [
      "# since 3 star ratings are neutral, ignore them.\n",
      "products = products[products['rating'] != 3]"
     ],
     "language": "python",
     "metadata": {},
     "outputs": [],
     "prompt_number": 4
    },
    {
     "cell_type": "code",
     "collapsed": false,
     "input": [
      "# a simple function to get positive or negative sentiment based on rating\n",
      "def get_sentiment(rating):\n",
      "    return +1 if rating > 3 else -1\n",
      "\n",
      "# apply the get_sentiment method on the rating column and save to a new sentiment column\n",
      "products['sentiment'] = products.apply(lambda row : get_sentiment(row['rating']), axis=1)\n",
      "products.head()"
     ],
     "language": "python",
     "metadata": {},
     "outputs": [
      {
       "html": [
        "<div style=\"max-width:1500px;overflow:auto;\">\n",
        "<table border=\"1\" class=\"dataframe\">\n",
        "  <thead>\n",
        "    <tr style=\"text-align: right;\">\n",
        "      <th></th>\n",
        "      <th>name</th>\n",
        "      <th>review</th>\n",
        "      <th>rating</th>\n",
        "      <th>review_clean</th>\n",
        "      <th>sentiment</th>\n",
        "    </tr>\n",
        "  </thead>\n",
        "  <tbody>\n",
        "    <tr>\n",
        "      <th>1</th>\n",
        "      <td>Planetwise Wipe Pouch</td>\n",
        "      <td>it came early and was not disappointed. i love...</td>\n",
        "      <td>5</td>\n",
        "      <td>it came early and was not disappointed i love ...</td>\n",
        "      <td>1</td>\n",
        "    </tr>\n",
        "    <tr>\n",
        "      <th>2</th>\n",
        "      <td>Annas Dream Full Quilt with 2 Shams</td>\n",
        "      <td>Very soft and comfortable and warmer than it l...</td>\n",
        "      <td>5</td>\n",
        "      <td>Very soft and comfortable and warmer than it l...</td>\n",
        "      <td>1</td>\n",
        "    </tr>\n",
        "    <tr>\n",
        "      <th>3</th>\n",
        "      <td>Stop Pacifier Sucking without tears with Thumb...</td>\n",
        "      <td>This is a product well worth the purchase.  I ...</td>\n",
        "      <td>5</td>\n",
        "      <td>This is a product well worth the purchase  I h...</td>\n",
        "      <td>1</td>\n",
        "    </tr>\n",
        "    <tr>\n",
        "      <th>4</th>\n",
        "      <td>Stop Pacifier Sucking without tears with Thumb...</td>\n",
        "      <td>All of my kids have cried non-stop when I trie...</td>\n",
        "      <td>5</td>\n",
        "      <td>All of my kids have cried nonstop when I tried...</td>\n",
        "      <td>1</td>\n",
        "    </tr>\n",
        "    <tr>\n",
        "      <th>5</th>\n",
        "      <td>Stop Pacifier Sucking without tears with Thumb...</td>\n",
        "      <td>When the Binky Fairy came to our house, we did...</td>\n",
        "      <td>5</td>\n",
        "      <td>When the Binky Fairy came to our house we didn...</td>\n",
        "      <td>1</td>\n",
        "    </tr>\n",
        "  </tbody>\n",
        "</table>\n",
        "</div>"
       ],
       "metadata": {},
       "output_type": "pyout",
       "prompt_number": 5,
       "text": [
        "                                                name  \\\n",
        "1                              Planetwise Wipe Pouch   \n",
        "2                Annas Dream Full Quilt with 2 Shams   \n",
        "3  Stop Pacifier Sucking without tears with Thumb...   \n",
        "4  Stop Pacifier Sucking without tears with Thumb...   \n",
        "5  Stop Pacifier Sucking without tears with Thumb...   \n",
        "\n",
        "                                              review  rating  \\\n",
        "1  it came early and was not disappointed. i love...       5   \n",
        "2  Very soft and comfortable and warmer than it l...       5   \n",
        "3  This is a product well worth the purchase.  I ...       5   \n",
        "4  All of my kids have cried non-stop when I trie...       5   \n",
        "5  When the Binky Fairy came to our house, we did...       5   \n",
        "\n",
        "                                        review_clean  sentiment  \n",
        "1  it came early and was not disappointed i love ...          1  \n",
        "2  Very soft and comfortable and warmer than it l...          1  \n",
        "3  This is a product well worth the purchase  I h...          1  \n",
        "4  All of my kids have cried nonstop when I tried...          1  \n",
        "5  When the Binky Fairy came to our house we didn...          1  "
       ]
      }
     ],
     "prompt_number": 5
    },
    {
     "cell_type": "code",
     "collapsed": false,
     "input": [
      "# get train data\n",
      "import json\n",
      "# load the train data ids from json file\n",
      "with open(\"data/train-idx.json\") as trainfile:\n",
      "    train_index = json.load(trainfile)\n",
      "# select training data using the train ids\n",
      "train_data = products.iloc[train_index,:]\n",
      "\n",
      "# get test data\n",
      "with open(\"data/test-idx.json\") as testfile:\n",
      "    test_index = json.load(testfile)\n",
      "test_data = products.iloc[test_index,:]\n"
     ],
     "language": "python",
     "metadata": {},
     "outputs": [],
     "prompt_number": 7
    },
    {
     "cell_type": "code",
     "collapsed": false,
     "input": [
      "from sklearn.feature_extraction.text import CountVectorizer\n",
      "\n",
      "vectorizer = CountVectorizer(token_pattern=r'\\b\\w+\\b')\n",
      "# Use this token pattern to keep single-letter words\n",
      "# First, learn vocabulary from the training data and assign columns to words\n",
      "# Then convert the training data into a sparse matrix\n",
      "train_matrix = vectorizer.fit_transform(train_data['review_clean'])\n",
      "# Second, convert the test data into a sparse matrix, using the same word-column mapping\n",
      "test_matrix = vectorizer.transform(test_data['review_clean'])\n"
     ],
     "language": "python",
     "metadata": {},
     "outputs": [],
     "prompt_number": 8
    },
    {
     "cell_type": "code",
     "collapsed": false,
     "input": [
      "from sklearn.linear_model import LogisticRegression\n",
      "alg = LogisticRegression()\n",
      "# train the logistic regression algorithm using train matrix and sentiment output\n",
      "sentiment_model = alg.fit(train_matrix, train_data['sentiment'])"
     ],
     "language": "python",
     "metadata": {},
     "outputs": [],
     "prompt_number": 9
    },
    {
     "cell_type": "code",
     "collapsed": false,
     "input": [
      "coeffs = sentiment_model.coef_[0]\n",
      "print('Coefficients Length', coeffs.size)\n",
      "print('Positive Coefficients', (coeffs >= 0).sum())"
     ],
     "language": "python",
     "metadata": {},
     "outputs": [
      {
       "output_type": "stream",
       "stream": "stdout",
       "text": [
        "('Coefficients Length', 121712)\n",
        "('Positive Coefficients', 85830)"
       ]
      },
      {
       "output_type": "stream",
       "stream": "stdout",
       "text": [
        "\n"
       ]
      }
     ],
     "prompt_number": 10
    },
    {
     "cell_type": "code",
     "collapsed": false,
     "input": [
      "# inspecting a few test data samples\n",
      "sample_test_data = test_data[10:13]\n",
      "print('First sample test data review \\n', sample_test_data['review'].iloc[0])\n",
      "print(\"\\n\")\n",
      "print('Second sample test data review', sample_test_data['review'].iloc[1])"
     ],
     "language": "python",
     "metadata": {},
     "outputs": [
      {
       "output_type": "stream",
       "stream": "stdout",
       "text": [
        "('First sample test data review \\n', 'Absolutely love it and all of the Scripture in it.  I purchased the Baby Boy version for my grandson when he was born and my daughter-in-law was thrilled to receive the same book again.')\n",
        "\n",
        "\n",
        "('Second sample test data review', 'Would not purchase again or recommend. The decals were thick almost plastic like and were coming off the wall as I was applying them! The would NOT stick! Literally stayed stuck for about 5 minutes then started peeling off.')\n"
       ]
      }
     ],
     "prompt_number": 11
    },
    {
     "cell_type": "code",
     "collapsed": false,
     "input": [
      "# predicting output using our sentiment model\n",
      "sample_test_matrix = vectorizer.transform(sample_test_data['review_clean'])\n",
      "scores = sentiment_model.decision_function(sample_test_matrix)\n",
      "print('scores', scores)\n",
      "print([1 if i>=0 else -1 for i in scores])"
     ],
     "language": "python",
     "metadata": {},
     "outputs": [
      {
       "output_type": "stream",
       "stream": "stdout",
       "text": [
        "('scores', array([  5.60106442,  -3.15214773, -10.42523329]))\n",
        "[1, -1, -1]\n"
       ]
      }
     ],
     "prompt_number": 12
    },
    {
     "cell_type": "code",
     "collapsed": false,
     "input": [],
     "language": "python",
     "metadata": {},
     "outputs": []
    }
   ],
   "metadata": {}
  }
 ]
}