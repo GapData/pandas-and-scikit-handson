{
 "cells": [
  {
   "cell_type": "markdown",
   "metadata": {},
   "source": [
    "Sentiment analysis has been using as a tool to cassify response from your user/customer as 'positive' or 'negative' or even 'neutral'. It combines two different disciplines : Natural Language Processing and Text Analysis to extract information from text data. In sentiment analysis, algorithm will learn from labelled example data and predict the label of new /unseen data points. This approach is called supervised learning, as we will train our model with corpus of labelled news.\n",
    "\n",
    "### Why sentiment analysis?\n",
    "\n",
    "People have different ways to express their attitudes or opinions / reviews towards your product /event / movie or even for people. These user reviews have potential to build brand authenticity between customers and even to establish trust in product.Most of the companies are trying to evaluate the brand value of a product based on customer reviews. In this process, company can extract customer behaviors like : which products are popular among users, what percentage of your customer dislike your brand, how many users have postive sentiment on their competitors product? These questions ultimately help companies to focus on different aspects of product like : product revamp , new marketing strategy and even for social media outreach plan.\n",
    "\n",
    "Before use of sentiment analysis algorithms, people were trying to evaluate those user response based on simple practices like : extracting keywords from the content and restricting their findings only on 'what people are talking about?'.\n",
    "This will never helps you out to answer few important questions 'What people are feeling and thinking about your product?'. That means only the explicit statements/reviews or opinions will have measurable output with your old approach. What would you do with large number of implicit comments?\n",
    "\n",
    "Even though, it is extremely arduous to determine the actual tone from given text, we can try to develop a more accurate version of our older one.\n",
    "\n",
    "### What tools we are using?\n",
    "\n",
    " - Language : python\n",
    " - Scraping library : BeautifulSoup\n",
    " - Machine learning library : scikit-learn \n",
    " - Data wrangling : Pandas and Numpy\n",
    " - Plotting : matplotlib\n",
    "\n",
    "\n",
    "In the following blog, I am going to help you to understand the basic norms of natural language processing in order solve the problem of sentiment analysis. I have divided the whole content into following sub-topics:\n",
    "\t\t1. Problem Statement\n",
    "\t\t2. Problem Analysis\n",
    "\t\t3. Data Collection\n",
    "\t\t4. Model Development\n",
    "\t\t5. Analysis"
   ]
  },
  {
   "cell_type": "markdown",
   "metadata": {},
   "source": [
    "####  Problem Statement:\n",
    "\n",
    "Though there are lots of challenges out there that can be solved using data science, I come up with a very basic problem. Why I am choosing this -- simply because I do not want to waste my energy just by thinking about big problems and also not to waste your energy to read it and forget in couple of hours :). \n",
    "\n",
    "PROBLEM: We will classify the sentiment of news titles (Whether positive or negative or neutral.)"
   ]
  },
  {
   "cell_type": "markdown",
   "metadata": {},
   "source": [
    "#### Problem Analysis:\n",
    "\n",
    "For this part, we will answer following questions:\n",
    "\t   1. What will be the input for your program?\n",
    "\t   2. What output you are expecting ?\n",
    "          Whether it is continous value (something like given by regression model?) or   it is a label value (like spam or ham?)\n",
    "\t   3. What sort of problem is this?\n",
    "          Whether it is supervised or unsupervised learning? Is it a problem of classification or  clustering ? \n",
    "\t   4. What are the features you should take into account?\n",
    "\n",
    "\tAs we already know, the sentiment of any text can be classified into\n",
    "    three major categories (positive, negative, and neutral), the problem\n",
    "    is clearly a type of classification. And, we will be using labelled\n",
    "    data (supervised learning).\n",
    "\n",
    "\tYour ML model will not be able to predict the correctly if you don't\n",
    "    have enough training data.\n",
    "\n",
    "\tSuppose, you feed following two texts into your algorithm,\n",
    "\n",
    "\t'New government rule aganist people will' -->Negative\n",
    "\t'Government offers funding opportunities for the startups' -->Positive\n",
    "\n",
    "\tWhat would you expect if the new input text is\n",
    "\n",
    "\t'Tech Companies in Nepal are having problem to raise funds.\n",
    "    Nevertheless, they are doing great with customer acquisition'\n",
    "\n",
    "\tYour model is not being taught with this kind of complex structure.\n"
   ]
  },
  {
   "cell_type": "markdown",
   "metadata": {},
   "source": [
    "#### Data Collection:\n",
    "\n",
    "After you have your problem analysis, you should only focus couple of your days to gather the related data.\n",
    "\n",
    " a. Training / testing data collection\n",
    "\n",
    "\tI have collected data from news portal ekantipur.com for training/testing of our sentiment model.\n",
    "\n",
    " b. Unseen data collection\n",
    "    Unseen data set is collection of documents wihtout label. We will evaluate our final     model based on unseen data.\n",
    "\tIn my case, I need to collect news titles from the news portals. I chose our national daily paper (setopati.net) as a data source.\n"
   ]
  },
  {
   "cell_type": "code",
   "execution_count": 1,
   "metadata": {
    "collapsed": true
   },
   "outputs": [],
   "source": [
    "# Here is the sample code that I have used for scraping news site.\n",
    "# news_spider.py\n",
    "\n",
    "# This module scrolls through news site (ekantipur.com) and collects news titles.\n",
    "import time\n",
    "import csv\n",
    "\n",
    "from bs4 import BeautifulSoup\n",
    "\n",
    "from selenium import webdriver\n",
    "from selenium.webdriver.common.keys import Keys\n",
    "\n",
    "browser = webdriver.Chrome()\n",
    "\n",
    "browser.get(\"http://www.ekantipur.com/eng\")\n",
    "time.sleep(1)\n",
    "\n",
    "elem = browser.find_element_by_tag_name(\"body\")\n",
    "\n",
    "# set number of pages be scrolled\n",
    "no_of_pagedowns = 5\n",
    "\n",
    "# scroll page (handling infinite page scrolling)\n",
    "while no_of_pagedowns:\n",
    "    elem.send_keys(Keys.PAGE_DOWN)\n",
    "    time.sleep(0.2)\n",
    "    no_of_pagedowns -= 1\n",
    "\n",
    "content = browser.page_source\n",
    "soup = BeautifulSoup(content, \"html5lib\")\n",
    "browser.close()\n",
    "\n",
    "news_title_containers = soup.find_all(\n",
    "    \"div\", attrs={'class': 'display-news-title'})\n",
    "with open('news_titles.csv', 'w') as csv_file:\n",
    "    writer = csv.writer(csv_file)\n",
    "    for each_container in news_title_containers:\n",
    "        title_link = each_container.find('a')\n",
    "        news_title = title_link.string.strip()\n",
    "        writer.writerow([news_title])\n"
   ]
  },
  {
   "cell_type": "markdown",
   "metadata": {},
   "source": [
    "#### Model development\n",
    "\n",
    "Before starting on model development, you should be familiar with few terms that will help you to understand the process:\n",
    "\n",
    "i. Training and Testing\n",
    "\n",
    "This is the process of applying our model on data whose true classes are already known. Once the model is well trained with those data, we need to compute the proportion of the time our classifier will accurately predict the new data. This process is know as testing.\n",
    "\n",
    "ii. Bias(underfitting) and Variance(overfitting)\n",
    "\n",
    "Ideally, whenever we try to develop ML model, we try to capture all the features(information) of the training data and also want our model to generalize the output for unseen input data.\n",
    "\n",
    "<img src=\"final_draw.png\">\n",
    "In the diagram above, the linear model is underfit\n",
    " - The model doesn't take care of all the information provided (high bias)\n",
    " - If you provide new data to this model, it will not change it's behavior(shape) (low variance)\n",
    "\n",
    "\n",
    "On the other hand, the model with high degree polynomial at the right is overfit\n",
    " - The model will take into account all the data points (low bias)\n",
    " - The curve will try to change it's shape in order to capture new data points, loosing the generality of the model (high variance)\n",
    "\n",
    "\n",
    "iii. Cross Validation:\n",
    "\n",
    "Most of the time, when we are developing ML model we simply split the data randomly into train and test set and feed into our model. While doing so, we may have a high accuracy on that particular chunk of training data set. What if your model perform differently and give lower accuracy while feeding different chuncks of from the sama data points? So, in cross-validation, we will be creating number of train/test splits and measure the accuracy by calculating average on each of the spits.\n",
    "\n",
    "\n",
    "iv. Learning Curve\n",
    "\t\n",
    "  Learning curve helps to measure the performance of your model based on variations on your training data supply.\n",
    "\n",
    "   Why you need to plot learning curve?\n",
    "   - You can identify the correct spot on your curve where bias and variance is minimized."
   ]
  },
  {
   "cell_type": "markdown",
   "metadata": {},
   "source": [
    "I have divided the whole model development process into following subprocesses:\n",
    "\n",
    " #### A. Loading data / Split into training and test set\n",
    "\n",
    "I have divided the collected data by 80/20 for training and testing.\n"
   ]
  },
  {
   "cell_type": "code",
   "execution_count": 4,
   "metadata": {},
   "outputs": [
    {
     "data": {
      "text/html": [
       "<div>\n",
       "<style>\n",
       "    .dataframe thead tr:only-child th {\n",
       "        text-align: right;\n",
       "    }\n",
       "\n",
       "    .dataframe thead th {\n",
       "        text-align: left;\n",
       "    }\n",
       "\n",
       "    .dataframe tbody tr th {\n",
       "        vertical-align: top;\n",
       "    }\n",
       "</style>\n",
       "<table border=\"1\" class=\"dataframe\">\n",
       "  <thead>\n",
       "    <tr style=\"text-align: right;\">\n",
       "      <th></th>\n",
       "      <th>text</th>\n",
       "      <th>label</th>\n",
       "    </tr>\n",
       "  </thead>\n",
       "  <tbody>\n",
       "    <tr>\n",
       "      <th>0</th>\n",
       "      <td>Petrol bomb thrown at Suu Kyi’s villa, no injuries</td>\n",
       "      <td>-1</td>\n",
       "    </tr>\n",
       "    <tr>\n",
       "      <th>1</th>\n",
       "      <td>2 Nepalis killed in India road accident</td>\n",
       "      <td>-1</td>\n",
       "    </tr>\n",
       "    <tr>\n",
       "      <th>2</th>\n",
       "      <td>Province 3 Assembly meet concludes, sets date for Speaker election</td>\n",
       "      <td>0</td>\n",
       "    </tr>\n",
       "    <tr>\n",
       "      <th>3</th>\n",
       "      <td>Ton-up Malla hands Nepal second win</td>\n",
       "      <td>1</td>\n",
       "    </tr>\n",
       "    <tr>\n",
       "      <th>4</th>\n",
       "      <td>Shaktikhor industrial park begins DPR prep</td>\n",
       "      <td>0</td>\n",
       "    </tr>\n",
       "  </tbody>\n",
       "</table>\n",
       "</div>"
      ],
      "text/plain": [
       "                                                                 text label\n",
       "0  Petrol bomb thrown at Suu Kyi’s villa, no injuries                  -1  \n",
       "1  2 Nepalis killed in India road accident                             -1  \n",
       "2  Province 3 Assembly meet concludes, sets date for Speaker election  0   \n",
       "3  Ton-up Malla hands Nepal second win                                 1   \n",
       "4  Shaktikhor industrial park begins DPR prep                          0   "
      ]
     },
     "execution_count": 4,
     "metadata": {},
     "output_type": "execute_result"
    }
   ],
   "source": [
    "import pandas as pd\n",
    "pd.set_option('display.max_colwidth', -1)\n",
    "from sklearn.model_selection import train_test_split\n",
    "\n",
    "data = pd.read_csv(\n",
    "    'news_corpus/kantipur.csv',names=['text', 'label'],\n",
    "    dtype={'label': object})\n",
    "data.head(5)\n"
   ]
  },
  {
   "cell_type": "code",
   "execution_count": 6,
   "metadata": {},
   "outputs": [
    {
     "data": {
      "text/plain": [
       "array(['-1', '0', '1'], dtype=object)"
      ]
     },
     "execution_count": 6,
     "metadata": {},
     "output_type": "execute_result"
    }
   ],
   "source": [
    "# Let us remove rows having non label values\n",
    "\n",
    "data = data[data['label'].map(len) <=2]\n",
    "data['label'].unique()"
   ]
  },
  {
   "cell_type": "code",
   "execution_count": 7,
   "metadata": {},
   "outputs": [
    {
     "data": {
      "image/png": "[encoded data removed]",
      "text/plain": [
       "<matplotlib.figure.Figure at 0x7f0373d970b8>"
      ]
     },
     "metadata": {},
     "output_type": "display_data"
    }
   ],
   "source": [
    "\n",
    "%matplotlib inline\n",
    "\n",
    "import matplotlib.pyplot as plt\n",
    "\n",
    "data['label'].value_counts().plot(kind=\"bar\")\n",
    "plt.show()\n"
   ]
  },
  {
   "cell_type": "code",
   "execution_count": 83,
   "metadata": {
    "collapsed": true
   },
   "outputs": [],
   "source": [
    "# train/test data split\n",
    "train, test = train_test_split(data, test_size=0.2)\n"
   ]
  },
  {
   "cell_type": "markdown",
   "metadata": {},
   "source": [
    "#### B. Feature Extraction\n",
    "  i. We need to convert text data into numerical feature vectors\n",
    "  \n",
    "  Most of the algorithms expect numerical data rather than raw (a sequence of symbols). This process is called vectorization -- turning text documents into numerical representation. This whole process comprises of - tokenization, counting and normalization of data ( More specifically called prcess of Bag of Words). The document will be represented by the occurrences of words in the document rather than the relative position of them.\n",
    "  \n",
    "Let us have a closer look into vectorization"
   ]
  },
  {
   "cell_type": "code",
   "execution_count": 65,
   "metadata": {},
   "outputs": [
    {
     "data": {
      "text/plain": [
       "CountVectorizer(analyzer='word', binary=False, decode_error='strict',\n",
       "        dtype=<class 'numpy.int64'>, encoding='utf-8', input='content',\n",
       "        lowercase=True, max_df=1.0, max_features=None, min_df=1,\n",
       "        ngram_range=(1, 1), preprocessor=None, stop_words=None,\n",
       "        strip_accents=None, token_pattern='(?u)\\\\b\\\\w\\\\w+\\\\b',\n",
       "        tokenizer=None, vocabulary=None)"
      ]
     },
     "execution_count": 65,
     "metadata": {},
     "output_type": "execute_result"
    }
   ],
   "source": [
    "sample_train_data = ['Dispute delays National Assembly formation process',\n",
    "              'Country is looking to encourage entrepreneurs and startup process',\n",
    "              'Airline fuel surcharges to go up from Tuesday'] \n",
    "\n",
    "from sklearn.feature_extraction.text import CountVectorizer\n",
    "# instantiate Vectorizer\n",
    "vec = CountVectorizer()\n",
    "\n",
    "# feed/learn the 'vocabulary' of the training data\n",
    "vec.fit(sample_train_data)"
   ]
  },
  {
   "cell_type": "markdown",
   "metadata": {},
   "source": [
    "Looking at the definition above, the `CountVectorizer` simply make whole words lowercase, remove duplicates, and remove single word characters as suggested by regex."
   ]
  },
  {
   "cell_type": "code",
   "execution_count": 21,
   "metadata": {},
   "outputs": [
    {
     "data": {
      "text/plain": [
       "['airline',\n",
       " 'and',\n",
       " 'assembly',\n",
       " 'country',\n",
       " 'delays',\n",
       " 'dispute',\n",
       " 'encourage',\n",
       " 'entrepreneurs',\n",
       " 'formation',\n",
       " 'from',\n",
       " 'fuel',\n",
       " 'go',\n",
       " 'is',\n",
       " 'looking',\n",
       " 'national',\n",
       " 'process',\n",
       " 'startup',\n",
       " 'surcharges',\n",
       " 'to',\n",
       " 'tuesday',\n",
       " 'up']"
      ]
     },
     "execution_count": 21,
     "metadata": {},
     "output_type": "execute_result"
    }
   ],
   "source": [
    "# current fitted vocabulary\n",
    "vec.get_feature_names()"
   ]
  },
  {
   "cell_type": "markdown",
   "metadata": {},
   "source": [
    "Let us create a document-term matrix. This simply describes the occurence of terms collection of documents."
   ]
  },
  {
   "cell_type": "code",
   "execution_count": 22,
   "metadata": {},
   "outputs": [
    {
     "data": {
      "text/plain": [
       "<3x21 sparse matrix of type '<class 'numpy.int64'>'\n",
       "\twith 23 stored elements in Compressed Sparse Row format>"
      ]
     },
     "execution_count": 22,
     "metadata": {},
     "output_type": "execute_result"
    }
   ],
   "source": [
    "# transform training data into a 'document-term matrix'\n",
    "sample_train_dtm = vec.transform(sample_train_data)\n",
    "sample_train_dtm"
   ]
  },
  {
   "cell_type": "markdown",
   "metadata": {},
   "source": [
    "Looking at the output, we can see that it creates a matrix with 3 rows and 21 columns.\n",
    " - Here, 3 colums because we have three documents all together\n",
    " - And, 21 rows because we have 21 terms (learned during fitting step above)"
   ]
  },
  {
   "cell_type": "code",
   "execution_count": 23,
   "metadata": {},
   "outputs": [
    {
     "data": {
      "text/plain": [
       "array([[0, 0, 1, 0, 1, 1, 0, 0, 1, 0, 0, 0, 0, 0, 1, 1, 0, 0, 0, 0, 0],\n",
       "       [0, 1, 0, 1, 0, 0, 1, 1, 0, 0, 0, 0, 1, 1, 0, 1, 1, 0, 1, 0, 0],\n",
       "       [1, 0, 0, 0, 0, 0, 0, 0, 0, 1, 1, 1, 0, 0, 0, 0, 0, 1, 1, 1, 1]])"
      ]
     },
     "execution_count": 23,
     "metadata": {},
     "output_type": "execute_result"
    }
   ],
   "source": [
    "# let's observe the dense matrix\n",
    "sample_train_dtm.toarray()"
   ]
  },
  {
   "cell_type": "code",
   "execution_count": 24,
   "metadata": {},
   "outputs": [
    {
     "data": {
      "text/html": [
       "<div>\n",
       "<style>\n",
       "    .dataframe thead tr:only-child th {\n",
       "        text-align: right;\n",
       "    }\n",
       "\n",
       "    .dataframe thead th {\n",
       "        text-align: left;\n",
       "    }\n",
       "\n",
       "    .dataframe tbody tr th {\n",
       "        vertical-align: top;\n",
       "    }\n",
       "</style>\n",
       "<table border=\"1\" class=\"dataframe\">\n",
       "  <thead>\n",
       "    <tr style=\"text-align: right;\">\n",
       "      <th></th>\n",
       "      <th>airline</th>\n",
       "      <th>and</th>\n",
       "      <th>assembly</th>\n",
       "      <th>country</th>\n",
       "      <th>delays</th>\n",
       "      <th>dispute</th>\n",
       "      <th>encourage</th>\n",
       "      <th>entrepreneurs</th>\n",
       "      <th>formation</th>\n",
       "      <th>from</th>\n",
       "      <th>...</th>\n",
       "      <th>go</th>\n",
       "      <th>is</th>\n",
       "      <th>looking</th>\n",
       "      <th>national</th>\n",
       "      <th>process</th>\n",
       "      <th>startup</th>\n",
       "      <th>surcharges</th>\n",
       "      <th>to</th>\n",
       "      <th>tuesday</th>\n",
       "      <th>up</th>\n",
       "    </tr>\n",
       "  </thead>\n",
       "  <tbody>\n",
       "    <tr>\n",
       "      <th>0</th>\n",
       "      <td>0</td>\n",
       "      <td>0</td>\n",
       "      <td>1</td>\n",
       "      <td>0</td>\n",
       "      <td>1</td>\n",
       "      <td>1</td>\n",
       "      <td>0</td>\n",
       "      <td>0</td>\n",
       "      <td>1</td>\n",
       "      <td>0</td>\n",
       "      <td>...</td>\n",
       "      <td>0</td>\n",
       "      <td>0</td>\n",
       "      <td>0</td>\n",
       "      <td>1</td>\n",
       "      <td>1</td>\n",
       "      <td>0</td>\n",
       "      <td>0</td>\n",
       "      <td>0</td>\n",
       "      <td>0</td>\n",
       "      <td>0</td>\n",
       "    </tr>\n",
       "    <tr>\n",
       "      <th>1</th>\n",
       "      <td>0</td>\n",
       "      <td>1</td>\n",
       "      <td>0</td>\n",
       "      <td>1</td>\n",
       "      <td>0</td>\n",
       "      <td>0</td>\n",
       "      <td>1</td>\n",
       "      <td>1</td>\n",
       "      <td>0</td>\n",
       "      <td>0</td>\n",
       "      <td>...</td>\n",
       "      <td>0</td>\n",
       "      <td>1</td>\n",
       "      <td>1</td>\n",
       "      <td>0</td>\n",
       "      <td>1</td>\n",
       "      <td>1</td>\n",
       "      <td>0</td>\n",
       "      <td>1</td>\n",
       "      <td>0</td>\n",
       "      <td>0</td>\n",
       "    </tr>\n",
       "    <tr>\n",
       "      <th>2</th>\n",
       "      <td>1</td>\n",
       "      <td>0</td>\n",
       "      <td>0</td>\n",
       "      <td>0</td>\n",
       "      <td>0</td>\n",
       "      <td>0</td>\n",
       "      <td>0</td>\n",
       "      <td>0</td>\n",
       "      <td>0</td>\n",
       "      <td>1</td>\n",
       "      <td>...</td>\n",
       "      <td>1</td>\n",
       "      <td>0</td>\n",
       "      <td>0</td>\n",
       "      <td>0</td>\n",
       "      <td>0</td>\n",
       "      <td>0</td>\n",
       "      <td>1</td>\n",
       "      <td>1</td>\n",
       "      <td>1</td>\n",
       "      <td>1</td>\n",
       "    </tr>\n",
       "  </tbody>\n",
       "</table>\n",
       "<p>3 rows × 21 columns</p>\n",
       "</div>"
      ],
      "text/plain": [
       "   airline  and  assembly  country  delays  dispute  encourage  entrepreneurs  \\\n",
       "0        0    0         1        0       1        1          0              0   \n",
       "1        0    1         0        1       0        0          1              1   \n",
       "2        1    0         0        0       0        0          0              0   \n",
       "\n",
       "   formation  from ...  go  is  looking  national  process  startup  \\\n",
       "0          1     0 ...   0   0        0         1        1        0   \n",
       "1          0     0 ...   0   1        1         0        1        1   \n",
       "2          0     1 ...   1   0        0         0        0        0   \n",
       "\n",
       "   surcharges  to  tuesday  up  \n",
       "0           0   0        0   0  \n",
       "1           0   1        0   0  \n",
       "2           1   1        1   1  \n",
       "\n",
       "[3 rows x 21 columns]"
      ]
     },
     "execution_count": 24,
     "metadata": {},
     "output_type": "execute_result"
    }
   ],
   "source": [
    "# Let us see the complete data map using pandas\n",
    "import pandas as pd\n",
    "pd.DataFrame(sample_train_dtm.toarray(), columns=vec.get_feature_names())"
   ]
  },
  {
   "cell_type": "markdown",
   "metadata": {},
   "source": [
    "You can see that most of the feature values are `ZEROs`. Why is that? Because most of the documents can be represented by small sets of words. Suppose, you have collected almost 100 reviews (documents) from a site. Then, there could be all together 1000 unique words (corpus) and a single review (single document) might have 10 unique words. right?\n",
    "\n",
    "Storing such a big number of `ZEROs` does not make sense. So, scikit-learn internally uses `scipy.sparse` package to store such a matrix in memory and it also speed up the operations."
   ]
  },
  {
   "cell_type": "code",
   "execution_count": 25,
   "metadata": {
    "collapsed": true
   },
   "outputs": [],
   "source": [
    "# let us now test our model with new example \n",
    "sample_test_data = ['Country is looking to encourage agriculture schemes']"
   ]
  },
  {
   "cell_type": "code",
   "execution_count": 26,
   "metadata": {},
   "outputs": [
    {
     "data": {
      "text/plain": [
       "array([[0, 0, 0, 1, 0, 0, 1, 0, 0, 0, 0, 0, 1, 1, 0, 0, 0, 0, 1, 0, 0]])"
      ]
     },
     "execution_count": 26,
     "metadata": {},
     "output_type": "execute_result"
    }
   ],
   "source": [
    "# transform testing data into a document-term matrix (using existing vocabulary)\n",
    "sample_test_dtm = vec.transform(sample_test_data)\n",
    "sample_test_dtm.toarray()"
   ]
  },
  {
   "cell_type": "code",
   "execution_count": 27,
   "metadata": {},
   "outputs": [
    {
     "data": {
      "text/html": [
       "<div>\n",
       "<style>\n",
       "    .dataframe thead tr:only-child th {\n",
       "        text-align: right;\n",
       "    }\n",
       "\n",
       "    .dataframe thead th {\n",
       "        text-align: left;\n",
       "    }\n",
       "\n",
       "    .dataframe tbody tr th {\n",
       "        vertical-align: top;\n",
       "    }\n",
       "</style>\n",
       "<table border=\"1\" class=\"dataframe\">\n",
       "  <thead>\n",
       "    <tr style=\"text-align: right;\">\n",
       "      <th></th>\n",
       "      <th>airline</th>\n",
       "      <th>and</th>\n",
       "      <th>assembly</th>\n",
       "      <th>country</th>\n",
       "      <th>delays</th>\n",
       "      <th>dispute</th>\n",
       "      <th>encourage</th>\n",
       "      <th>entrepreneurs</th>\n",
       "      <th>formation</th>\n",
       "      <th>from</th>\n",
       "      <th>...</th>\n",
       "      <th>go</th>\n",
       "      <th>is</th>\n",
       "      <th>looking</th>\n",
       "      <th>national</th>\n",
       "      <th>process</th>\n",
       "      <th>startup</th>\n",
       "      <th>surcharges</th>\n",
       "      <th>to</th>\n",
       "      <th>tuesday</th>\n",
       "      <th>up</th>\n",
       "    </tr>\n",
       "  </thead>\n",
       "  <tbody>\n",
       "    <tr>\n",
       "      <th>0</th>\n",
       "      <td>0</td>\n",
       "      <td>0</td>\n",
       "      <td>0</td>\n",
       "      <td>1</td>\n",
       "      <td>0</td>\n",
       "      <td>0</td>\n",
       "      <td>1</td>\n",
       "      <td>0</td>\n",
       "      <td>0</td>\n",
       "      <td>0</td>\n",
       "      <td>...</td>\n",
       "      <td>0</td>\n",
       "      <td>1</td>\n",
       "      <td>1</td>\n",
       "      <td>0</td>\n",
       "      <td>0</td>\n",
       "      <td>0</td>\n",
       "      <td>0</td>\n",
       "      <td>1</td>\n",
       "      <td>0</td>\n",
       "      <td>0</td>\n",
       "    </tr>\n",
       "  </tbody>\n",
       "</table>\n",
       "<p>1 rows × 21 columns</p>\n",
       "</div>"
      ],
      "text/plain": [
       "   airline  and  assembly  country  delays  dispute  encourage  entrepreneurs  \\\n",
       "0        0    0         0        1       0        0          1              0   \n",
       "\n",
       "   formation  from ...  go  is  looking  national  process  startup  \\\n",
       "0          0     0 ...   0   1        1         0        0        0   \n",
       "\n",
       "   surcharges  to  tuesday  up  \n",
       "0           0   1        0   0  \n",
       "\n",
       "[1 rows x 21 columns]"
      ]
     },
     "execution_count": 27,
     "metadata": {},
     "output_type": "execute_result"
    }
   ],
   "source": [
    "# examine the vocabulary and document-term matrix together\n",
    "pd.DataFrame(sample_test_dtm.toarray(), columns=vec.get_feature_names())"
   ]
  },
  {
   "cell_type": "markdown",
   "metadata": {},
   "source": [
    "You can see that `agriculture` and  `schemes` are not the part of output. For our model, to make prediction about this new observation, this new data must have the same features as the training observations. We did not train on the features \"`agriculture` and  `schemes`\" so our model would not be able to predict. Make any sense ?"
   ]
  },
  {
   "cell_type": "markdown",
   "metadata": {
    "collapsed": true
   },
   "source": [
    "##### Problem with `CountVectorizer` **"
   ]
  },
  {
   "cell_type": "markdown",
   "metadata": {},
   "source": [
    "If are looking at two different documents talking about same topic, one bit longer than\n",
    "other, you will find the average count values in the longer one will be higher than\n",
    "the shorter document. That means, `CountVectorizer` simply gives equal weightage to each\n",
    "of the word present in your document (one word represents one column in DataFrame). And,\n",
    "when you have new document, it simply maps 1 if the word is present in that document\n",
    "otherwise map to 0.\n",
    "\n",
    "So as to avoid this problem, we can use `TfidfTransformer` which evaluates frequencies of \n",
    "words rather than their occurences in the document and helps model to figure out which of\n",
    "the word is more important in the document and also with respect to the corpus.\n",
    "\n",
    "\n",
    "#### Let's  take a closer look at `Tfidf`\n",
    "\n",
    "Suppose you have a corpus of documents talking about `Mountains`. Now, `Tfidf` will work in three different parts\n",
    "\n",
    "#### i. Term Frequency (Tf)\n",
    "  It simply looks for the number of times a particular term occurs in your single document.\n",
    "  Let's take an example. You can find word `is` in almost all of your documents. Do you think the word `is` has any credit to describe your document ? But, at the same time, if you find word `Everest` in the document, you can figure out that the document is about `Mountains`.\n",
    " So, we need to find a way to reduce the weightage of word `is`. One of the method is calculating reciprocal of the count value, which minimizes the significant of word `is` in the document. But, you might face another problem here. Suppose, you encounter a word in your document (let's say `stratovolcano` having rare occurence in your document). If you take reciprocal of this occurence, you will get 1 (or close to 1 - hightest weightage). But, this word does not give much sense about `Montains`.\n",
    " \n",
    "For now, we can keep the word count as follows:\n",
    "\n",
    "    `tf(\"is\") = 1000`\n",
    "    `tf(\"Everest\") = 50`\n",
    "    `tf(\"stratovolcano\") = 2`\n",
    "\n",
    "\n",
    "#### ii. Inverser Document Frequency (iDF)\n",
    "\n",
    "  The problem of occurence of rare and more frequent words will be handled by this method.\n",
    "   Inverser Document Frequency gives downscale weights for words that occur in many documents in the corpus by taking log of number of total documents in your corpus divided by the total number of documents having occurence of the word.\n",
    "   i.e iDF = log (total number of documents/ total documents with word occurence)\n",
    "   \n",
    "   Let's calculate iDF for above words. (Suppose we have total 20 documents)\n",
    "   \n",
    "    `iDF(\"is\") = log(20/20) = 0` , Since 'is' occurs in all the documents\n",
    "    `iDF(\"Everest\") = log(20/5) = 0.6`,  Since corpus is talking about 'Mountains'\n",
    "    `iDF(\"stratovolcano\") = log(10/1) = 1 `, Since `stratovolcano` occurs in one doc.\n",
    "   \n",
    "#### iii. TfiDF\n",
    "    \n",
    "    TfiDF = TF * iDF\n",
    "    \n",
    "    Therefore,\n",
    "        `TfiDF(\"is\") = 1000 * 0 = 0`\n",
    "        `TfiDF(\"Everest\") = 50 * 0.6 = 30`\n",
    "        `TfiDF(\"stratovolcano\") = 2 * 1 = 2`\n",
    "    \n",
    "   "
   ]
  },
  {
   "cell_type": "markdown",
   "metadata": {},
   "source": [
    "Let's calcuate TfiDF for our sample train data above."
   ]
  },
  {
   "cell_type": "code",
   "execution_count": 28,
   "metadata": {
    "collapsed": true
   },
   "outputs": [],
   "source": [
    "from sklearn.feature_extraction.text import TfidfVectorizer\n",
    "\n",
    "tfidf_vec = TfidfVectorizer()\n",
    "sample_train_tfidf = tfidf_vec.fit_transform(sample_train_data)"
   ]
  },
  {
   "cell_type": "code",
   "execution_count": 29,
   "metadata": {},
   "outputs": [
    {
     "data": {
      "text/html": [
       "<div>\n",
       "<style>\n",
       "    .dataframe thead tr:only-child th {\n",
       "        text-align: right;\n",
       "    }\n",
       "\n",
       "    .dataframe thead th {\n",
       "        text-align: left;\n",
       "    }\n",
       "\n",
       "    .dataframe tbody tr th {\n",
       "        vertical-align: top;\n",
       "    }\n",
       "</style>\n",
       "<table border=\"1\" class=\"dataframe\">\n",
       "  <thead>\n",
       "    <tr style=\"text-align: right;\">\n",
       "      <th></th>\n",
       "      <th>airline</th>\n",
       "      <th>and</th>\n",
       "      <th>assembly</th>\n",
       "      <th>country</th>\n",
       "      <th>delays</th>\n",
       "      <th>dispute</th>\n",
       "      <th>encourage</th>\n",
       "      <th>entrepreneurs</th>\n",
       "      <th>formation</th>\n",
       "      <th>from</th>\n",
       "      <th>...</th>\n",
       "      <th>go</th>\n",
       "      <th>is</th>\n",
       "      <th>looking</th>\n",
       "      <th>national</th>\n",
       "      <th>process</th>\n",
       "      <th>startup</th>\n",
       "      <th>surcharges</th>\n",
       "      <th>to</th>\n",
       "      <th>tuesday</th>\n",
       "      <th>up</th>\n",
       "    </tr>\n",
       "  </thead>\n",
       "  <tbody>\n",
       "    <tr>\n",
       "      <th>0</th>\n",
       "      <td>0.000000</td>\n",
       "      <td>0.000000</td>\n",
       "      <td>0.423394</td>\n",
       "      <td>0.000000</td>\n",
       "      <td>0.423394</td>\n",
       "      <td>0.423394</td>\n",
       "      <td>0.000000</td>\n",
       "      <td>0.000000</td>\n",
       "      <td>0.423394</td>\n",
       "      <td>0.000000</td>\n",
       "      <td>...</td>\n",
       "      <td>0.000000</td>\n",
       "      <td>0.000000</td>\n",
       "      <td>0.000000</td>\n",
       "      <td>0.423394</td>\n",
       "      <td>0.322002</td>\n",
       "      <td>0.000000</td>\n",
       "      <td>0.000000</td>\n",
       "      <td>0.000000</td>\n",
       "      <td>0.000000</td>\n",
       "      <td>0.000000</td>\n",
       "    </tr>\n",
       "    <tr>\n",
       "      <th>1</th>\n",
       "      <td>0.000000</td>\n",
       "      <td>0.350139</td>\n",
       "      <td>0.000000</td>\n",
       "      <td>0.350139</td>\n",
       "      <td>0.000000</td>\n",
       "      <td>0.000000</td>\n",
       "      <td>0.350139</td>\n",
       "      <td>0.350139</td>\n",
       "      <td>0.000000</td>\n",
       "      <td>0.000000</td>\n",
       "      <td>...</td>\n",
       "      <td>0.000000</td>\n",
       "      <td>0.350139</td>\n",
       "      <td>0.350139</td>\n",
       "      <td>0.000000</td>\n",
       "      <td>0.266290</td>\n",
       "      <td>0.350139</td>\n",
       "      <td>0.000000</td>\n",
       "      <td>0.266290</td>\n",
       "      <td>0.000000</td>\n",
       "      <td>0.000000</td>\n",
       "    </tr>\n",
       "    <tr>\n",
       "      <th>2</th>\n",
       "      <td>0.363255</td>\n",
       "      <td>0.000000</td>\n",
       "      <td>0.000000</td>\n",
       "      <td>0.000000</td>\n",
       "      <td>0.000000</td>\n",
       "      <td>0.000000</td>\n",
       "      <td>0.000000</td>\n",
       "      <td>0.000000</td>\n",
       "      <td>0.000000</td>\n",
       "      <td>0.363255</td>\n",
       "      <td>...</td>\n",
       "      <td>0.363255</td>\n",
       "      <td>0.000000</td>\n",
       "      <td>0.000000</td>\n",
       "      <td>0.000000</td>\n",
       "      <td>0.000000</td>\n",
       "      <td>0.000000</td>\n",
       "      <td>0.363255</td>\n",
       "      <td>0.276265</td>\n",
       "      <td>0.363255</td>\n",
       "      <td>0.363255</td>\n",
       "    </tr>\n",
       "  </tbody>\n",
       "</table>\n",
       "<p>3 rows × 21 columns</p>\n",
       "</div>"
      ],
      "text/plain": [
       "    airline       and  assembly   country    delays   dispute  encourage  \\\n",
       "0  0.000000  0.000000  0.423394  0.000000  0.423394  0.423394   0.000000   \n",
       "1  0.000000  0.350139  0.000000  0.350139  0.000000  0.000000   0.350139   \n",
       "2  0.363255  0.000000  0.000000  0.000000  0.000000  0.000000   0.000000   \n",
       "\n",
       "   entrepreneurs  formation      from    ...           go        is   looking  \\\n",
       "0       0.000000   0.423394  0.000000    ...     0.000000  0.000000  0.000000   \n",
       "1       0.350139   0.000000  0.000000    ...     0.000000  0.350139  0.350139   \n",
       "2       0.000000   0.000000  0.363255    ...     0.363255  0.000000  0.000000   \n",
       "\n",
       "   national   process   startup  surcharges        to   tuesday        up  \n",
       "0  0.423394  0.322002  0.000000    0.000000  0.000000  0.000000  0.000000  \n",
       "1  0.000000  0.266290  0.350139    0.000000  0.266290  0.000000  0.000000  \n",
       "2  0.000000  0.000000  0.000000    0.363255  0.276265  0.363255  0.363255  \n",
       "\n",
       "[3 rows x 21 columns]"
      ]
     },
     "execution_count": 29,
     "metadata": {},
     "output_type": "execute_result"
    }
   ],
   "source": [
    "pd.DataFrame(sample_train_tfidf.toarray(), columns=tfidf_vec.get_feature_names())"
   ]
  },
  {
   "cell_type": "markdown",
   "metadata": {},
   "source": [
    "Let us discuss few questions regarding feature engineering.\n",
    "\n",
    "#### Why do you need to vectorize the words?\n",
    " - Raw text data can not be directly fed into machine learning model. So, text to vector conversion PIPE-line consists of following process:\n",
    "\n",
    "    * Tokenization : When we convert our text into list of words by removing stop words and punctuations, we assign individual string an id value.\n",
    "     \n",
    "    * Frequency counting :  We count the occurence of individual token into each of the document.\n",
    "    * Normalizing :  We reduce the importance of token having frequent occurence in majority of documents by giving it lower weight.\n",
    "\n",
    "  At the end, the token occurrene frequency is our feature for the model.reated as a feature.\n",
    "  \n",
    "####  Why do you need to do data standardization?\n",
    "   - "
   ]
  },
  {
   "cell_type": "markdown",
   "metadata": {},
   "source": [
    "### C. Choose estimator"
   ]
  },
  {
   "cell_type": "markdown",
   "metadata": {},
   "source": [
    "I will be using `SVM` as my estimator. We will not talk details on SVM because it might take long hours to understand the algorithms.\n",
    "In brief, `linear SVM` tries to find an optimal vector ( a line) sperating two data points i.e classifying data. \n"
   ]
  },
  {
   "cell_type": "code",
   "execution_count": 8,
   "metadata": {
    "collapsed": true
   },
   "outputs": [],
   "source": [
    "# news_classifier.py\n",
    "import pickle\n",
    "import csv\n",
    "import pandas as pd\n",
    "\n",
    "from sklearn.feature_extraction.text import TfidfVectorizer\n",
    "from sklearn import svm\n",
    "\n",
    "class NewsClassification:\n",
    "    def __init__(self):\n",
    "        self.train_data = []\n",
    "        self.train_labels = []\n",
    "        self.test_data = []\n",
    "        self.test_labels = []\n",
    "\n",
    "        self.train_vectors = None\n",
    "        self.test_vectors = None\n",
    "        self.vectorizer = TfidfVectorizer()\n",
    "        self.model = None\n",
    "\n",
    "    def prepare_feature_vectors(self):\n",
    "        # Train the feature vectors\n",
    "        self.train_vectors = self.vectorizer.fit_transform(self.train_data)\n",
    "        # Apply model on test data\n",
    "        # : since they have already been fit to the training set\n",
    "        self.test_vectors = self.vectorizer.transform(self.test_data)\n",
    "\n",
    "    def prepare_model(self):\n",
    "        self.model = svm.SVC(kernel='linear', class_weight=\"balanced\")\n",
    "        self.model.fit(self.train_vectors, self.train_labels)\n",
    "\n",
    "        # let's save our model using pickle.\n",
    "        # we will using this model later for unseen data as well.\n",
    "        data_struct = {'vectorizer': self.vectorizer, 'model': self.model}\n",
    "        with open('%s.bin' % 'linear', 'wb') as f:\n",
    "            pickle.dump(data_struct, f)\n",
    "\n",
    "\n",
    "if __name__ == '__main__':\n",
    "    news_classifier = NewsClassification()\n",
    "    data = pd.read_csv(\n",
    "        'news_corpus/kantipur.csv',\n",
    "        names=['text', 'label'], dtype={'label': object})\n",
    "\n",
    "    data = data[data['label'].map(len) <= 2]\n",
    "    train, test = train_test_split(data, test_size=0.2)\n",
    "\n",
    "    news_classifier = NewsClassification()\n",
    "    news_classifier.train_data, news_classifier.train_labels =\\\n",
    "        train['text'], train['label']\n",
    "    news_classifier.test_data, news_classifier.test_labels =\\\n",
    "        test['text'], test['label']\n",
    "\n",
    "    news_classifier.prepare_feature_vectors()\n",
    "    news_classifier.prepare_model()\n",
    "    "
   ]
  },
  {
   "cell_type": "markdown",
   "metadata": {},
   "source": [
    "#### D. Prediction with test data"
   ]
  },
  {
   "cell_type": "code",
   "execution_count": 9,
   "metadata": {},
   "outputs": [
    {
     "name": "stderr",
     "output_type": "stream",
     "text": [
      "/home/leapfrong/workspace/envs/envpractice/lib/python3.5/site-packages/ipykernel_launcher.py:4: SettingWithCopyWarning: \n",
      "A value is trying to be set on a copy of a slice from a DataFrame.\n",
      "Try using .loc[row_indexer,col_indexer] = value instead\n",
      "\n",
      "See the caveats in the documentation: http://pandas.pydata.org/pandas-docs/stable/indexing.html#indexing-view-versus-copy\n",
      "  after removing the cwd from sys.path.\n"
     ]
    },
    {
     "data": {
      "text/html": [
       "<div>\n",
       "<style>\n",
       "    .dataframe thead tr:only-child th {\n",
       "        text-align: right;\n",
       "    }\n",
       "\n",
       "    .dataframe thead th {\n",
       "        text-align: left;\n",
       "    }\n",
       "\n",
       "    .dataframe tbody tr th {\n",
       "        vertical-align: top;\n",
       "    }\n",
       "</style>\n",
       "<table border=\"1\" class=\"dataframe\">\n",
       "  <thead>\n",
       "    <tr style=\"text-align: right;\">\n",
       "      <th></th>\n",
       "      <th>text</th>\n",
       "      <th>label</th>\n",
       "      <th>prediction</th>\n",
       "    </tr>\n",
       "  </thead>\n",
       "  <tbody>\n",
       "    <tr>\n",
       "      <th>3173</th>\n",
       "      <td>Spritz text streaming technology increases reading speed</td>\n",
       "      <td>1</td>\n",
       "      <td>1</td>\n",
       "    </tr>\n",
       "    <tr>\n",
       "      <th>1680</th>\n",
       "      <td>I must say I have taped most of the episodes and i find myself watching them over and over again.</td>\n",
       "      <td>1</td>\n",
       "      <td>-1</td>\n",
       "    </tr>\n",
       "    <tr>\n",
       "      <th>1373</th>\n",
       "      <td>LASANAA’s latest art residency concludes with an exhibit</td>\n",
       "      <td>1</td>\n",
       "      <td>1</td>\n",
       "    </tr>\n",
       "    <tr>\n",
       "      <th>814</th>\n",
       "      <td>Indian envoy Puri calls on PM Deuba</td>\n",
       "      <td>0</td>\n",
       "      <td>0</td>\n",
       "    </tr>\n",
       "    <tr>\n",
       "      <th>2681</th>\n",
       "      <td>Stock futures down slightly; Coca-Cola cuts executive pay; Chiquita top banana  ...</td>\n",
       "      <td>-1</td>\n",
       "      <td>1</td>\n",
       "    </tr>\n",
       "  </tbody>\n",
       "</table>\n",
       "</div>"
      ],
      "text/plain": [
       "                                                                                                     text  \\\n",
       "3173  Spritz text streaming technology increases reading speed                                              \n",
       "1680  I must say I have taped most of the episodes and i find myself watching them over and over again.     \n",
       "1373  LASANAA’s latest art residency concludes with an exhibit                                              \n",
       "814   Indian envoy Puri calls on PM Deuba                                                                   \n",
       "2681  Stock futures down slightly; Coca-Cola cuts executive pay; Chiquita top banana  ...                   \n",
       "\n",
       "     label prediction  \n",
       "3173  1     1          \n",
       "1680  1     -1         \n",
       "1373  1     1          \n",
       "814   0     0          \n",
       "2681  -1    1          "
      ]
     },
     "execution_count": 9,
     "metadata": {},
     "output_type": "execute_result"
    }
   ],
   "source": [
    "# let's run prediction with our test data\n",
    "prediction = news_classifier.model.predict(news_classifier.test_vectors)\n",
    "\n",
    "test['prediction'] = prediction\n",
    "\n",
    "test.tail(5)"
   ]
  },
  {
   "cell_type": "markdown",
   "metadata": {},
   "source": [
    "#### E. Prediction of unseen data"
   ]
  },
  {
   "cell_type": "code",
   "execution_count": 10,
   "metadata": {},
   "outputs": [
    {
     "data": {
      "text/html": [
       "<div>\n",
       "<style>\n",
       "    .dataframe thead tr:only-child th {\n",
       "        text-align: right;\n",
       "    }\n",
       "\n",
       "    .dataframe thead th {\n",
       "        text-align: left;\n",
       "    }\n",
       "\n",
       "    .dataframe tbody tr th {\n",
       "        vertical-align: top;\n",
       "    }\n",
       "</style>\n",
       "<table border=\"1\" class=\"dataframe\">\n",
       "  <thead>\n",
       "    <tr style=\"text-align: right;\">\n",
       "      <th></th>\n",
       "      <th>text</th>\n",
       "      <th>sentiment</th>\n",
       "    </tr>\n",
       "  </thead>\n",
       "  <tbody>\n",
       "    <tr>\n",
       "      <th>0</th>\n",
       "      <td>VP Pun stresses on making 21st century as SAARC era</td>\n",
       "      <td>positive</td>\n",
       "    </tr>\n",
       "    <tr>\n",
       "      <th>1</th>\n",
       "      <td>Oli, Swaraj have 45-min one-on-one meeting at Soaltee</td>\n",
       "      <td>negative</td>\n",
       "    </tr>\n",
       "    <tr>\n",
       "      <th>2</th>\n",
       "      <td>Kenya’s High Court orders government’s TV shutdown to end</td>\n",
       "      <td>neutral</td>\n",
       "    </tr>\n",
       "    <tr>\n",
       "      <th>3</th>\n",
       "      <td>UML directs its National Assembly voters not to leave country, provinces until election</td>\n",
       "      <td>negative</td>\n",
       "    </tr>\n",
       "    <tr>\n",
       "      <th>4</th>\n",
       "      <td>Swaraj arrives in Kathmandu</td>\n",
       "      <td>neutral</td>\n",
       "    </tr>\n",
       "  </tbody>\n",
       "</table>\n",
       "</div>"
      ],
      "text/plain": [
       "                                                                                      text  \\\n",
       "0  VP Pun stresses on making 21st century as SAARC era                                       \n",
       "1  Oli, Swaraj have 45-min one-on-one meeting at Soaltee                                     \n",
       "2  Kenya’s High Court orders government’s TV shutdown to end                                 \n",
       "3  UML directs its National Assembly voters not to leave country, provinces until election   \n",
       "4  Swaraj arrives in Kathmandu                                                               \n",
       "\n",
       "  sentiment  \n",
       "0  positive  \n",
       "1  negative  \n",
       "2  neutral   \n",
       "3  negative  \n",
       "4  neutral   "
      ]
     },
     "execution_count": 10,
     "metadata": {},
     "output_type": "execute_result"
    }
   ],
   "source": [
    "# let's run our model against news titles that we scraped before\n",
    "with open('linear.bin', 'rb') as model_file, open('news_corpus/setopati.csv', 'r') as data_file:\n",
    "        data_struct = pickle.load(model_file)\n",
    "        vectorizer, model = data_struct['vectorizer'], data_struct['model']\n",
    "\n",
    "        reader = data_file.readlines()\n",
    "        data = [row.replace('\\n', '') for row in reader]\n",
    "\n",
    "        # vectorize the raw data\n",
    "        new_data_vectors = vectorizer.transform(data)\n",
    "        predictions = model.predict(new_data_vectors)\n",
    "\n",
    "values = pd.Series(['positive' if prediction ==\n",
    "                    '1' else 'negative' if prediction ==  '-1'\n",
    "                    else 'neutral' for prediction in predictions])\n",
    "output = pd.DataFrame()\n",
    "output['text'] = data\n",
    "output['sentiment'] = values\n",
    "pd.set_option('display.max_colwidth', -1)\n",
    "output.head(5)"
   ]
  },
  {
   "cell_type": "markdown",
   "metadata": {},
   "source": [
    "### Analysis"
   ]
  },
  {
   "cell_type": "markdown",
   "metadata": {
    "collapsed": true
   },
   "source": [
    "#### Model Evaluation\n",
    "\n",
    "There are different appoaches evaluating for model performance and error analysis. And, this particularly depends upon type of problem we are solving. Since our problem falls under classification, we need to identify which class defines positive result and which one negative. In our case, we assume that predicting 'positive' class is a positive result. \n",
    "If our model is predicting input text as 'positive' and it really has 'positive' label in test data, then it is called True positive. Why True Positive? 'True' because the real class of the input data matched the prediction, and 'Positive' as we have assumed predicting 'positive' is Postive result above.\n",
    "On the other hand, if our model predicted an input text as 'positive' though it is 'negative' in real, it is called False Positive. 'False' because the real class of the input data did not match with the predicted value, and 'Positive' as prediction 'positve' class matched our assumption above.\n",
    "\n",
    "While deriving model performance and error analysis, we should always consider test data. Using training data will not make much sense as our model will be baised to give the actual prediction.\n"
   ]
  },
  {
   "cell_type": "markdown",
   "metadata": {},
   "source": [
    "##### i. Accuracy\n",
    "  - It measures percentage of correct predictions .i.e the number of correct predictions\n",
    " made by our model divided by the total number of predictions."
   ]
  },
  {
   "cell_type": "code",
   "execution_count": 11,
   "metadata": {},
   "outputs": [
    {
     "name": "stdout",
     "output_type": "stream",
     "text": [
      "0.669738863287\n"
     ]
    }
   ],
   "source": [
    "from sklearn import metrics\n",
    "print(metrics.accuracy_score(news_classifier.test_labels, prediction))\n"
   ]
  },
  {
   "cell_type": "markdown",
   "metadata": {},
   "source": [
    "ii. Cross validation accuracy\n",
    "   -  `cross_val_score` splits the data into say 10 folds. And, it fits with 9 folds into your model and find scores with 10th fold data. Then it gives you the 10 scores from which you can calculate a mean for average score of total folds."
   ]
  },
  {
   "cell_type": "code",
   "execution_count": 12,
   "metadata": {},
   "outputs": [
    {
     "name": "stdout",
     "output_type": "stream",
     "text": [
      "0.681921762611\n"
     ]
    }
   ],
   "source": [
    "from sklearn.model_selection import cross_val_score\n",
    "results_svm_cv = cross_val_score(\n",
    "        news_classifier.model,\n",
    "        news_classifier.train_vectors,\n",
    "        news_classifier.train_labels,\n",
    "        cv=10, scoring='accuracy')\n",
    "print(results_svm_cv.mean())"
   ]
  },
  {
   "cell_type": "markdown",
   "metadata": {},
   "source": [
    "####  NOTE : Test data accuracy is near to cross validation accuracy."
   ]
  },
  {
   "cell_type": "markdown",
   "metadata": {},
   "source": [
    "##### iii. Confusion Matrix\n",
    "  - This matrix helps you to understand the types of errors made by our classifier."
   ]
  },
  {
   "cell_type": "code",
   "execution_count": 13,
   "metadata": {},
   "outputs": [
    {
     "name": "stdout",
     "output_type": "stream",
     "text": [
      "[[168  56  39]\n",
      " [ 35 139  31]\n",
      " [ 22  32 129]]\n"
     ]
    }
   ],
   "source": [
    "conf_mat = metrics.confusion_matrix(\n",
    "    news_classifier.test_labels, prediction,\n",
    "    labels=['1', '-1', '0']\n",
    ")\n",
    "print(conf_mat)"
   ]
  },
  {
   "cell_type": "markdown",
   "metadata": {},
   "source": [
    "* Here, we have 222 (128+94) misclassified data out of 1000."
   ]
  },
  {
   "cell_type": "code",
   "execution_count": 14,
   "metadata": {},
   "outputs": [
    {
     "data": {
      "image/png": "[encoded data removed]",
      "text/plain": [
       "<matplotlib.figure.Figure at 0x7f036f8f3e80>"
      ]
     },
     "metadata": {},
     "output_type": "display_data"
    }
   ],
   "source": [
    "# Let's plot the matrix so that it will be more easier to see the model performance\n",
    "import matplotlib.pyplot as plt\n",
    "import numpy as np\n",
    "\n",
    "plt.clf()\n",
    "img = plt.imshow(conf_mat, interpolation='nearest')\n",
    "img.set_cmap('winter_r')\n",
    "class_names = ['Positive', 'Negative', 'Neutral']\n",
    "plt.title('Positive : Negative Sentiment Confusion Matrix', fontsize=\"15\", color=\"red\")\n",
    "plt.ylabel('True label')\n",
    "plt.xlabel('Predicted label')\n",
    "\n",
    "tick_marks = np.arange(len(class_names))\n",
    "plt.xticks(tick_marks, class_names, rotation=45)\n",
    "plt.yticks(tick_marks, class_names)\n",
    "conf_labels = [['TP', 'FN'], ['FP', 'TN']]\n",
    "for i in range(3):\n",
    "    for j in range(3):\n",
    "        plt.text(j, i, str(conf_mat[i][j]))\n",
    "plt.show()\n"
   ]
  },
  {
   "cell_type": "markdown",
   "metadata": {},
   "source": [
    "\n",
    "TP = True positive , FN = False Negative, \n",
    " - TP_A (168) : sentiments our model thinks are \"positive\" and are \"positive\" in reality.\n",
    " - FN_A (56 + 39 = 95) : sentiments our model thinks are \"negative\" or \"neutral\" but they are \"positive\".\n",
    " - FP_A (35 + 22 = 57) : sentiments our model thinks are \"positive\" but they are \"negative\" or \"neutral\" in reality.\n",
    " - TP_B (139) : sentiments our model thinks are \"negative\" and are \"negative\" in reality.\n",
    " - FN_B (35 + 31 = 66) : sentiments our model thinks are \"positive\" or \"neutral\" but they are \"negative\" in reality.\n",
    " - FP_B (56 + 32 = 88) : sentiments our model thinks are \"negative\" but they are \"positive\" or \"neutral\" in reality."
   ]
  },
  {
   "cell_type": "markdown",
   "metadata": {},
   "source": [
    "#### Recall\n",
    "##### -  There are total 217 (122 + 95) positive labels. And, our model is successfully identified 168 as positive\n",
    " i.e recall = 168/217 = 0.774  (TP/(TP+FN))\n",
    "  -  Recall measures the ability of the classifier to find all the positive data points.\n",
    "  \n",
    "#### Precision\n",
    "##### -  Out of 225 (168 + 57) predicted positive labels, only 168 are real positives.\n",
    " i.e precision = 168 /225 = 0.746 (TP/(TP+FP))\n",
    "  -  It simply measures the proportion of correct positive predictions out of all positive predictions made by our model."
   ]
  },
  {
   "cell_type": "markdown",
   "metadata": {
    "collapsed": true
   },
   "source": [
    "iv. Hypterparamter tuning\n",
    "  - Until now, we are looking at training data to measure the accuracy of our model.\n",
    "    But, there are also other parameters which are not the part of model\n",
    "    training process. These parameters are called `hyperparameters`,\n",
    "    which defines areas like - the complexity of model and how fast\n",
    "    the model should learn.\n",
    "    So as to select best parameters, we simply set different values for each of \n",
    "    the hyperparamters and decide which combination gives the best result.\n"
   ]
  },
  {
   "cell_type": "code",
   "execution_count": 16,
   "metadata": {},
   "outputs": [
    {
     "name": "stdout",
     "output_type": "stream",
     "text": [
      "Best estimator found by grid search:\n",
      "SVC(C=10, cache_size=200, class_weight='balanced', coef0=0.0,\n",
      "  decision_function_shape='ovr', degree=3, gamma=0.78475997035146072,\n",
      "  kernel='rbf', max_iter=-1, probability=False, random_state=None,\n",
      "  shrinking=True, tol=0.001, verbose=False)\n"
     ]
    }
   ],
   "source": [
    "\n",
    "from sklearn.grid_search import GridSearchCV\n",
    "param_grid = {\n",
    "        'C': [0.01, 0.1, 1, 10, 100],\n",
    "        'kernel': ['rbf', 'linear'],\n",
    "        'gamma': np.logspace(-3, 2, 20)}\n",
    "clf = GridSearchCV(svm.SVC(class_weight='balanced'), param_grid)\n",
    "clf = clf.fit(news_classifier.train_vectors, news_classifier.train_labels)\n",
    "print(\"Best estimator found by grid search:\")\n",
    "print(clf.best_estimator_)"
   ]
  },
  {
   "cell_type": "markdown",
   "metadata": {},
   "source": [
    "v. Learning curve\n",
    " - Learning curve depicts the behavior of model while increasing the number of train data points.\n",
    " http://scikit-learn.org/stable/auto_examples/model_selection/plot_learning_curve.html"
   ]
  },
  {
   "cell_type": "code",
   "execution_count": null,
   "metadata": {
    "collapsed": true
   },
   "outputs": [],
   "source": [
    "title = 'Learning Curve : (SVM, linear kernel, $\\gamma=%.4f$)' % clf.best_estimator_.gamma\n",
    "estimator = svm.SVC(kernel='rbf', gamma=clf.best_estimator_.gamma, C = 10)\n",
    "plot_learning_curve(\n",
    "    estimator, title, news_classifier.train_vectors,\n",
    "    news_classifier.train_labels,\n",
    "    cv=10)"
   ]
  },
  {
   "cell_type": "markdown",
   "metadata": {},
   "source": [
    "<img src=\"learningcurve.png\">"
   ]
  },
  {
   "cell_type": "markdown",
   "metadata": {},
   "source": [
    " - In the figure, we can see that validation score increases with growing training instances, while the training score remains constant with a growing training sets. \n",
    " - Here, increasing training set size will obviously increase the validation score.\n",
    " - So, it can be concluded that 'rbf' kernel is a high variance estimator which over-fits our data. This high variance model can be improved by adding more training samples.\n"
   ]
  },
  {
   "cell_type": "markdown",
   "metadata": {
    "collapsed": true
   },
   "source": [
    "In my opinion, sentiment analysis can not be totally derived from concrete science as we are dealing with emotions and feelings of people. The best observation could be testing whether our classifier is good to predict correct output in unseen data set. And, at the same time, the selection of best classifier depends upon your need as well. For example, you are developing a model to classify patients cancer diagnosis report. Here, if you model happens to have higher False Positive value (means you model is saying that patient have cancer when they do not), it is a critical issue. In such case, you should look for a better model, try to use different classifier with different parameters for your test data, and figure out the best one.s"
   ]
  },
  {
   "cell_type": "code",
   "execution_count": null,
   "metadata": {
    "collapsed": true
   },
   "outputs": [],
   "source": []
  }
 ],
 "metadata": {
  "kernelspec": {
   "display_name": "Python 3",
   "language": "python",
   "name": "python3"
  },
  "language_info": {
   "codemirror_mode": {
    "name": "ipython",
    "version": 3
   },
   "file_extension": ".py",
   "mimetype": "text/x-python",
   "name": "python",
   "nbconvert_exporter": "python",
   "pygments_lexer": "ipython3",
   "version": "3.5.2"
  }
 },
 "nbformat": 4,
 "nbformat_minor": 2
}
