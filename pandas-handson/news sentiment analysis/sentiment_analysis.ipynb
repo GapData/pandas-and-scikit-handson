{
 "cells": [
  {
   "cell_type": "markdown",
   "metadata": {},
   "source": [
    "Sentiment analysis has been using as a tool to cassify response from your user/customer as 'positive' or 'negative' or even 'neutral'.\n",
    "\n",
    "Before use of sentiment analysis algorithms, people were trying to evaluate those user response based on simple practices like : extracting keywords from the content and restricting their findings only on 'what people are talking about?'.\n",
    "This will never helps you out to answer few important questions 'What people are feeling and thinking about your product?'. That means only the explicit statements/reviews or opinions will have measurable output with your old approach. What would you do with large number of implicit comments?\n",
    "\n",
    "Even though, it is extremely arduous to determine the actual tone from given text, we can try to develop a more accurate version of our older one.\n",
    "\n",
    "In the following blog, I am going to help you to understand the basic norms natural language processing in order solve the problem of sentiment analysis. I have divided the whole content into following sub-topics:\n",
    "\t\t1. Problem Statement\n",
    "\t\t2. Problem Analysis\n",
    "\t\t2. Data Collection\n",
    "\t\t3. Model Development\n",
    "\t\t4. Analysis"
   ]
  },
  {
   "cell_type": "markdown",
   "metadata": {},
   "source": [
    "####  Problem Statement:\n",
    "\n",
    "Though there are lots of challenges out there that can be solved using data science, I come up with a very basic problem. Why I am choosing this -- simply because I do not want to waste my energy just by thinking about big problems and also not to waste your energy to read it and forget in couple of hours :). \n",
    "\n",
    "PROBLEM: We have to classify the sentiment of news titles (Whether positive or negative.)"
   ]
  },
  {
   "cell_type": "markdown",
   "metadata": {},
   "source": [
    "#### Problem Analysis:\n",
    "\n",
    "For this part, you should be able to answer following questions:\n",
    "\t   1. What will be the input for your program?\n",
    "\t   2. What output you are expecting ?\n",
    "          Whether it is continous value (something like given by regression model?) or   it is a label value (like spam or ham?)\n",
    "\t   3. What sort of problem is this?\n",
    "          Whether it is supervised or unsupervised learning? Is it a problem of classification or  clustering ? \n",
    "\t   4. What are the features you should take into account?\n",
    "\n",
    "\tAs we already know, the sentiment of any text can be classified into\n",
    "    three major categories (positive, negative, and neutral), the problem\n",
    "    is clearly a type of classification. And, we will be using labelled\n",
    "    data (supervised learning).\n",
    "\n",
    "\tYour ML model will not be able to predict the correctly if you don't\n",
    "    have enough training data.\n",
    "\n",
    "\tSuppose, you feed following two texts into your algorithm,\n",
    "\n",
    "\t'New government rule aganist people will' -->Negative\n",
    "\t'Government offers funding opportunities for the startups' -->Positive\n",
    "\n",
    "\tWhat would you expect if the new input text is\n",
    "\n",
    "\t'Tech Companies in Nepal are having problem to raise funds.\n",
    "    Nevertheless, they are doing great with customer acquisition'\n",
    "\n",
    "\tYour model is not being taught with this kind of complex structure.\n"
   ]
  },
  {
   "cell_type": "markdown",
   "metadata": {},
   "source": [
    "#### Data Collection:\n",
    "\n",
    "After you have your problem analysis, you should only focus couple of your days to gather the related data.\n",
    "\n",
    " a. Training / testing data collection\n",
    "\n",
    "\tI have found labelled data maintained by UCI Machine Learning Repository. The data consists of product reviews and labelled as 1 for positive and 0 for negative responses.\n",
    "\n",
    "\t\thttps://archive.ics.uci.edu/ml/datasets/Sentiment+Labelled+Sentences\n",
    "\n",
    " b. Unseen data collection\n",
    "    Unseen data set is collection of documents wihtout label. We will evaluate our final     model based on unseen data.\n",
    "\tIn my case, I need to collect news titles from the news portals. I chose our national daily paper ( http://www.ekantipur.com/eng) as a data source.\n"
   ]
  },
  {
   "cell_type": "code",
   "execution_count": 1,
   "metadata": {
    "collapsed": true
   },
   "outputs": [],
   "source": [
    "# Here is the sample code that I have used for scraping news site.\n",
    "# news_spider.py\n",
    "\n",
    "# This module scrolls through news site (ekantipur.com) and collects news titles.\n",
    "import time\n",
    "import csv\n",
    "\n",
    "from bs4 import BeautifulSoup\n",
    "\n",
    "from selenium import webdriver\n",
    "from selenium.webdriver.common.keys import Keys\n",
    "\n",
    "browser = webdriver.Chrome()\n",
    "\n",
    "browser.get(\"http://www.ekantipur.com/eng\")\n",
    "time.sleep(1)\n",
    "\n",
    "elem = browser.find_element_by_tag_name(\"body\")\n",
    "\n",
    "# set number of pages be scrolled\n",
    "no_of_pagedowns = 5\n",
    "\n",
    "# scroll page (handling infinite page scrolling)\n",
    "while no_of_pagedowns:\n",
    "    elem.send_keys(Keys.PAGE_DOWN)\n",
    "    time.sleep(0.2)\n",
    "    no_of_pagedowns -= 1\n",
    "\n",
    "content = browser.page_source\n",
    "soup = BeautifulSoup(content, \"html5lib\")\n",
    "browser.close()\n",
    "\n",
    "news_title_containers = soup.find_all(\n",
    "    \"div\", attrs={'class': 'display-news-title'})\n",
    "with open('news_titles.csv', 'w') as csv_file:\n",
    "    writer = csv.writer(csv_file)\n",
    "    for each_container in news_title_containers:\n",
    "        title_link = each_container.find('a')\n",
    "        news_title = title_link.string.strip()\n",
    "        writer.writerow([news_title])\n"
   ]
  },
  {
   "cell_type": "markdown",
   "metadata": {},
   "source": [
    "#### Model development\n",
    "\n",
    "Before starting on model development, you should be familiar with few terms that will help you to understand the process:\n",
    "\n",
    "i. Training and Testing\n",
    "\n",
    "This is the process of applying our model on data whose true classes are already known. Once the model is well trained with those data, we need to compute the proportion of the time our classifier will accurately predict the new data. This process is know as testing.\n",
    "\n",
    "ii. Bias(underfitting) and Variance(overfitting)\n",
    "\n",
    "Ideally, whenever we try to develop ML model, we try to capture all the features(information) of the training data and also want our model to generalize the output for unseen input data.\n",
    "\n",
    "<img src=\"files/final_draw.png\">\n",
    "In the diagram above, the linear model is underfit\n",
    " - The model doesn't take care of all the information provided (high bias)\n",
    " - If you provide new data to this model, it will not change it's behavior(shape) (low variance)\n",
    "\n",
    "\n",
    "On the other hand, the model with high degree polynomial at the right is overfit\n",
    " - The model will take into account all the data points (low bias)\n",
    " - The curve will try to change it's shape in order to capture new data points, loosing the generality of the model (high variance)\n",
    "\n",
    "\n",
    "iii. Cross Validation:\n",
    "\n",
    "Most of the time, when we are developing ML model we simply split the data randomly into train and test set and feed into our model. While doing so, we may have a high accuracy on that particular chunk of training data set. What if your model perform differently and give lower accuracy while feeding different chuncks of from the sama data points? So, in cross-validation, we will be creating number of train/test splits and measure the accuracy by calculating average on each of the spits.\n",
    "\n",
    "\n",
    "iv. Learning Curve\n",
    "\t\n",
    "  Learning curve helps to measure the performance of your model based on variations on your training data supply.\n",
    "\n",
    "   Why you need to plot learning curve?\n",
    "   - You can identify the correct spot on your curve where bias and variance is minimized."
   ]
  },
  {
   "cell_type": "markdown",
   "metadata": {},
   "source": [
    "I have divided the whole model development process into following subprocesses:\n",
    "\n",
    " #### A. Loading data / Split into training and test set\n",
    "\n",
    "I have divided the corpus provided by UCI Machine Learning Repository for training and testing as \n"
   ]
  },
  {
   "cell_type": "code",
   "execution_count": 2,
   "metadata": {
    "collapsed": true
   },
   "outputs": [],
   "source": [
    "\n",
    "TRAIN_CORPUS_FILES = ['amazon.txt', 'imdb.txt']\n",
    "TEST_CORPUS_FILES = ['yelp.txt']"
   ]
  },
  {
   "cell_type": "markdown",
   "metadata": {},
   "source": [
    "#### B. Feature Extraction\n",
    "  i. We need to convert text data into numerical feature vectors\n",
    "  \n",
    "  Most of the algorithms expect numerical data rather than raw (a sequence of symbols). This process is called vectorization -- turning text documents into numerical representation. This whole process comprises of - tokenization, counting and normalization of data ( More specifically called prcess of Bag of Words). The document will be represented by the occurrences of words in the document rather than the relative position of them.\n",
    "  \n",
    "Let us have a closer look into vectorization"
   ]
  },
  {
   "cell_type": "code",
   "execution_count": 4,
   "metadata": {},
   "outputs": [
    {
     "data": {
      "text/plain": [
       "CountVectorizer(analyzer='word', binary=False, decode_error='strict',\n",
       "        dtype=<class 'numpy.int64'>, encoding='utf-8', input='content',\n",
       "        lowercase=True, max_df=1.0, max_features=None, min_df=1,\n",
       "        ngram_range=(1, 1), preprocessor=None, stop_words=None,\n",
       "        strip_accents=None, token_pattern='(?u)\\\\b\\\\w\\\\w+\\\\b',\n",
       "        tokenizer=None, vocabulary=None)"
      ]
     },
     "execution_count": 4,
     "metadata": {},
     "output_type": "execute_result"
    }
   ],
   "source": [
    "sample_train_data = ['Dispute delays National Assembly formation process',\n",
    "              'Country is looking to encourage entrepreneurs and startup process',\n",
    "              'Airline fuel surcharges to go up from Tuesday'] \n",
    "\n",
    "from sklearn.feature_extraction.text import CountVectorizer\n",
    "# instantiate Vectorizer\n",
    "vec = CountVectorizer()\n",
    "\n",
    "# feed/learn the 'vocabulary' of the training data\n",
    "vec.fit(sample_train_data)"
   ]
  },
  {
   "cell_type": "markdown",
   "metadata": {},
   "source": [
    "Looking at the definition above, the `CountVectorizer` simply make whole words lowercase, remove duplicates, and remove single word characters as suggested by regex."
   ]
  },
  {
   "cell_type": "code",
   "execution_count": 5,
   "metadata": {},
   "outputs": [
    {
     "data": {
      "text/plain": [
       "['airline',\n",
       " 'and',\n",
       " 'assembly',\n",
       " 'country',\n",
       " 'delays',\n",
       " 'dispute',\n",
       " 'encourage',\n",
       " 'entrepreneurs',\n",
       " 'formation',\n",
       " 'from',\n",
       " 'fuel',\n",
       " 'go',\n",
       " 'is',\n",
       " 'looking',\n",
       " 'national',\n",
       " 'process',\n",
       " 'startup',\n",
       " 'surcharges',\n",
       " 'to',\n",
       " 'tuesday',\n",
       " 'up']"
      ]
     },
     "execution_count": 5,
     "metadata": {},
     "output_type": "execute_result"
    }
   ],
   "source": [
    "# current fitted vocabulary\n",
    "vec.get_feature_names()"
   ]
  },
  {
   "cell_type": "markdown",
   "metadata": {},
   "source": [
    "Let us create a document-term matrix. This simply describes the occurence of terms collection of documents."
   ]
  },
  {
   "cell_type": "code",
   "execution_count": 6,
   "metadata": {},
   "outputs": [
    {
     "data": {
      "text/plain": [
       "<3x21 sparse matrix of type '<class 'numpy.int64'>'\n",
       "\twith 23 stored elements in Compressed Sparse Row format>"
      ]
     },
     "execution_count": 6,
     "metadata": {},
     "output_type": "execute_result"
    }
   ],
   "source": [
    "# transform training data into a 'document-term matrix'\n",
    "sample_train_dtm = vec.transform(sample_train_data)\n",
    "sample_train_dtm"
   ]
  },
  {
   "cell_type": "markdown",
   "metadata": {},
   "source": [
    "Looking at the output, we can see that it creates a matrix with 3 rows and 21 columns.\n",
    " - Here, 3 colums because we have three documents all together\n",
    " - And, 21 rows because we have 21 terms (learned during fitting step above)"
   ]
  },
  {
   "cell_type": "code",
   "execution_count": 7,
   "metadata": {},
   "outputs": [
    {
     "data": {
      "text/plain": [
       "array([[0, 0, 1, 0, 1, 1, 0, 0, 1, 0, 0, 0, 0, 0, 1, 1, 0, 0, 0, 0, 0],\n",
       "       [0, 1, 0, 1, 0, 0, 1, 1, 0, 0, 0, 0, 1, 1, 0, 1, 1, 0, 1, 0, 0],\n",
       "       [1, 0, 0, 0, 0, 0, 0, 0, 0, 1, 1, 1, 0, 0, 0, 0, 0, 1, 1, 1, 1]])"
      ]
     },
     "execution_count": 7,
     "metadata": {},
     "output_type": "execute_result"
    }
   ],
   "source": [
    "# let's observe the dense matrix\n",
    "sample_train_dtm.toarray()"
   ]
  },
  {
   "cell_type": "code",
   "execution_count": 8,
   "metadata": {},
   "outputs": [
    {
     "data": {
      "text/html": [
       "<div>\n",
       "<style>\n",
       "    .dataframe thead tr:only-child th {\n",
       "        text-align: right;\n",
       "    }\n",
       "\n",
       "    .dataframe thead th {\n",
       "        text-align: left;\n",
       "    }\n",
       "\n",
       "    .dataframe tbody tr th {\n",
       "        vertical-align: top;\n",
       "    }\n",
       "</style>\n",
       "<table border=\"1\" class=\"dataframe\">\n",
       "  <thead>\n",
       "    <tr style=\"text-align: right;\">\n",
       "      <th></th>\n",
       "      <th>airline</th>\n",
       "      <th>and</th>\n",
       "      <th>assembly</th>\n",
       "      <th>country</th>\n",
       "      <th>delays</th>\n",
       "      <th>dispute</th>\n",
       "      <th>encourage</th>\n",
       "      <th>entrepreneurs</th>\n",
       "      <th>formation</th>\n",
       "      <th>from</th>\n",
       "      <th>...</th>\n",
       "      <th>go</th>\n",
       "      <th>is</th>\n",
       "      <th>looking</th>\n",
       "      <th>national</th>\n",
       "      <th>process</th>\n",
       "      <th>startup</th>\n",
       "      <th>surcharges</th>\n",
       "      <th>to</th>\n",
       "      <th>tuesday</th>\n",
       "      <th>up</th>\n",
       "    </tr>\n",
       "  </thead>\n",
       "  <tbody>\n",
       "    <tr>\n",
       "      <th>0</th>\n",
       "      <td>0</td>\n",
       "      <td>0</td>\n",
       "      <td>1</td>\n",
       "      <td>0</td>\n",
       "      <td>1</td>\n",
       "      <td>1</td>\n",
       "      <td>0</td>\n",
       "      <td>0</td>\n",
       "      <td>1</td>\n",
       "      <td>0</td>\n",
       "      <td>...</td>\n",
       "      <td>0</td>\n",
       "      <td>0</td>\n",
       "      <td>0</td>\n",
       "      <td>1</td>\n",
       "      <td>1</td>\n",
       "      <td>0</td>\n",
       "      <td>0</td>\n",
       "      <td>0</td>\n",
       "      <td>0</td>\n",
       "      <td>0</td>\n",
       "    </tr>\n",
       "    <tr>\n",
       "      <th>1</th>\n",
       "      <td>0</td>\n",
       "      <td>1</td>\n",
       "      <td>0</td>\n",
       "      <td>1</td>\n",
       "      <td>0</td>\n",
       "      <td>0</td>\n",
       "      <td>1</td>\n",
       "      <td>1</td>\n",
       "      <td>0</td>\n",
       "      <td>0</td>\n",
       "      <td>...</td>\n",
       "      <td>0</td>\n",
       "      <td>1</td>\n",
       "      <td>1</td>\n",
       "      <td>0</td>\n",
       "      <td>1</td>\n",
       "      <td>1</td>\n",
       "      <td>0</td>\n",
       "      <td>1</td>\n",
       "      <td>0</td>\n",
       "      <td>0</td>\n",
       "    </tr>\n",
       "    <tr>\n",
       "      <th>2</th>\n",
       "      <td>1</td>\n",
       "      <td>0</td>\n",
       "      <td>0</td>\n",
       "      <td>0</td>\n",
       "      <td>0</td>\n",
       "      <td>0</td>\n",
       "      <td>0</td>\n",
       "      <td>0</td>\n",
       "      <td>0</td>\n",
       "      <td>1</td>\n",
       "      <td>...</td>\n",
       "      <td>1</td>\n",
       "      <td>0</td>\n",
       "      <td>0</td>\n",
       "      <td>0</td>\n",
       "      <td>0</td>\n",
       "      <td>0</td>\n",
       "      <td>1</td>\n",
       "      <td>1</td>\n",
       "      <td>1</td>\n",
       "      <td>1</td>\n",
       "    </tr>\n",
       "  </tbody>\n",
       "</table>\n",
       "<p>3 rows × 21 columns</p>\n",
       "</div>"
      ],
      "text/plain": [
       "   airline  and  assembly  country  delays  dispute  encourage  entrepreneurs  \\\n",
       "0        0    0         1        0       1        1          0              0   \n",
       "1        0    1         0        1       0        0          1              1   \n",
       "2        1    0         0        0       0        0          0              0   \n",
       "\n",
       "   formation  from ...  go  is  looking  national  process  startup  \\\n",
       "0          1     0 ...   0   0        0         1        1        0   \n",
       "1          0     0 ...   0   1        1         0        1        1   \n",
       "2          0     1 ...   1   0        0         0        0        0   \n",
       "\n",
       "   surcharges  to  tuesday  up  \n",
       "0           0   0        0   0  \n",
       "1           0   1        0   0  \n",
       "2           1   1        1   1  \n",
       "\n",
       "[3 rows x 21 columns]"
      ]
     },
     "execution_count": 8,
     "metadata": {},
     "output_type": "execute_result"
    }
   ],
   "source": [
    "# Let us see the complete data map using pandas\n",
    "import pandas as pd\n",
    "pd.DataFrame(sample_train_dtm.toarray(), columns=vec.get_feature_names())"
   ]
  },
  {
   "cell_type": "markdown",
   "metadata": {},
   "source": [
    "You can see that most of the feature values are `ZEROs`. Why is that? Because most of the documents can be represented by small sets of words. Suppose, you have collected almost 100 reviews (documents) from a site. Then, there could be all together 1000 unique words (corpus) and a single review (single document) might have 10 unique words. right?\n",
    "\n",
    "Storing such a big number of `ZEROs` does not make sense. So, scikit-learn internally uses `scipy.sparse` package to store such a matrix in memory and it also speed up the operations."
   ]
  },
  {
   "cell_type": "code",
   "execution_count": 9,
   "metadata": {
    "collapsed": true
   },
   "outputs": [],
   "source": [
    "# let us now test our model with new example \n",
    "sample_test_data = ['Country is looking to encourage agriculture schemes']"
   ]
  },
  {
   "cell_type": "code",
   "execution_count": 10,
   "metadata": {},
   "outputs": [
    {
     "data": {
      "text/plain": [
       "array([[0, 0, 0, 1, 0, 0, 1, 0, 0, 0, 0, 0, 1, 1, 0, 0, 0, 0, 1, 0, 0]])"
      ]
     },
     "execution_count": 10,
     "metadata": {},
     "output_type": "execute_result"
    }
   ],
   "source": [
    "# transform testing data into a document-term matrix (using existing vocabulary)\n",
    "sample_test_dtm = vec.transform(sample_test_data)\n",
    "sample_test_dtm.toarray()"
   ]
  },
  {
   "cell_type": "code",
   "execution_count": 11,
   "metadata": {},
   "outputs": [
    {
     "data": {
      "text/html": [
       "<div>\n",
       "<style>\n",
       "    .dataframe thead tr:only-child th {\n",
       "        text-align: right;\n",
       "    }\n",
       "\n",
       "    .dataframe thead th {\n",
       "        text-align: left;\n",
       "    }\n",
       "\n",
       "    .dataframe tbody tr th {\n",
       "        vertical-align: top;\n",
       "    }\n",
       "</style>\n",
       "<table border=\"1\" class=\"dataframe\">\n",
       "  <thead>\n",
       "    <tr style=\"text-align: right;\">\n",
       "      <th></th>\n",
       "      <th>airline</th>\n",
       "      <th>and</th>\n",
       "      <th>assembly</th>\n",
       "      <th>country</th>\n",
       "      <th>delays</th>\n",
       "      <th>dispute</th>\n",
       "      <th>encourage</th>\n",
       "      <th>entrepreneurs</th>\n",
       "      <th>formation</th>\n",
       "      <th>from</th>\n",
       "      <th>...</th>\n",
       "      <th>go</th>\n",
       "      <th>is</th>\n",
       "      <th>looking</th>\n",
       "      <th>national</th>\n",
       "      <th>process</th>\n",
       "      <th>startup</th>\n",
       "      <th>surcharges</th>\n",
       "      <th>to</th>\n",
       "      <th>tuesday</th>\n",
       "      <th>up</th>\n",
       "    </tr>\n",
       "  </thead>\n",
       "  <tbody>\n",
       "    <tr>\n",
       "      <th>0</th>\n",
       "      <td>0</td>\n",
       "      <td>0</td>\n",
       "      <td>0</td>\n",
       "      <td>1</td>\n",
       "      <td>0</td>\n",
       "      <td>0</td>\n",
       "      <td>1</td>\n",
       "      <td>0</td>\n",
       "      <td>0</td>\n",
       "      <td>0</td>\n",
       "      <td>...</td>\n",
       "      <td>0</td>\n",
       "      <td>1</td>\n",
       "      <td>1</td>\n",
       "      <td>0</td>\n",
       "      <td>0</td>\n",
       "      <td>0</td>\n",
       "      <td>0</td>\n",
       "      <td>1</td>\n",
       "      <td>0</td>\n",
       "      <td>0</td>\n",
       "    </tr>\n",
       "  </tbody>\n",
       "</table>\n",
       "<p>1 rows × 21 columns</p>\n",
       "</div>"
      ],
      "text/plain": [
       "   airline  and  assembly  country  delays  dispute  encourage  entrepreneurs  \\\n",
       "0        0    0         0        1       0        0          1              0   \n",
       "\n",
       "   formation  from ...  go  is  looking  national  process  startup  \\\n",
       "0          0     0 ...   0   1        1         0        0        0   \n",
       "\n",
       "   surcharges  to  tuesday  up  \n",
       "0           0   1        0   0  \n",
       "\n",
       "[1 rows x 21 columns]"
      ]
     },
     "execution_count": 11,
     "metadata": {},
     "output_type": "execute_result"
    }
   ],
   "source": [
    "# examine the vocabulary and document-term matrix together\n",
    "pd.DataFrame(sample_test_dtm.toarray(), columns=vec.get_feature_names())"
   ]
  },
  {
   "cell_type": "markdown",
   "metadata": {},
   "source": [
    "You can see that `agriculture` and  `schemes` are not the part of output. For our model, to make prediction about this new observation, this new data must have the same features as the training observations. We did not train on the features \"`agriculture` and  `schemes`\" so our model would not be able to predict. Make any sense ?"
   ]
  },
  {
   "cell_type": "markdown",
   "metadata": {
    "collapsed": true
   },
   "source": [
    "##### Problem with `CountVectorizer` **"
   ]
  },
  {
   "cell_type": "markdown",
   "metadata": {},
   "source": [
    "If are looking at two different documents talking about same topic, one bit longer than\n",
    "other, you will find the average count values in the longer one will be higher than\n",
    "the shorter document. That means, `CountVectorizer` simply gives equal weightage to each\n",
    "of the word present in your document (one word represents one column in DataFrame). And,\n",
    "when you have new document, it simply maps 1 if the word is present in that document\n",
    "otherwise map to 0.\n",
    "\n",
    "So as to avoid this problem, we can use `TfidfTransformer` which evaluates frequencies of \n",
    "words rather than their occurences in the document and helps model to figure out which of\n",
    "the word is more important in the document and also with respect to the corpus.\n",
    "\n",
    "\n",
    "#### Let's  take a closer look at `Tfidf`\n",
    "\n",
    "Suppose you have a corpus of documents talking about `Mountains`. Now, `Tfidf` will work in three different parts\n",
    "\n",
    "#### i. Term Frequency (Tf)\n",
    "  It simply looks for the number of times a particular term occurs in your single document.\n",
    "  Let's take an example. You can find word `is` in almost all of your documents. Do you think the word `is` has any credit to describe your document ? But, at the same time, if you find word `Everest` in the document, you can figure out that the document is about `Mountains`.\n",
    " So, we need to find a way to reduce the weightage of word `is`. One of the method is calculating reciprocal of the count value, which minimizes the significant of word `is` in the document. But, you might face another problem here. Suppose, you encounter a word in your document (let's say `stratovolcano` having rare occurence in your document). If you take reciprocal of this occurence, you will get 1 (or close to 1 - hightest weightage). But, this word does not give much sense about `Montains`.\n",
    " \n",
    "For now, we can keep the word count as follows:\n",
    "\n",
    "    `tf(\"is\") = 1000`\n",
    "    `tf(\"Everest\") = 50`\n",
    "    `tf(\"stratovolcano\") = 2`\n",
    "\n",
    "\n",
    "#### ii. Inverser Document Frequency (iDF)\n",
    "\n",
    "  The problem of occurence of rare and more frequent words will be handled by this method.\n",
    "   Inverser Document Frequency gives downscale weights for words that occur in many documents in the corpus by taking log of number of total documents in your corpus divided by the total number of documents having occurence of the word.\n",
    "   i.e iDF = log (total number of documents/ total documents with word occurence)\n",
    "   \n",
    "   Let's calculate iDF for above words. (Suppose we have total 20 documents)\n",
    "   \n",
    "    `iDF(\"is\") = log(20/20) = 0` , Since 'is' occurs in all the documents\n",
    "    `iDF(\"Everest\") = log(20/5) = 0.6`,  Since corpus is talking about 'Mountains'\n",
    "    `iDF(\"stratovolcano\") = log(10/1) = 1 `, Since `stratovolcano` occurs in one doc.\n",
    "   \n",
    "#### iii. TfiDF\n",
    "    \n",
    "    TfiDF = TF * iDF\n",
    "    \n",
    "    Therefore,\n",
    "        `TfiDF(\"is\") = 1000 * 0 = 0`\n",
    "        `TfiDF(\"Everest\") = 50 * 0.6 = 30`\n",
    "        `TfiDF(\"stratovolcano\") = 2 * 1 = 2`\n",
    "    \n",
    "   "
   ]
  },
  {
   "cell_type": "markdown",
   "metadata": {},
   "source": [
    "Let's calcuate TfiDF for our sample train data above."
   ]
  },
  {
   "cell_type": "code",
   "execution_count": 12,
   "metadata": {
    "collapsed": true
   },
   "outputs": [],
   "source": [
    "from sklearn.feature_extraction.text import TfidfVectorizer\n",
    "\n",
    "tfidf_vec = TfidfVectorizer()\n",
    "sample_train_tfidf = tfidf_vec.fit_transform(sample_train_data)"
   ]
  },
  {
   "cell_type": "code",
   "execution_count": 13,
   "metadata": {},
   "outputs": [
    {
     "data": {
      "text/html": [
       "<div>\n",
       "<style>\n",
       "    .dataframe thead tr:only-child th {\n",
       "        text-align: right;\n",
       "    }\n",
       "\n",
       "    .dataframe thead th {\n",
       "        text-align: left;\n",
       "    }\n",
       "\n",
       "    .dataframe tbody tr th {\n",
       "        vertical-align: top;\n",
       "    }\n",
       "</style>\n",
       "<table border=\"1\" class=\"dataframe\">\n",
       "  <thead>\n",
       "    <tr style=\"text-align: right;\">\n",
       "      <th></th>\n",
       "      <th>airline</th>\n",
       "      <th>and</th>\n",
       "      <th>assembly</th>\n",
       "      <th>country</th>\n",
       "      <th>delays</th>\n",
       "      <th>dispute</th>\n",
       "      <th>encourage</th>\n",
       "      <th>entrepreneurs</th>\n",
       "      <th>formation</th>\n",
       "      <th>from</th>\n",
       "      <th>...</th>\n",
       "      <th>go</th>\n",
       "      <th>is</th>\n",
       "      <th>looking</th>\n",
       "      <th>national</th>\n",
       "      <th>process</th>\n",
       "      <th>startup</th>\n",
       "      <th>surcharges</th>\n",
       "      <th>to</th>\n",
       "      <th>tuesday</th>\n",
       "      <th>up</th>\n",
       "    </tr>\n",
       "  </thead>\n",
       "  <tbody>\n",
       "    <tr>\n",
       "      <th>0</th>\n",
       "      <td>0.000000</td>\n",
       "      <td>0.000000</td>\n",
       "      <td>0.423394</td>\n",
       "      <td>0.000000</td>\n",
       "      <td>0.423394</td>\n",
       "      <td>0.423394</td>\n",
       "      <td>0.000000</td>\n",
       "      <td>0.000000</td>\n",
       "      <td>0.423394</td>\n",
       "      <td>0.000000</td>\n",
       "      <td>...</td>\n",
       "      <td>0.000000</td>\n",
       "      <td>0.000000</td>\n",
       "      <td>0.000000</td>\n",
       "      <td>0.423394</td>\n",
       "      <td>0.322002</td>\n",
       "      <td>0.000000</td>\n",
       "      <td>0.000000</td>\n",
       "      <td>0.000000</td>\n",
       "      <td>0.000000</td>\n",
       "      <td>0.000000</td>\n",
       "    </tr>\n",
       "    <tr>\n",
       "      <th>1</th>\n",
       "      <td>0.000000</td>\n",
       "      <td>0.350139</td>\n",
       "      <td>0.000000</td>\n",
       "      <td>0.350139</td>\n",
       "      <td>0.000000</td>\n",
       "      <td>0.000000</td>\n",
       "      <td>0.350139</td>\n",
       "      <td>0.350139</td>\n",
       "      <td>0.000000</td>\n",
       "      <td>0.000000</td>\n",
       "      <td>...</td>\n",
       "      <td>0.000000</td>\n",
       "      <td>0.350139</td>\n",
       "      <td>0.350139</td>\n",
       "      <td>0.000000</td>\n",
       "      <td>0.266290</td>\n",
       "      <td>0.350139</td>\n",
       "      <td>0.000000</td>\n",
       "      <td>0.266290</td>\n",
       "      <td>0.000000</td>\n",
       "      <td>0.000000</td>\n",
       "    </tr>\n",
       "    <tr>\n",
       "      <th>2</th>\n",
       "      <td>0.363255</td>\n",
       "      <td>0.000000</td>\n",
       "      <td>0.000000</td>\n",
       "      <td>0.000000</td>\n",
       "      <td>0.000000</td>\n",
       "      <td>0.000000</td>\n",
       "      <td>0.000000</td>\n",
       "      <td>0.000000</td>\n",
       "      <td>0.000000</td>\n",
       "      <td>0.363255</td>\n",
       "      <td>...</td>\n",
       "      <td>0.363255</td>\n",
       "      <td>0.000000</td>\n",
       "      <td>0.000000</td>\n",
       "      <td>0.000000</td>\n",
       "      <td>0.000000</td>\n",
       "      <td>0.000000</td>\n",
       "      <td>0.363255</td>\n",
       "      <td>0.276265</td>\n",
       "      <td>0.363255</td>\n",
       "      <td>0.363255</td>\n",
       "    </tr>\n",
       "  </tbody>\n",
       "</table>\n",
       "<p>3 rows × 21 columns</p>\n",
       "</div>"
      ],
      "text/plain": [
       "    airline       and  assembly   country    delays   dispute  encourage  \\\n",
       "0  0.000000  0.000000  0.423394  0.000000  0.423394  0.423394   0.000000   \n",
       "1  0.000000  0.350139  0.000000  0.350139  0.000000  0.000000   0.350139   \n",
       "2  0.363255  0.000000  0.000000  0.000000  0.000000  0.000000   0.000000   \n",
       "\n",
       "   entrepreneurs  formation      from    ...           go        is   looking  \\\n",
       "0       0.000000   0.423394  0.000000    ...     0.000000  0.000000  0.000000   \n",
       "1       0.350139   0.000000  0.000000    ...     0.000000  0.350139  0.350139   \n",
       "2       0.000000   0.000000  0.363255    ...     0.363255  0.000000  0.000000   \n",
       "\n",
       "   national   process   startup  surcharges        to   tuesday        up  \n",
       "0  0.423394  0.322002  0.000000    0.000000  0.000000  0.000000  0.000000  \n",
       "1  0.000000  0.266290  0.350139    0.000000  0.266290  0.000000  0.000000  \n",
       "2  0.000000  0.000000  0.000000    0.363255  0.276265  0.363255  0.363255  \n",
       "\n",
       "[3 rows x 21 columns]"
      ]
     },
     "execution_count": 13,
     "metadata": {},
     "output_type": "execute_result"
    }
   ],
   "source": [
    "pd.DataFrame(sample_train_tfidf.toarray(), columns=tfidf_vec.get_feature_names())"
   ]
  },
  {
   "cell_type": "markdown",
   "metadata": {},
   "source": [
    "### C. Choose estimator"
   ]
  },
  {
   "cell_type": "markdown",
   "metadata": {},
   "source": [
    "I will be using `SVM` as my estimator. We will not talk details on SVM because it might take long hours to understand the algorithms.\n",
    "In brief, `linear SVM` tries to find an optimal vector ( a line) sperating two data points i.e classifying data. \n"
   ]
  },
  {
   "cell_type": "code",
   "execution_count": 16,
   "metadata": {},
   "outputs": [],
   "source": [
    "# news_classifier.py\n",
    "import pickle\n",
    "import csv\n",
    "import pandas as pd\n",
    "\n",
    "from sklearn.feature_extraction.text import TfidfVectorizer\n",
    "from sklearn import svm\n",
    "\n",
    "TRAIN_CORPUS_FILES = ['amazon.txt', 'imdb.txt']\n",
    "TEST_CORPUS_FILES = ['yelp.txt']\n",
    "\n",
    "class NewsClassification:\n",
    "    def __init__(self):\n",
    "        self.train_data = []\n",
    "        self.train_labels = []\n",
    "        self.test_data = []\n",
    "        self.test_labels = []\n",
    "\n",
    "        self.train_vectors = None\n",
    "        self.test_vectors = None\n",
    "        self.vectorizer = TfidfVectorizer()\n",
    "        self.model = None\n",
    "\n",
    "    def read_news_corpus(self, file):\n",
    "        with open('news_corpus/%s' % (file), 'r') as f:\n",
    "            return f.readlines()\n",
    "\n",
    "    def prepare_data(self, prepared_for='training'):\n",
    "        data = []\n",
    "        labels = []\n",
    "        if prepared_for.strip().lower() == 'training':\n",
    "            CORPUS_FILES = TRAIN_CORPUS_FILES\n",
    "        else:\n",
    "            CORPUS_FILES = TEST_CORPUS_FILES\n",
    "\n",
    "        for train_file in CORPUS_FILES:\n",
    "            rows = self.read_news_corpus(train_file)\n",
    "            for row in rows:\n",
    "                line = row.strip().rsplit('\\t', 1)\n",
    "                try:\n",
    "                    text = line[0]\n",
    "                    label = line[1].replace('\\t', '').strip()\n",
    "                    data.append(text)\n",
    "                    labels.append(label)\n",
    "                except Exception:\n",
    "                    pass\n",
    "        return data, labels\n",
    "\n",
    "    def prepare_feature_vectors(self):\n",
    "        # Train the feature vectors\n",
    "        self.train_vectors = self.vectorizer.fit_transform(self.train_data)\n",
    "        # Apply model on test data\n",
    "        # : since they have already been fit to the training set\n",
    "        self.test_vectors = self.vectorizer.transform(self.test_data)\n",
    "\n",
    "    def prepare_model(self, classifier_type='svm', kernel='linear'):\n",
    "        self.model = svm.SVC(kernel=kernel)\n",
    "        self.model.fit(self.train_vectors, self.train_labels)\n",
    "\n",
    "        # let's save our model using pickle.\n",
    "        # we will using this model later for unseen data as well.\n",
    "        data_struct = {'vectorizer': self.vectorizer, 'model': self.model}\n",
    "        with open('%s.bin' % kernel, 'wb') as f:\n",
    "            pickle.dump(data_struct, f)\n",
    "\n",
    "\n",
    "if __name__ == '__main__':\n",
    "    news_classifier = NewsClassification()\n",
    "    news_classifier.train_data, news_classifier.train_labels =\\\n",
    "        news_classifier.prepare_data()\n",
    "    news_classifier.test_data, news_classifier.test_labels =\\\n",
    "        news_classifier.prepare_data('testing')\n",
    "\n",
    "    news_classifier.prepare_feature_vectors()\n",
    "    news_classifier.prepare_model(kernel='linear')\n",
    "    "
   ]
  },
  {
   "cell_type": "markdown",
   "metadata": {},
   "source": [
    "#### D. Prediction with test data"
   ]
  },
  {
   "cell_type": "code",
   "execution_count": 19,
   "metadata": {},
   "outputs": [
    {
     "name": "stdout",
     "output_type": "stream",
     "text": [
      "                                                title actual_prediction predicted_value\n",
      "0                            Wow... Loved this place.                 1               1\n",
      "1                                  Crust is not good.                 0               0\n",
      "2           Not tasty and the texture was just nasty.                 0               0\n",
      "3   Stopped by during the late May bank holiday of...                 1               1\n",
      "4   The selection on the menu was great and so wer...                 1               1\n",
      "5      Now I am getting angry and I want my damn pho.                 0               1\n",
      "6               Honeslty it didn't taste THAT fresh.)                 0               0\n",
      "7   The potatoes were like rubber and you could te...                 0               0\n",
      "8                           The fries were great too.                 1               1\n",
      "9                                      A great touch.                 1               1\n",
      "10                           Service was very prompt.                 1               1\n"
     ]
    }
   ],
   "source": [
    "# let's run prediction with our test data\n",
    "prediction = news_classifier.model.predict(news_classifier.test_vectors)\n",
    "\n",
    "# create a list of final data\n",
    "with open('news_corpus/yelp.txt', 'r') as f:\n",
    "        test_data = f.readlines()\n",
    "        test_data = [row.replace('\\n', '') for row in test_data]\n",
    "        reader = csv.reader(test_data, delimiter='\\t')\n",
    "        final_data = []\n",
    "        for row, predicted_value in zip(reader, prediction):\n",
    "            row.append(predicted_value)\n",
    "            final_data.append(row)\n",
    "df = pd.DataFrame.from_records(\n",
    "    final_data,\n",
    "    columns=['title', 'actual_prediction', 'predicted_value'])\n",
    "print(df.to_string())"
   ]
  },
  {
   "cell_type": "markdown",
   "metadata": {},
   "source": [
    "#### F. Prediction of unseen data"
   ]
  },
  {
   "cell_type": "code",
   "execution_count": 21,
   "metadata": {},
   "outputs": [
    {
     "name": "stdout",
     "output_type": "stream",
     "text": [
      "                                                title sentiment\n",
      "0   Shooting in Brazil kills at least 14 in dance ...  negative\n",
      "1   Prez calls for action to harness Nepal’s huge ...  negative\n",
      "2                MaHa’s Satru Gate in post-production  negative\n",
      "3   Kathakanksha 2 culminates in a dance extravaganza  positive\n",
      "4   Itahari Gold Cup: Three Star lift first title ...  negative\n",
      "5                      \"NCS, GHCA register easy wins\"  positive\n",
      "6            Forward Gharti Magar to join Mohun Bagan  negative\n",
      "7               Nepse index posts loss of 1.99 points  positive\n",
      "8   India drags feet in building new cross-border ...  positive\n",
      "9               Politicians flout rules to build road  negative\n",
      "10  Expansion Plan: Kaligandaki road corridor set ...  negative\n",
      "11                                  His secret garden  positive\n",
      "12                              Rising from the ashes  negative\n",
      "13                                        Karnali 2.0  negative\n",
      "14                                  The NEA unplugged  negative\n",
      "15                            Minister for Loneliness  negative\n",
      "16                                   A different lens  negative\n",
      "17  Ten die in separate road accidents in past 24 ...  negative\n",
      "18          \"Fire destroys 17 houses in Humla, Rolpa\"  positive\n",
      "19         Parsa National Park welcomes baby elephant  positive\n",
      "20        Rukumkot folk protest over district HQ pick  positive\n",
      "21  Constitution unlikely to be revised soon: UML ...  negative\n",
      "22  \"Govt’s controversial decisions will be revoke...  negative\n",
      "23       Deuba faces ire in party over govt decisions  negative\n",
      "24            UML disabled member’s candidacy revoked  positive\n",
      "25  People in remote Humla face hardships to buy salt  negative\n",
      "26           \"28 hotels, restaurant operators booked\"  negative\n",
      "27  At least 41 people killed in South Korea hospi...  negative\n",
      "28  Lalu Prasad Yadav sentenced to 5 years in jail...  positive\n",
      "29  Indonesian office workers flee as quake shakes...  negative\n",
      "30  Bus fire kills 52 Uzbeks travelling in Kazakhstan  positive\n",
      "31           Baghdad double suicide attack kills many  negative\n",
      "32  Four judges of India's top court criticize its...  positive\n",
      "33    Fugitive robber ‘Tike’ hurt in police crossfire  negative\n",
      "34  Three weather radars being installed for bette...  positive\n",
      "35      \"Dalits, single women to get pay earlier too\"  negative\n",
      "36  Left bloc close to deal on sharing provincial ...  negative\n",
      "37      Inmate on the run injured in police encounter  positive\n",
      "38    Warm clothes distributed to infants in Jajarkot  negative\n",
      "39  'Decisions made by govt will have long-term im...  positive\n",
      "40  Chief Ministers will be appointed by province ...  positive\n",
      "41                                   Rural Connection  negative\n",
      "42  \"6 killed, 5 injured in Dhanusha Tata Sumo jee...  negative\n",
      "43            Six-year-old rescued from Jail in India  negative\n",
      "44                              Police enter quarters  negative\n",
      "45       CAN Info-Tech continues to draw large crowds  negative\n",
      "46     Minister removes secretary over Caan chief row  negative\n",
      "47    Track opens for Mailung-Syabrubesi road section  negative\n",
      "48  Rasuwagadhi border busy despite poor infrastru...  negative\n",
      "49                              Post journalist feted  positive\n",
      "50         Wavering policy stalls solar power project  positive\n",
      "51                                 Poet of the people  positive\n",
      "52                                 Worst in the world  negative\n",
      "53                 Practicing care: An everyday story  negative\n",
      "54                           Nepali art and imitation  positive\n",
      "55                                         In the air  positive\n"
     ]
    }
   ],
   "source": [
    "# let's run our model against news titles that we scraped before\n",
    "with open('linear.bin', 'rb') as model_file, open('news_titles.csv', 'r') as data_file:\n",
    "        data_struct = pickle.load(model_file)\n",
    "        vectorizer, model = data_struct['vectorizer'], data_struct['model']\n",
    "\n",
    "        reader = data_file.readlines()\n",
    "        data = [row.replace('\\n', '') for row in reader]\n",
    "\n",
    "        # vectorize the raw data\n",
    "        new_data_vectors = vectorizer.transform(data)\n",
    "        predictions = model.predict(new_data_vectors)\n",
    "\n",
    "values = pd.Series(['positive' if prediction ==\n",
    "                    '1' else 'negative' for prediction in predictions])\n",
    "output = pd.DataFrame()\n",
    "output['title'] = data\n",
    "output['sentiment'] = values\n",
    "print(output.to_string())"
   ]
  },
  {
   "cell_type": "code",
   "execution_count": null,
   "metadata": {
    "collapsed": true
   },
   "outputs": [],
   "source": []
  }
 ],
 "metadata": {
  "kernelspec": {
   "display_name": "Python 3",
   "language": "python",
   "name": "python3"
  },
  "language_info": {
   "codemirror_mode": {
    "name": "ipython",
    "version": 3
   },
   "file_extension": ".py",
   "mimetype": "text/x-python",
   "name": "python",
   "nbconvert_exporter": "python",
   "pygments_lexer": "ipython3",
   "version": "3.5.2"
  }
 },
 "nbformat": 4,
 "nbformat_minor": 2
}
