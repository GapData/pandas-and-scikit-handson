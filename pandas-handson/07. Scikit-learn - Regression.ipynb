{
 "metadata": {
  "name": ""
 },
 "nbformat": 3,
 "nbformat_minor": 0,
 "worksheets": [
  {
   "cells": [
    {
     "cell_type": "code",
     "collapsed": false,
     "input": [
      "# NumPy and pandas\n",
      "import numpy as np\n",
      "import pandas as pd\n",
      "\n",
      "# Set some pandas options for controlling output display\n",
      "pd.set_option('display.notebook_repr_html', False) # When True, IPython notebook will use html representation for pandas objects\n",
      "pd.set_option('display.max_columns', 10) # If max_columns is exceeded, switch to truncate view.\n",
      "pd.set_option('display.max_rows', 10) # If max_rows is exceeded, switch to truncate view."
     ],
     "language": "python",
     "metadata": {},
     "outputs": [],
     "prompt_number": 1
    },
    {
     "cell_type": "code",
     "collapsed": false,
     "input": [
      "labour_data = pd.read_csv('data/data.csv')"
     ],
     "language": "python",
     "metadata": {},
     "outputs": [],
     "prompt_number": 2
    },
    {
     "cell_type": "code",
     "collapsed": false,
     "input": [
      "labour_data.columns"
     ],
     "language": "python",
     "metadata": {},
     "outputs": [
      {
       "metadata": {},
       "output_type": "pyout",
       "prompt_number": 8,
       "text": [
        "Index([u'Unnamed: 0', u'ID', u'Salary', u'DOJ', u'DOL', u'Designation',\n",
        "       u'JobCity', u'Gender', u'DOB', u'10percentage', u'10board',\n",
        "       u'12graduation', u'12percentage', u'12board', u'CollegeID',\n",
        "       u'CollegeTier', u'Degree', u'Specialization', u'collegeGPA',\n",
        "       u'CollegeCityID', u'CollegeCityTier', u'CollegeState',\n",
        "       u'GraduationYear', u'English', u'Logical', u'Quant', u'Domain',\n",
        "       u'ComputerProgramming', u'ElectronicsAndSemicon', u'ComputerScience',\n",
        "       u'MechanicalEngg', u'ElectricalEngg', u'TelecomEngg', u'CivilEngg',\n",
        "       u'conscientiousness', u'agreeableness', u'extraversion', u'nueroticism',\n",
        "       u'openess_to_experience'],\n",
        "      dtype='object')"
       ]
      }
     ],
     "prompt_number": 8
    },
    {
     "cell_type": "markdown",
     "metadata": {},
     "source": [
      "## Linear Regression with single independent variable\n",
      "\n",
      "#### 1. We take collegeGPA as an independent variable and salary as a dependent variable.\n",
      "#### 2. We split the data into training and testing data sets\n",
      "#### 3. We fit the data using sklearn LinearRegression"
     ]
    },
    {
     "cell_type": "code",
     "collapsed": false,
     "input": [
      "from sklearn.cross_validation import train_test_split\n",
      "from sklearn.linear_model import LinearRegression\n",
      "\n",
      "# Use only one feature : CollegeGPA\n",
      "labour_data_gpa = labour_data.loc[:, ['collegeGPA']]\n",
      "# salary as a dependent variable\n",
      "labour_data_salary = labour_data.loc[:, 'Salary']\n",
      "# Split the data into training/testing sets\n",
      "gpa_train, gpa_test, salary_train, salary_test = train_test_split(labour_data_gpa, labour_data_salary)\n",
      "\n",
      "# Create linear regression object\n",
      "regression = LinearRegression()\n",
      "\n",
      "# Train the model using the training sets (first parameter is x )\n",
      "regression.fit(gpa_train, salary_train)\n",
      "# salary_X_train.size, salary_Y_train.size"
     ],
     "language": "python",
     "metadata": {},
     "outputs": [
      {
       "metadata": {},
       "output_type": "pyout",
       "prompt_number": 13,
       "text": [
        "LinearRegression(copy_X=True, fit_intercept=True, n_jobs=1, normalize=False)"
       ]
      }
     ],
     "prompt_number": 13
    },
    {
     "cell_type": "markdown",
     "metadata": {},
     "source": [
      "### Let's predict the salary"
     ]
    },
    {
     "cell_type": "code",
     "collapsed": false,
     "input": [
      "regression.predict(gpa_test)[:10]"
     ],
     "language": "python",
     "metadata": {},
     "outputs": [
      {
       "metadata": {},
       "output_type": "pyout",
       "prompt_number": 22,
       "text": [
        "array([ 330861.99167197,  272600.91778611,  303621.19580367,\n",
        "        317883.39259336,  314317.84339594,  310752.29419852,\n",
        "        317883.39259336,  270390.27728371,  322518.60655001,\n",
        "        326797.26558691])"
       ]
      }
     ],
     "prompt_number": 22
    },
    {
     "cell_type": "markdown",
     "metadata": {},
     "source": [
      "### Compare the predicted value with the actual value of salary"
     ]
    },
    {
     "cell_type": "code",
     "collapsed": false,
     "input": [
      "salary_test"
     ],
     "language": "python",
     "metadata": {},
     "outputs": [
      {
       "metadata": {},
       "output_type": "pyout",
       "prompt_number": 21,
       "text": [
        "2300     400000\n",
        "3922     240000\n",
        "459      180000\n",
        "1633     350000\n",
        "275      305000\n",
        "         ...   \n",
        "2141     100000\n",
        "3652     820000\n",
        "2949     325000\n",
        "395     1000000\n",
        "1149     400000\n",
        "Name: Salary, dtype: float64"
       ]
      }
     ],
     "prompt_number": 21
    },
    {
     "cell_type": "markdown",
     "metadata": {},
     "source": [
      "## Accuracy Measure\n",
      "#### 1.  We can check the accuracy measure of our regression model using score() function. It measures the variation of our predictions from the actual data. \n",
      "#### 2. if score = 1. perfect prediction"
     ]
    },
    {
     "cell_type": "code",
     "collapsed": false,
     "input": [
      "regression.score(gpa_test, salary_test)"
     ],
     "language": "python",
     "metadata": {},
     "outputs": [
      {
       "metadata": {},
       "output_type": "pyout",
       "prompt_number": 23,
       "text": [
        "0.013431118111573936"
       ]
      }
     ],
     "prompt_number": 23
    },
    {
     "cell_type": "code",
     "collapsed": false,
     "input": [],
     "language": "python",
     "metadata": {},
     "outputs": []
    }
   ],
   "metadata": {}
  }
 ]
}