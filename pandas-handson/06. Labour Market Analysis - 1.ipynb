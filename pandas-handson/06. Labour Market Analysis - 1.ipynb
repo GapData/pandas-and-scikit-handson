{
 "metadata": {
  "name": ""
 },
 "nbformat": 3,
 "nbformat_minor": 0,
 "worksheets": [
  {
   "cells": [
    {
     "cell_type": "markdown",
     "metadata": {},
     "source": [
      "## 1. Basic Understanding of Data\n",
      "\n",
      "#### The dataset is taken from IKDD data challenge ( http://ikdd.acm.org/Site/CoDS2016/datachallenge.html ). Data contains the profiles of several students with varied background. Let's figure out some insights.\n",
      "#### For data description visit : https://github.com/sijanonly/pandas-handson/blob/master/pandas-handson/data/data_description.csv\n",
      "#### Fo dataset visit : https://github.com/sijanonly/pandas-handson/blob/master/pandas-handson/data/data.csv\n"
     ]
    },
    {
     "cell_type": "code",
     "collapsed": false,
     "input": [
      "# NumPy and pandas\n",
      "import numpy as np\n",
      "import pandas as pd\n",
      "\n",
      "# Set some pandas options for controlling output display\n",
      "pd.set_option('display.notebook_repr_html', False) # When True, IPython notebook will use html representation for pandas objects\n",
      "pd.set_option('display.max_columns', 10) # If max_columns is exceeded, switch to truncate view.\n",
      "pd.set_option('display.max_rows', 10) # If max_rows is exceeded, switch to truncate view.\n"
     ],
     "language": "python",
     "metadata": {},
     "outputs": [],
     "prompt_number": 1
    },
    {
     "cell_type": "code",
     "collapsed": false,
     "input": [
      "labour_data = pd.read_csv('data/data.csv')"
     ],
     "language": "python",
     "metadata": {},
     "outputs": [],
     "prompt_number": 77
    },
    {
     "cell_type": "markdown",
     "metadata": {},
     "source": [
      "# how many rows in the dataset"
     ]
    },
    {
     "cell_type": "code",
     "collapsed": false,
     "input": [
      "\n",
      "labour_data.count()"
     ],
     "language": "python",
     "metadata": {},
     "outputs": [
      {
       "metadata": {},
       "output_type": "pyout",
       "prompt_number": 3,
       "text": [
        "Unnamed: 0               3998\n",
        "ID                       3998\n",
        "Salary                   3998\n",
        "DOJ                      3998\n",
        "DOL                      3998\n",
        "                         ... \n",
        "conscientiousness        3998\n",
        "agreeableness            3998\n",
        "extraversion             3998\n",
        "nueroticism              3998\n",
        "openess_to_experience    3998\n",
        "dtype: int64"
       ]
      }
     ],
     "prompt_number": 3
    },
    {
     "cell_type": "markdown",
     "metadata": {},
     "source": [
      "# read first 5 rows"
     ]
    },
    {
     "cell_type": "code",
     "collapsed": false,
     "input": [
      "\n",
      "labour_data.head()"
     ],
     "language": "python",
     "metadata": {},
     "outputs": [
      {
       "metadata": {},
       "output_type": "pyout",
       "prompt_number": 12,
       "text": [
        "  Unnamed: 0      ID   Salary          DOJ          DOL  \\\n",
        "0      train  203097   420000  6/1/12 0:00      present   \n",
        "1      train  579905   500000  9/1/13 0:00      present   \n",
        "2      train  810601   325000  6/1/14 0:00      present   \n",
        "3      train  267447  1100000  7/1/11 0:00      present   \n",
        "4      train  343523   200000  3/1/14 0:00  3/1/15 0:00   \n",
        "\n",
        "           ...           conscientiousness agreeableness extraversion  \\\n",
        "0          ...                      0.9737        0.8128       0.5269   \n",
        "1          ...                     -0.7335        0.3789       1.2396   \n",
        "2          ...                      0.2718        1.7109       0.1637   \n",
        "3          ...                      0.0464        0.3448      -0.3440   \n",
        "4          ...                     -0.8810       -0.2793      -1.0697   \n",
        "\n",
        "  nueroticism  openess_to_experience  \n",
        "0     1.35490                -0.4455  \n",
        "1    -0.10760                 0.8637  \n",
        "2    -0.86820                 0.6721  \n",
        "3    -0.40780                -0.9194  \n",
        "4     0.09163                -0.1295  \n",
        "\n",
        "[5 rows x 39 columns]"
       ]
      }
     ],
     "prompt_number": 12
    },
    {
     "cell_type": "markdown",
     "metadata": {},
     "source": [
      "# what are the columns"
     ]
    },
    {
     "cell_type": "code",
     "collapsed": false,
     "input": [
      "\n",
      "labour_data.columns"
     ],
     "language": "python",
     "metadata": {},
     "outputs": [
      {
       "metadata": {},
       "output_type": "pyout",
       "prompt_number": 15,
       "text": [
        "Index([u'Unnamed: 0', u'ID', u'Salary', u'DOJ', u'DOL', u'Designation',\n",
        "       u'JobCity', u'Gender', u'DOB', u'10percentage', u'10board',\n",
        "       u'12graduation', u'12percentage', u'12board', u'CollegeID',\n",
        "       u'CollegeTier', u'Degree', u'Specialization', u'collegeGPA',\n",
        "       u'CollegeCityID', u'CollegeCityTier', u'CollegeState',\n",
        "       u'GraduationYear', u'English', u'Logical', u'Quant', u'Domain',\n",
        "       u'ComputerProgramming', u'ElectronicsAndSemicon', u'ComputerScience',\n",
        "       u'MechanicalEngg', u'ElectricalEngg', u'TelecomEngg', u'CivilEngg',\n",
        "       u'conscientiousness', u'agreeableness', u'extraversion', u'nueroticism',\n",
        "       u'openess_to_experience'],\n",
        "      dtype='object')"
       ]
      }
     ],
     "prompt_number": 15
    },
    {
     "cell_type": "markdown",
     "metadata": {},
     "source": [
      "# sort data by salary"
     ]
    },
    {
     "cell_type": "code",
     "collapsed": false,
     "input": [
      "\n",
      "labour_data.sort_values(['Salary'])"
     ],
     "language": "python",
     "metadata": {},
     "outputs": [
      {
       "metadata": {},
       "output_type": "pyout",
       "prompt_number": 4,
       "text": [
        "     Unnamed: 0       ID   Salary           DOJ           DOL  \\\n",
        "194       train   211840    35000   1/1/12 0:00       present   \n",
        "2627      train   242100    35000   3/1/12 0:00       present   \n",
        "3473      train  1272092    35000   5/1/14 0:00   5/1/15 0:00   \n",
        "1837      train   619423    40000  11/1/13 0:00  11/1/14 0:00   \n",
        "3231      train   578157    40000  10/1/13 0:00   7/1/14 0:00   \n",
        "...         ...      ...      ...           ...           ...   \n",
        "500       train   260866  2600000   7/1/11 0:00   4/1/13 0:00   \n",
        "1759      train  1283923  3000000   9/1/14 0:00   3/1/15 0:00   \n",
        "779       train   325412  3500000   1/1/13 0:00  10/1/14 0:00   \n",
        "1237      train    48107  4000000   7/1/10 0:00   3/1/15 0:00   \n",
        "2182      train    41147  4000000   1/1/10 0:00  12/1/11 0:00   \n",
        "\n",
        "              ...           conscientiousness agreeableness extraversion  \\\n",
        "194           ...                     -2.5811        0.0328       0.3817   \n",
        "2627          ...                      0.2009        0.0328      -0.9245   \n",
        "3473          ...                     -3.7496       -5.6151      -3.8324   \n",
        "1837          ...                     -1.0208       -0.7866      -1.0659   \n",
        "3231          ...                      1.8517        0.2124       2.1617   \n",
        "...           ...                         ...           ...          ...   \n",
        "500           ...                      0.3555        0.9688       0.0914   \n",
        "1759          ...                     -0.0154        0.7119       0.4711   \n",
        "779           ...                      0.1623        0.3448      -0.3440   \n",
        "1237          ...                     -0.7264        0.0328      -1.6502   \n",
        "2182          ...                     -3.3539       -0.4353      -1.0697   \n",
        "\n",
        "     nueroticism  openess_to_experience  \n",
        "194      0.41480                -1.0774  \n",
        "2627     0.29730                -0.1295  \n",
        "3473    -0.48790                -7.3757  \n",
        "1837    -0.36120                -2.5853  \n",
        "3231    -2.00920                -0.2859  \n",
        "...          ...                    ...  \n",
        "500     -0.87780                -0.7615  \n",
        "1759    -0.61470                 0.2889  \n",
        "779     -0.17277                 0.6603  \n",
        "1237    -0.87780                -0.1295  \n",
        "2182    -0.05520                -2.6572  \n",
        "\n",
        "[3998 rows x 39 columns]"
       ]
      }
     ],
     "prompt_number": 4
    },
    {
     "cell_type": "markdown",
     "metadata": {},
     "source": [
      "# only take subset of data with columns ['ID', 'Salary','Designation', 'JobCity', 'Gender', 'Degree', 'Specialization']"
     ]
    },
    {
     "cell_type": "code",
     "collapsed": false,
     "input": [
      "\n",
      "labour_data_subset1 = labour_data[['ID', 'Salary','Designation', 'JobCity', 'Gender', 'Degree', 'Specialization']]\n",
      "labour_data_subset1.head()"
     ],
     "language": "python",
     "metadata": {},
     "outputs": [
      {
       "metadata": {},
       "output_type": "pyout",
       "prompt_number": 16,
       "text": [
        "       ID   Salary               Designation    JobCity Gender       Degree  \\\n",
        "0  203097   420000   senior quality engineer  Bangalore      f  B.Tech/B.E.   \n",
        "1  579905   500000         assistant manager     Indore      m  B.Tech/B.E.   \n",
        "2  810601   325000          systems engineer    Chennai      f  B.Tech/B.E.   \n",
        "3  267447  1100000  senior software engineer    Gurgaon      m  B.Tech/B.E.   \n",
        "4  343523   200000                       get    Manesar      m  B.Tech/B.E.   \n",
        "\n",
        "                              Specialization  \n",
        "0                       computer engineering  \n",
        "1  electronics and communication engineering  \n",
        "2                     information technology  \n",
        "3                       computer engineering  \n",
        "4  electronics and communication engineering  "
       ]
      }
     ],
     "prompt_number": 16
    },
    {
     "cell_type": "markdown",
     "metadata": {},
     "source": [
      "# select salary and gender 'Male' only"
     ]
    },
    {
     "cell_type": "code",
     "collapsed": false,
     "input": [
      "\n",
      "labour_data_subset2 = labour_data[['Salary','Gender']].loc[labour_data['Gender'] == 'm']"
     ],
     "language": "python",
     "metadata": {},
     "outputs": [],
     "prompt_number": 20
    },
    {
     "cell_type": "code",
     "collapsed": false,
     "input": [
      "labour_data_subset2.head()"
     ],
     "language": "python",
     "metadata": {},
     "outputs": [
      {
       "metadata": {},
       "output_type": "pyout",
       "prompt_number": 21,
       "text": [
        "    Salary Gender\n",
        "1   500000      m\n",
        "3  1100000      m\n",
        "4   200000      m\n",
        "5   300000      m\n",
        "6   300000      m"
       ]
      }
     ],
     "prompt_number": 21
    },
    {
     "cell_type": "markdown",
     "metadata": {},
     "source": [
      "# What is the minimum and maximum salary of Male candidate"
     ]
    },
    {
     "cell_type": "code",
     "collapsed": false,
     "input": [
      "labour_data_subset2['Salary'].min()"
     ],
     "language": "python",
     "metadata": {},
     "outputs": [
      {
       "metadata": {},
       "output_type": "pyout",
       "prompt_number": 22,
       "text": [
        "35000.0"
       ]
      }
     ],
     "prompt_number": 22
    },
    {
     "cell_type": "code",
     "collapsed": false,
     "input": [
      "labour_data_subset2['Salary'].max()"
     ],
     "language": "python",
     "metadata": {},
     "outputs": [
      {
       "metadata": {},
       "output_type": "pyout",
       "prompt_number": 23,
       "text": [
        "4000000.0"
       ]
      }
     ],
     "prompt_number": 23
    },
    {
     "cell_type": "markdown",
     "metadata": {},
     "source": [
      "# select salary and gender Female only"
     ]
    },
    {
     "cell_type": "code",
     "collapsed": false,
     "input": [
      "\n",
      "labour_data_subset3 = labour_data[['Salary','Gender']].loc[labour_data['Gender'] == 'f']"
     ],
     "language": "python",
     "metadata": {},
     "outputs": [],
     "prompt_number": 24
    },
    {
     "cell_type": "code",
     "collapsed": false,
     "input": [
      "labour_data_subset3['Salary'].min()"
     ],
     "language": "python",
     "metadata": {},
     "outputs": [
      {
       "metadata": {},
       "output_type": "pyout",
       "prompt_number": 25,
       "text": [
        "35000.0"
       ]
      }
     ],
     "prompt_number": 25
    },
    {
     "cell_type": "code",
     "collapsed": false,
     "input": [
      "labour_data_subset3['Salary'].max()"
     ],
     "language": "python",
     "metadata": {},
     "outputs": [
      {
       "metadata": {},
       "output_type": "pyout",
       "prompt_number": 26,
       "text": [
        "3500000.0"
       ]
      }
     ],
     "prompt_number": 26
    },
    {
     "cell_type": "markdown",
     "metadata": {},
     "source": [
      "# Look at above result, the minimum salary for both Male and Female is same. But women are paid less."
     ]
    },
    {
     "cell_type": "markdown",
     "metadata": {},
     "source": [
      "# what is the number of female who get salary above 300000"
     ]
    },
    {
     "cell_type": "code",
     "collapsed": false,
     "input": [
      "\n",
      "boolean_selection = (labour_data['Salary'] > 300000) & (labour_data['Gender'] == 'f')"
     ],
     "language": "python",
     "metadata": {},
     "outputs": [],
     "prompt_number": 50
    },
    {
     "cell_type": "code",
     "collapsed": false,
     "input": [
      "labour_data_subset4 =  labour_data[boolean_selection]\n",
      "labour_data_subset4.head()"
     ],
     "language": "python",
     "metadata": {},
     "outputs": [
      {
       "metadata": {},
       "output_type": "pyout",
       "prompt_number": 51,
       "text": [
        "   Unnamed: 0      ID  Salary           DOJ          DOL  \\\n",
        "0       train  203097  420000   6/1/12 0:00      present   \n",
        "2       train  810601  325000   6/1/14 0:00      present   \n",
        "15      train  536517  350000   8/1/13 0:00      present   \n",
        "19      train  466888  325000   9/1/14 0:00      present   \n",
        "20      train  140069  320000  11/1/10 0:00  9/1/12 0:00   \n",
        "\n",
        "            ...           conscientiousness agreeableness extraversion  \\\n",
        "0           ...                      0.9737        0.8128       0.5269   \n",
        "2           ...                      0.2718        1.7109       0.1637   \n",
        "15          ...                      1.7465        1.9048       0.6720   \n",
        "19          ...                      0.8192        0.2668      -0.2714   \n",
        "20          ...                     -0.1082        0.9688       0.5269   \n",
        "\n",
        "   nueroticism  openess_to_experience  \n",
        "0       1.3549                -0.4455  \n",
        "2      -0.8682                 0.6721  \n",
        "15     -0.2902                 1.2528  \n",
        "19     -0.4078                -0.1295  \n",
        "20     -0.2902                 0.3444  \n",
        "\n",
        "[5 rows x 39 columns]"
       ]
      }
     ],
     "prompt_number": 51
    },
    {
     "cell_type": "code",
     "collapsed": false,
     "input": [
      "labour_data_subset4.count"
     ],
     "language": "python",
     "metadata": {},
     "outputs": [
      {
       "metadata": {},
       "output_type": "pyout",
       "prompt_number": 48,
       "text": [
        "<bound method DataFrame.count of      Unnamed: 0       ID  Salary           DOJ          DOL  \\\n",
        "0         train   203097  420000   6/1/12 0:00      present   \n",
        "2         train   810601  325000   6/1/14 0:00      present   \n",
        "15        train   536517  350000   8/1/13 0:00      present   \n",
        "19        train   466888  325000   9/1/14 0:00      present   \n",
        "20        train   140069  320000  11/1/10 0:00  9/1/12 0:00   \n",
        "...         ...      ...     ...           ...          ...   \n",
        "3978      train  1274658  320000   8/1/13 0:00  1/1/14 0:00   \n",
        "3984      train   305041  480000  12/1/11 0:00      present   \n",
        "3985      train   358393  430000   3/1/13 0:00      present   \n",
        "3990      train   204287  480000   2/1/12 0:00      present   \n",
        "3997      train   324966  400000   2/1/13 0:00      present   \n",
        "\n",
        "              ...           conscientiousness agreeableness extraversion  \\\n",
        "0             ...                      0.9737        0.8128       0.5269   \n",
        "2             ...                      0.2718        1.7109       0.1637   \n",
        "15            ...                      1.7465        1.9048       0.6720   \n",
        "19            ...                      0.8192        0.2668      -0.2714   \n",
        "20            ...                     -0.1082        0.9688       0.5269   \n",
        "...           ...                         ...           ...          ...   \n",
        "3978          ...                      0.2718        1.2114       0.4711   \n",
        "3984          ...                     -0.2628        0.1888       0.3817   \n",
        "3985          ...                      0.2782        0.3448       0.0914   \n",
        "3990          ...                      0.6646        0.3448       0.3817   \n",
        "3997          ...                     -1.1128       -0.2793      -0.6343   \n",
        "\n",
        "     nueroticism  openess_to_experience  \n",
        "0        1.35490                -0.4455  \n",
        "2       -0.86820                 0.6721  \n",
        "15      -0.29020                 1.2528  \n",
        "19      -0.40780                -0.1295  \n",
        "20      -0.29020                 0.3444  \n",
        "...          ...                    ...  \n",
        "3978    -0.10760                 0.8637  \n",
        "3984    -0.29020                 1.6082  \n",
        "3985    -1.14220                -0.6035  \n",
        "3990    -1.34780                 0.8183  \n",
        "3997     1.32553                -0.6035  \n",
        "\n",
        "[415 rows x 39 columns]>"
       ]
      }
     ],
     "prompt_number": 48
    },
    {
     "cell_type": "markdown",
     "metadata": {},
     "source": [
      "# Observing labours by group 'Specialization'\n",
      "\n",
      "### 1. groupby() function returns a GroupBy object"
     ]
    },
    {
     "cell_type": "code",
     "collapsed": false,
     "input": [
      "labour_data.groupby(['Specialization']).groups.keys()[:5]"
     ],
     "language": "python",
     "metadata": {},
     "outputs": [
      {
       "metadata": {},
       "output_type": "pyout",
       "prompt_number": 94,
       "text": [
        "['electronics & instrumentation eng',\n",
        " 'electrical and power engineering',\n",
        " 'metallurgical engineering',\n",
        " 'electronics and communication engineering',\n",
        " 'telecommunication engineering']"
       ]
      }
     ],
     "prompt_number": 94
    },
    {
     "cell_type": "code",
     "collapsed": false,
     "input": [
      "labour_data.groupby(['Specialization']).agg(['count'])"
     ],
     "language": "python",
     "metadata": {},
     "outputs": [
      {
       "metadata": {},
       "output_type": "pyout",
       "prompt_number": 97,
       "text": [
        "                                        Unnamed: 0    ID Salary   DOJ   DOL  \\\n",
        "                                             count count  count count count   \n",
        "Specialization                                                                \n",
        "aeronautical engineering                         3     3      3     3     3   \n",
        "applied electronics and instrumentation          9     9      9     9     9   \n",
        "automobile/automotive engineering                5     5      5     5     5   \n",
        "biomedical engineering                           2     2      2     2     2   \n",
        "biotechnology                                   15    15     15    15    15   \n",
        "...                                            ...   ...    ...   ...   ...   \n",
        "metallurgical engineering                        2     2      2     2     2   \n",
        "other                                           13    13     13    13    13   \n",
        "polymer technology                               1     1      1     1     1   \n",
        "power systems and automation                     1     1      1     1     1   \n",
        "telecommunication engineering                    6     6      6     6     6   \n",
        "\n",
        "                                                    ...               \\\n",
        "                                                    ...                \n",
        "Specialization                                      ...                \n",
        "aeronautical engineering                            ...                \n",
        "applied electronics and instrumentation             ...                \n",
        "automobile/automotive engineering                   ...                \n",
        "biomedical engineering                              ...                \n",
        "biotechnology                                       ...                \n",
        "...                                                 ...                \n",
        "metallurgical engineering                           ...                \n",
        "other                                               ...                \n",
        "polymer technology                                  ...                \n",
        "power systems and automation                        ...                \n",
        "telecommunication engineering                       ...                \n",
        "\n",
        "                                        agreeableness extraversion  \\\n",
        "                                                count        count   \n",
        "Specialization                                                       \n",
        "aeronautical engineering                            3            3   \n",
        "applied electronics and instrumentation             9            9   \n",
        "automobile/automotive engineering                   5            5   \n",
        "biomedical engineering                              2            2   \n",
        "biotechnology                                      15           15   \n",
        "...                                               ...          ...   \n",
        "metallurgical engineering                           2            2   \n",
        "other                                              13           13   \n",
        "polymer technology                                  1            1   \n",
        "power systems and automation                        1            1   \n",
        "telecommunication engineering                       6            6   \n",
        "\n",
        "                                        nueroticism openess_to_experience  \\\n",
        "                                              count                 count   \n",
        "Specialization                                                              \n",
        "aeronautical engineering                          3                     3   \n",
        "applied electronics and instrumentation           9                     9   \n",
        "automobile/automotive engineering                 5                     5   \n",
        "biomedical engineering                            2                     2   \n",
        "biotechnology                                    15                    15   \n",
        "...                                             ...                   ...   \n",
        "metallurgical engineering                         2                     2   \n",
        "other                                            13                    13   \n",
        "polymer technology                                1                     1   \n",
        "power systems and automation                      1                     1   \n",
        "telecommunication engineering                     6                     6   \n",
        "\n",
        "                                        max_salary_by_specialization  \n",
        "                                                               count  \n",
        "Specialization                                                        \n",
        "aeronautical engineering                                           0  \n",
        "applied electronics and instrumentation                            0  \n",
        "automobile/automotive engineering                                  0  \n",
        "biomedical engineering                                             0  \n",
        "biotechnology                                                      0  \n",
        "...                                                              ...  \n",
        "metallurgical engineering                                          0  \n",
        "other                                                              0  \n",
        "polymer technology                                                 0  \n",
        "power systems and automation                                       0  \n",
        "telecommunication engineering                                      0  \n",
        "\n",
        "[46 rows x 39 columns]"
       ]
      }
     ],
     "prompt_number": 97
    },
    {
     "cell_type": "markdown",
     "metadata": {},
     "source": [
      "# Get maximum salary by groups on 'Specialization' \n",
      "\n",
      "### look : candidates with specialization on 'Computer engineering / computer application' getting higher salary."
     ]
    },
    {
     "cell_type": "code",
     "collapsed": false,
     "input": [
      "labour_data_by_specialization =  labour_data.groupby(['Specialization'])['Salary'].max()\n",
      "labour_data_by_specialization.sort_values(inplace=True)\n",
      "labour_data_by_specialization"
     ],
     "language": "python",
     "metadata": {},
     "outputs": [
      {
       "metadata": {},
       "output_type": "pyout",
       "prompt_number": 93,
       "text": [
        "Specialization\n",
        "electronics                                    40000\n",
        "mechanical & production engineering           100000\n",
        "power systems and automation                  100000\n",
        "computer and communication engineering        120000\n",
        "aeronautical engineering                      180000\n",
        "                                              ...   \n",
        "electronics & instrumentation eng            2300000\n",
        "electronics and electrical engineering       2500000\n",
        "electronics and communication engineering    3000000\n",
        "computer engineering                         4000000\n",
        "computer application                         4000000\n",
        "Name: Salary, dtype: float64"
       ]
      }
     ],
     "prompt_number": 93
    },
    {
     "cell_type": "markdown",
     "metadata": {},
     "source": [
      "# Get number of candidates on each specilaization by gender"
     ]
    },
    {
     "cell_type": "code",
     "collapsed": false,
     "input": [
      "labour_data.groupby(['Specialization'])['Gender'].value_counts()"
     ],
     "language": "python",
     "metadata": {},
     "outputs": [
      {
       "metadata": {},
       "output_type": "pyout",
       "prompt_number": 104,
       "text": [
        "Specialization                           Gender\n",
        "aeronautical engineering                 m          2\n",
        "                                         f          1\n",
        "applied electronics and instrumentation  m          7\n",
        "                                         f          2\n",
        "automobile/automotive engineering        m          5\n",
        "                                                   ..\n",
        "other                                    m         13\n",
        "polymer technology                       m          1\n",
        "power systems and automation             m          1\n",
        "telecommunication engineering            m          5\n",
        "                                         f          1\n",
        "dtype: int64"
       ]
      }
     ],
     "prompt_number": 104
    },
    {
     "cell_type": "markdown",
     "metadata": {},
     "source": [
      "## Get candidates grouped by 'Designation'"
     ]
    },
    {
     "cell_type": "code",
     "collapsed": false,
     "input": [
      "labour_data.groupby(['Designation']).groups.keys()[:10]"
     ],
     "language": "python",
     "metadata": {},
     "outputs": [
      {
       "metadata": {},
       "output_type": "pyout",
       "prompt_number": 75,
       "text": [
        "['software quality assurance analyst',\n",
        " 'senior engineer',\n",
        " 'sales support',\n",
        " 'technical support engineer',\n",
        " 'branch manager',\n",
        " 'account executive',\n",
        " 'process engineer',\n",
        " 'ux designer',\n",
        " 'technical support specialist',\n",
        " 'cloud engineer']"
       ]
      }
     ],
     "prompt_number": 75
    },
    {
     "cell_type": "markdown",
     "metadata": {},
     "source": [
      "# Automation Engineer and Senior software engineer are getting higher salary in India."
     ]
    },
    {
     "cell_type": "code",
     "collapsed": false,
     "input": [
      "labour_data.groupby(['Designation'])['Salary'].max().sort_values()"
     ],
     "language": "python",
     "metadata": {},
     "outputs": [
      {
       "metadata": {},
       "output_type": "pyout",
       "prompt_number": 112,
       "text": [
        "Designation\n",
        "secretary                                  45000\n",
        "trainee software developer                 60000\n",
        "web designer and joomla administrator      60000\n",
        "visiting faculty                           70000\n",
        "documentation specialist                   80000\n",
        "                                          ...   \n",
        "application developer                    2600000\n",
        "programmer                               3000000\n",
        "assistant system engineer                3500000\n",
        "senior software engineer                 4000000\n",
        "automation engineer                      4000000\n",
        "Name: Salary, dtype: float64"
       ]
      }
     ],
     "prompt_number": 112
    },
    {
     "cell_type": "markdown",
     "metadata": {},
     "source": [
      "## Let's count people by Degree"
     ]
    },
    {
     "cell_type": "code",
     "collapsed": false,
     "input": [
      "labour_data.groupby(['Degree'])['Degree'].value_counts()"
     ],
     "language": "python",
     "metadata": {},
     "outputs": [
      {
       "metadata": {},
       "output_type": "pyout",
       "prompt_number": 88,
       "text": [
        "Degree         Degree       \n",
        "B.Tech/B.E.    B.Tech/B.E.      3700\n",
        "M.Sc. (Tech.)  M.Sc. (Tech.)       2\n",
        "M.Tech./M.E.   M.Tech./M.E.       53\n",
        "MCA            MCA               243\n",
        "dtype: int64"
       ]
      }
     ],
     "prompt_number": 88
    },
    {
     "cell_type": "markdown",
     "metadata": {},
     "source": [
      "## Which degree is getting higher salary?"
     ]
    },
    {
     "cell_type": "code",
     "collapsed": false,
     "input": [
      "labour_data.groupby(['Degree'])['Salary'].max()"
     ],
     "language": "python",
     "metadata": {},
     "outputs": [
      {
       "metadata": {},
       "output_type": "pyout",
       "prompt_number": 3,
       "text": [
        "Degree\n",
        "B.Tech/B.E.      4000000\n",
        "M.Sc. (Tech.)     460000\n",
        "M.Tech./M.E.     1860000\n",
        "MCA              4000000\n",
        "Name: Salary, dtype: float64"
       ]
      }
     ],
     "prompt_number": 3
    },
    {
     "cell_type": "markdown",
     "metadata": {},
     "source": [
      "### Look People having B.Tech/B.E and MCA are getting higher salary."
     ]
    },
    {
     "cell_type": "markdown",
     "metadata": {},
     "source": [
      "## Date of Joining and Leaving the company are in string format. Let us convert them to pandas date format"
     ]
    },
    {
     "cell_type": "code",
     "collapsed": false,
     "input": [
      "from datetime import datetime\n",
      "def get_date_string(v):\n",
      "    if v:\n",
      "        if v == 'present':\n",
      "            return datetime.today().strftime('%m/%d/%Y')\n",
      "        \n",
      "        date_formatted = datetime.strptime(v, '%d/%m/%y %H:%M').strftime('%m/%d/%Y')\n",
      "        return date_formatted\n",
      "        \n",
      "    else:\n",
      "        return datetime.today().strftime('%m/%d/%Y')\n",
      "    "
     ],
     "language": "python",
     "metadata": {},
     "outputs": [],
     "prompt_number": 78
    },
    {
     "cell_type": "code",
     "collapsed": false,
     "input": [
      "labour_data['DOJ'] = labour_data['DOJ'].apply(get_date_string)  "
     ],
     "language": "python",
     "metadata": {},
     "outputs": [],
     "prompt_number": 79
    },
    {
     "cell_type": "code",
     "collapsed": false,
     "input": [
      "labour_data['DOJ'].head(10)"
     ],
     "language": "python",
     "metadata": {},
     "outputs": [
      {
       "metadata": {},
       "output_type": "pyout",
       "prompt_number": 80,
       "text": [
        "0    01/06/2012\n",
        "1    01/09/2013\n",
        "2    01/06/2014\n",
        "3    01/07/2011\n",
        "4    01/03/2014\n",
        "5    01/06/2014\n",
        "6    01/08/2014\n",
        "7    01/07/2014\n",
        "8    01/07/2013\n",
        "9    01/07/2014\n",
        "Name: DOJ, dtype: object"
       ]
      }
     ],
     "prompt_number": 80
    },
    {
     "cell_type": "code",
     "collapsed": false,
     "input": [
      "labour_data['DOL'] = labour_data['DOL'].apply(get_date_string)"
     ],
     "language": "python",
     "metadata": {},
     "outputs": [],
     "prompt_number": 81
    },
    {
     "cell_type": "code",
     "collapsed": false,
     "input": [
      "labour_data['DOL'].head()"
     ],
     "language": "python",
     "metadata": {},
     "outputs": [
      {
       "metadata": {},
       "output_type": "pyout",
       "prompt_number": 82,
       "text": [
        "0    06/15/2016\n",
        "1    06/15/2016\n",
        "2    06/15/2016\n",
        "3    06/15/2016\n",
        "4    01/03/2015\n",
        "Name: DOL, dtype: object"
       ]
      }
     ],
     "prompt_number": 82
    },
    {
     "cell_type": "code",
     "collapsed": false,
     "input": [
      "\n",
      "labour_data['DOJ'] = pd.to_datetime(labour_data['DOJ'])\n",
      "labour_data['DOL'] = pd.to_datetime(labour_data['DOL'])"
     ],
     "language": "python",
     "metadata": {},
     "outputs": [],
     "prompt_number": 83
    },
    {
     "cell_type": "code",
     "collapsed": false,
     "input": [
      "labour_data['DOJ'].head()"
     ],
     "language": "python",
     "metadata": {},
     "outputs": [
      {
       "metadata": {},
       "output_type": "pyout",
       "prompt_number": 84,
       "text": [
        "0   2012-01-06\n",
        "1   2013-01-09\n",
        "2   2014-01-06\n",
        "3   2011-01-07\n",
        "4   2014-01-03\n",
        "Name: DOJ, dtype: datetime64[ns]"
       ]
      }
     ],
     "prompt_number": 84
    },
    {
     "cell_type": "code",
     "collapsed": false,
     "input": [
      "# calculate the total day spend by the candinate in the Company\n",
      "labour_data['total_labour_days'] = labour_data['DOL'] - labour_data['DOJ']"
     ],
     "language": "python",
     "metadata": {},
     "outputs": [],
     "prompt_number": 85
    },
    {
     "cell_type": "code",
     "collapsed": false,
     "input": [
      "labour_data['total_labour_days'].head()"
     ],
     "language": "python",
     "metadata": {},
     "outputs": [
      {
       "metadata": {},
       "output_type": "pyout",
       "prompt_number": 86,
       "text": [
        "0   1622 days\n",
        "1   1253 days\n",
        "2    891 days\n",
        "3   1986 days\n",
        "4    365 days\n",
        "Name: total_labour_days, dtype: timedelta64[ns]"
       ]
      }
     ],
     "prompt_number": 86
    },
    {
     "cell_type": "code",
     "collapsed": false,
     "input": [
      "labour_data.groupby(['Degree'])['total_labour_days'].value_counts()"
     ],
     "language": "python",
     "metadata": {},
     "outputs": [
      {
       "metadata": {},
       "output_type": "pyout",
       "prompt_number": 93,
       "text": [
        "Degree       total_labour_days\n",
        "B.Tech/B.E.  365 days             131\n",
        "             890 days             106\n",
        "             889 days             105\n",
        "             891 days              96\n",
        "             360 days              90\n",
        "                                 ... \n",
        "MCA          1621 days              1\n",
        "             1624 days              1\n",
        "             1819 days              1\n",
        "             2347 days              1\n",
        "             2354 days              1\n",
        "dtype: int64"
       ]
      }
     ],
     "prompt_number": 93
    },
    {
     "cell_type": "code",
     "collapsed": false,
     "input": [],
     "language": "python",
     "metadata": {},
     "outputs": []
    }
   ],
   "metadata": {}
  }
 ]
}