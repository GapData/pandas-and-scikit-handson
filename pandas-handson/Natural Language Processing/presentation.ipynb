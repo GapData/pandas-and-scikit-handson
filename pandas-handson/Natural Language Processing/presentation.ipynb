{
 "cells": [
  {
   "cell_type": "code",
   "execution_count": 65,
   "metadata": {
    "collapsed": true
   },
   "outputs": [],
   "source": [
    "document = \"\"\"NLP is used to analyze text, allowing machines to understand how\n",
    "human’s speak. This human-computer interaction enables real-world applications\n",
    "like automatic text summarization, sentiment analysis, topic extraction,\n",
    "named entity recognition, parts-of-speech tagging, relationship extraction, \n",
    "stemming, and more. NLP is commonly used for text mining, machine translation,\n",
    "and automated question answering.\"\"\""
   ]
  },
  {
   "cell_type": "markdown",
   "metadata": {},
   "source": [
    "### 1. Sentence Segmentation"
   ]
  },
  {
   "cell_type": "code",
   "execution_count": 66,
   "metadata": {
    "collapsed": true
   },
   "outputs": [],
   "source": [
    "PYTHONWARNINGS=\"ignore\""
   ]
  },
  {
   "cell_type": "code",
   "execution_count": 67,
   "metadata": {
    "collapsed": true
   },
   "outputs": [],
   "source": [
    "from nltk import sent_tokenize\n",
    "\n",
    "sentences = sent_tokenize(document)"
   ]
  },
  {
   "cell_type": "code",
   "execution_count": 68,
   "metadata": {},
   "outputs": [
    {
     "data": {
      "text/plain": [
       "3"
      ]
     },
     "execution_count": 68,
     "metadata": {},
     "output_type": "execute_result"
    }
   ],
   "source": [
    "len(sentences)"
   ]
  },
  {
   "cell_type": "markdown",
   "metadata": {},
   "source": [
    "### 2. Tokenization"
   ]
  },
  {
   "cell_type": "code",
   "execution_count": 69,
   "metadata": {},
   "outputs": [
    {
     "data": {
      "text/plain": [
       "['NLP',\n",
       " 'is',\n",
       " 'used',\n",
       " 'to',\n",
       " 'analyze',\n",
       " 'text',\n",
       " ',',\n",
       " 'allowing',\n",
       " 'machines',\n",
       " 'to']"
      ]
     },
     "execution_count": 69,
     "metadata": {},
     "output_type": "execute_result"
    }
   ],
   "source": [
    "from nltk.tokenize import word_tokenize\n",
    "tokens = word_tokenize(document)\n",
    "\n",
    "tokens[:10]"
   ]
  },
  {
   "cell_type": "markdown",
   "metadata": {},
   "source": [
    "### 3. Stopwords"
   ]
  },
  {
   "cell_type": "code",
   "execution_count": 70,
   "metadata": {},
   "outputs": [
    {
     "name": "stdout",
     "output_type": "stream",
     "text": [
      "['i', 'me', 'my', 'myself', 'we', 'our', 'ours', 'ourselves', 'you', 'your', 'yours', 'yourself', 'yourselves', 'he', 'him', 'his', 'himself', 'she', 'her', 'hers', 'herself', 'it', 'its', 'itself', 'they', 'them', 'their', 'theirs', 'themselves', 'what', 'which', 'who', 'whom', 'this', 'that', 'these', 'those', 'am', 'is', 'are', 'was', 'were', 'be', 'been', 'being', 'have', 'has', 'had', 'having', 'do', 'does', 'did', 'doing', 'a', 'an', 'the', 'and', 'but', 'if', 'or', 'because', 'as', 'until', 'while', 'of', 'at', 'by', 'for', 'with', 'about', 'against', 'between', 'into', 'through', 'during', 'before', 'after', 'above', 'below', 'to', 'from', 'up', 'down', 'in', 'out', 'on', 'off', 'over', 'under', 'again', 'further', 'then', 'once', 'here', 'there', 'when', 'where', 'why', 'how', 'all', 'any', 'both', 'each', 'few', 'more', 'most', 'other', 'some', 'such', 'no', 'nor', 'not', 'only', 'own', 'same', 'so', 'than', 'too', 'very', 's', 't', 'can', 'will', 'just', 'don', 'should', 'now', 'd', 'll', 'm', 'o', 're', 've', 'y', 'ain', 'aren', 'couldn', 'didn', 'doesn', 'hadn', 'hasn', 'haven', 'isn', 'ma', 'mightn', 'mustn', 'needn', 'shan', 'shouldn', 'wasn', 'weren', 'won', 'wouldn']\n"
     ]
    }
   ],
   "source": [
    "\n",
    "from nltk.corpus import stopwords\n",
    "stop_words = stopwords.words('english')\n",
    "print(stop_words)"
   ]
  },
  {
   "cell_type": "code",
   "execution_count": 71,
   "metadata": {},
   "outputs": [
    {
     "name": "stdout",
     "output_type": "stream",
     "text": [
      "['NLP', 'used', 'analyze', 'text', ',', 'allowing', 'machines', 'understand', 'human', '’', 'speak', '.', 'This', 'human-computer', 'interaction', 'enables', 'real-world', 'applications', 'like', 'automatic']\n"
     ]
    }
   ],
   "source": [
    "words = [w for w in tokens if not w in stop_words]\n",
    "print(words[:20])"
   ]
  },
  {
   "cell_type": "markdown",
   "metadata": {},
   "source": [
    "### 4. Lemmatization ( and stemming)"
   ]
  },
  {
   "cell_type": "code",
   "execution_count": 73,
   "metadata": {},
   "outputs": [
    {
     "data": {
      "text/plain": [
       "('sang', 'sing')"
      ]
     },
     "execution_count": 73,
     "metadata": {},
     "output_type": "execute_result"
    }
   ],
   "source": [
    "from nltk.stem import PorterStemmer\n",
    "\n",
    "# the most commonly used stemmer\n",
    "ps = PorterStemmer()\n",
    "ps.stem(\"sang\"), ps.stem(\"singing\")"
   ]
  },
  {
   "cell_type": "code",
   "execution_count": 74,
   "metadata": {},
   "outputs": [
    {
     "data": {
      "text/plain": [
       "('sing', 'sing')"
      ]
     },
     "execution_count": 74,
     "metadata": {},
     "output_type": "execute_result"
    }
   ],
   "source": [
    "from nltk.stem import WordNetLemmatizer\n",
    "# Without a POS tag, it assumes the word to be NOUN, be default.\n",
    "lemmatizer = WordNetLemmatizer()\n",
    "lemmatizer.lemmatize(\"sang\", pos='v'), lemmatizer.lemmatize(\"singing\", pos='v')"
   ]
  },
  {
   "cell_type": "code",
   "execution_count": 34,
   "metadata": {},
   "outputs": [
    {
     "name": "stdout",
     "output_type": "stream",
     "text": [
      "['nlp', 'use', 'analyz', 'text', ',', 'allow', 'machin', 'understand', 'human', '’', 'speak', '.', 'thi', 'human-comput', 'interact', 'enabl', 'real-world', 'applic', 'like', 'automat']\n"
     ]
    }
   ],
   "source": [
    "stemmed = [ps.stem(word) for word in words]\n",
    "print(stemmed[:20])"
   ]
  },
  {
   "cell_type": "code",
   "execution_count": 36,
   "metadata": {},
   "outputs": [
    {
     "name": "stdout",
     "output_type": "stream",
     "text": [
      "['NLP', 'use', 'analyze', 'text', ',', 'allow', 'machine', 'understand', 'human', '’', 'speak', '.', 'This', 'human-computer', 'interaction', 'enable', 'real-world', 'applications', 'like', 'automatic']\n"
     ]
    }
   ],
   "source": [
    "\n",
    "lemmas = [lemmatizer.lemmatize(word, pos='v') for word in words]\n",
    "print(lemmas[:20])"
   ]
  },
  {
   "cell_type": "code",
   "execution_count": null,
   "metadata": {
    "collapsed": true
   },
   "outputs": [],
   "source": []
  },
  {
   "cell_type": "markdown",
   "metadata": {},
   "source": [
    "## CHALLENGE : Identifying Duplicate questions in Quora"
   ]
  },
  {
   "cell_type": "code",
   "execution_count": 1,
   "metadata": {},
   "outputs": [
    {
     "name": "stderr",
     "output_type": "stream",
     "text": [
      "/home/leapfrong/workspace/envs/envpractice/lib/python3.5/importlib/_bootstrap.py:222: RuntimeWarning: numpy.dtype size changed, may indicate binary incompatibility. Expected 96, got 88\n",
      "  return f(*args, **kwds)\n"
     ]
    }
   ],
   "source": [
    "import pandas as pd\n",
    "pd.set_option('display.max_colwidth', -1)"
   ]
  },
  {
   "cell_type": "code",
   "execution_count": 81,
   "metadata": {
    "collapsed": true
   },
   "outputs": [],
   "source": [
    "\n",
    "df = pd.read_csv(\"train.csv\",encoding=\"ISO-8859-1\")\n",
    "df = df[:2000]"
   ]
  },
  {
   "cell_type": "code",
   "execution_count": 42,
   "metadata": {},
   "outputs": [],
   "source": [
    "# from sklearn.model_selection import train_test_split\n",
    "# from sklearn.ensemble import RandomForestClassifier\n",
    "\n",
    "# train, test = train_test_split(df, train_size=0.8)"
   ]
  },
  {
   "cell_type": "code",
   "execution_count": 43,
   "metadata": {},
   "outputs": [],
   "source": [
    "# parallel computing \n",
    "# classifier = RandomForestClassifier(n_jobs=-1)\n",
    "\n",
    "# classifier.fit(train[['q1_word_count', 'q2_word_count', 'common_word_count']], train.is_duplicate)"
   ]
  },
  {
   "cell_type": "code",
   "execution_count": 44,
   "metadata": {},
   "outputs": [],
   "source": [
    "# test.shape\n",
    "\n",
    "# score = classifier.score(test[['q1_word_count', 'q2_word_count', 'common_word_count']], test.is_duplicate)\n",
    "# print('score is', score)"
   ]
  },
  {
   "cell_type": "code",
   "execution_count": 76,
   "metadata": {},
   "outputs": [
    {
     "data": {
      "text/html": [
       "<div>\n",
       "<style scoped>\n",
       "    .dataframe tbody tr th:only-of-type {\n",
       "        vertical-align: middle;\n",
       "    }\n",
       "\n",
       "    .dataframe tbody tr th {\n",
       "        vertical-align: top;\n",
       "    }\n",
       "\n",
       "    .dataframe thead th {\n",
       "        text-align: right;\n",
       "    }\n",
       "</style>\n",
       "<table border=\"1\" class=\"dataframe\">\n",
       "  <thead>\n",
       "    <tr style=\"text-align: right;\">\n",
       "      <th></th>\n",
       "      <th>question1</th>\n",
       "      <th>question2</th>\n",
       "      <th>is_duplicate</th>\n",
       "    </tr>\n",
       "  </thead>\n",
       "  <tbody>\n",
       "    <tr>\n",
       "      <th>0</th>\n",
       "      <td>What is the step by step guide to invest in share market in</td>\n",
       "      <td>What is the step by step guide to invest in share</td>\n",
       "      <td>0</td>\n",
       "    </tr>\n",
       "    <tr>\n",
       "      <th>1</th>\n",
       "      <td>What is the story of Kohinoor</td>\n",
       "      <td>What would happen if the Indian government stole the Kohinoor diamond</td>\n",
       "      <td>0</td>\n",
       "    </tr>\n",
       "    <tr>\n",
       "      <th>2</th>\n",
       "      <td>How can I increase the speed of my internet connection while using a</td>\n",
       "      <td>How can Internet speed be increased by hacking through</td>\n",
       "      <td>0</td>\n",
       "    </tr>\n",
       "    <tr>\n",
       "      <th>3</th>\n",
       "      <td>Why am I mentally very How can I solve</td>\n",
       "      <td>Find the remainder when is divided by</td>\n",
       "      <td>0</td>\n",
       "    </tr>\n",
       "    <tr>\n",
       "      <th>4</th>\n",
       "      <td>Which one dissolve in water quikly methane and carbon di</td>\n",
       "      <td>Which fish would survive in salt</td>\n",
       "      <td>0</td>\n",
       "    </tr>\n",
       "    <tr>\n",
       "      <th>5</th>\n",
       "      <td>I am a Capricorn Sun Cap moon and cap does that say about</td>\n",
       "      <td>a triple Capricorn Moon and ascendant in What does this say about</td>\n",
       "      <td>1</td>\n",
       "    </tr>\n",
       "    <tr>\n",
       "      <th>6</th>\n",
       "      <td>Should I buy</td>\n",
       "      <td>What keeps childern active and far from phone and video</td>\n",
       "      <td>0</td>\n",
       "    </tr>\n",
       "    <tr>\n",
       "      <th>7</th>\n",
       "      <td>How can I be a good</td>\n",
       "      <td>What should I do to be a great</td>\n",
       "      <td>1</td>\n",
       "    </tr>\n",
       "    <tr>\n",
       "      <th>8</th>\n",
       "      <td>When do you use instead of</td>\n",
       "      <td>When do you use instead of</td>\n",
       "      <td>0</td>\n",
       "    </tr>\n",
       "    <tr>\n",
       "      <th>9</th>\n",
       "      <td>Motorola Can I hack my Charter Motorolla</td>\n",
       "      <td>How do I hack Motorola DCX3400 for free</td>\n",
       "      <td>0</td>\n",
       "    </tr>\n",
       "    <tr>\n",
       "      <th>10</th>\n",
       "      <td>Method to find separation of slits using fresnel</td>\n",
       "      <td>What are some of the things technicians can tell about the durability and reliability of Laptops and its</td>\n",
       "      <td>0</td>\n",
       "    </tr>\n",
       "    <tr>\n",
       "      <th>11</th>\n",
       "      <td>How do I read and find my YouTube</td>\n",
       "      <td>How can I see all my Youtube</td>\n",
       "      <td>1</td>\n",
       "    </tr>\n",
       "    <tr>\n",
       "      <th>12</th>\n",
       "      <td>What can make Physics easy to</td>\n",
       "      <td>How can you make physics easy to</td>\n",
       "      <td>1</td>\n",
       "    </tr>\n",
       "    <tr>\n",
       "      <th>13</th>\n",
       "      <td>What was your first sexual experience</td>\n",
       "      <td>What was your first sexual</td>\n",
       "      <td>1</td>\n",
       "    </tr>\n",
       "    <tr>\n",
       "      <th>14</th>\n",
       "      <td>What are the laws to change your status from a student visa to a green card in the how do they compare to the immigration laws in</td>\n",
       "      <td>What are the laws to change your status from a student visa to a green card in the How do they compare to the immigration laws in</td>\n",
       "      <td>0</td>\n",
       "    </tr>\n",
       "    <tr>\n",
       "      <th>15</th>\n",
       "      <td>What would a Trump presidency mean for current international students on an F1</td>\n",
       "      <td>How will a Trump presidency affect the students presently in US or planning to study in</td>\n",
       "      <td>1</td>\n",
       "    </tr>\n",
       "    <tr>\n",
       "      <th>16</th>\n",
       "      <td>What does manipulation</td>\n",
       "      <td>What does manipulation</td>\n",
       "      <td>1</td>\n",
       "    </tr>\n",
       "    <tr>\n",
       "      <th>17</th>\n",
       "      <td>Why do girls want to be friends with the guy they</td>\n",
       "      <td>How do guys feel after rejecting a</td>\n",
       "      <td>0</td>\n",
       "    </tr>\n",
       "    <tr>\n",
       "      <th>18</th>\n",
       "      <td>Why are so many Quora users posting questions that are readily answered on</td>\n",
       "      <td>Why do people ask Quora questions which can be answered easily by</td>\n",
       "      <td>1</td>\n",
       "    </tr>\n",
       "    <tr>\n",
       "      <th>19</th>\n",
       "      <td>Which is the best digital marketing institution in</td>\n",
       "      <td>Which is the best digital marketing institute in</td>\n",
       "      <td>0</td>\n",
       "    </tr>\n",
       "    <tr>\n",
       "      <th>20</th>\n",
       "      <td>Why do rockets look</td>\n",
       "      <td>Why are rockets and boosters painted</td>\n",
       "      <td>1</td>\n",
       "    </tr>\n",
       "    <tr>\n",
       "      <th>21</th>\n",
       "      <td>causing someone to be</td>\n",
       "      <td>What can I do to avoid being jealous of</td>\n",
       "      <td>0</td>\n",
       "    </tr>\n",
       "    <tr>\n",
       "      <th>22</th>\n",
       "      <td>What are the questions should not ask on</td>\n",
       "      <td>Which question should I ask on</td>\n",
       "      <td>0</td>\n",
       "    </tr>\n",
       "    <tr>\n",
       "      <th>23</th>\n",
       "      <td>How much is 30 kV in</td>\n",
       "      <td>Where can I find a conversion chart for CC to</td>\n",
       "      <td>0</td>\n",
       "    </tr>\n",
       "    <tr>\n",
       "      <th>24</th>\n",
       "      <td>What does it mean that every time I look at the clock the numbers are the</td>\n",
       "      <td>How many times a day do a hands</td>\n",
       "      <td>0</td>\n",
       "    </tr>\n",
       "    <tr>\n",
       "      <th>25</th>\n",
       "      <td>What are some tips on making it through the job interview process at</td>\n",
       "      <td>What are some tips on making it through the job interview process at Foundation</td>\n",
       "      <td>0</td>\n",
       "    </tr>\n",
       "    <tr>\n",
       "      <th>26</th>\n",
       "      <td>What is web</td>\n",
       "      <td>What is the web application</td>\n",
       "      <td>0</td>\n",
       "    </tr>\n",
       "    <tr>\n",
       "      <th>27</th>\n",
       "      <td>Does society place too much importance on</td>\n",
       "      <td>How do sports contribute to the</td>\n",
       "      <td>0</td>\n",
       "    </tr>\n",
       "    <tr>\n",
       "      <th>28</th>\n",
       "      <td>What is best way to make money</td>\n",
       "      <td>What is best way to ask for money</td>\n",
       "      <td>0</td>\n",
       "    </tr>\n",
       "    <tr>\n",
       "      <th>29</th>\n",
       "      <td>How should I prepare for CA final</td>\n",
       "      <td>How one should know that completely prepare for CA final</td>\n",
       "      <td>1</td>\n",
       "    </tr>\n",
       "    <tr>\n",
       "      <th>...</th>\n",
       "      <td>...</td>\n",
       "      <td>...</td>\n",
       "      <td>...</td>\n",
       "    </tr>\n",
       "    <tr>\n",
       "      <th>1970</th>\n",
       "      <td>What is the smallest event that needs to happen for all bitcoin transactions to be wiped</td>\n",
       "      <td>Are there any quality American</td>\n",
       "      <td>0</td>\n",
       "    </tr>\n",
       "    <tr>\n",
       "      <th>1971</th>\n",
       "      <td>How do the survivors of the real Deepwater Horizon feel about the recent</td>\n",
       "      <td>What are the of the movie Deepwater</td>\n",
       "      <td>0</td>\n",
       "    </tr>\n",
       "    <tr>\n",
       "      <th>1972</th>\n",
       "      <td>How do I prepare for the GATE and is coaching necessary or</td>\n",
       "      <td>Is it necessary to go for coaching for GATE</td>\n",
       "      <td>1</td>\n",
       "    </tr>\n",
       "    <tr>\n",
       "      <th>1973</th>\n",
       "      <td>Why do we fall for someone whom we be</td>\n",
       "      <td>Why do we fall for someone whom we be a part of their</td>\n",
       "      <td>1</td>\n",
       "    </tr>\n",
       "    <tr>\n",
       "      <th>1974</th>\n",
       "      <td>What are the best spaces and meeting room rental options in</td>\n",
       "      <td>What are the best spaces and meeting room rental options in</td>\n",
       "      <td>0</td>\n",
       "    </tr>\n",
       "    <tr>\n",
       "      <th>1975</th>\n",
       "      <td>What would happen if a person listened to music all day</td>\n",
       "      <td>Do I have mania if I listen to music all day</td>\n",
       "      <td>0</td>\n",
       "    </tr>\n",
       "    <tr>\n",
       "      <th>1976</th>\n",
       "      <td>What are the best resources when applying for a music graduate</td>\n",
       "      <td>What are the best resources when applying for a history graduate</td>\n",
       "      <td>0</td>\n",
       "    </tr>\n",
       "    <tr>\n",
       "      <th>1977</th>\n",
       "      <td>What are the emerging trends in structured</td>\n",
       "      <td>What are the emerging trends in structural</td>\n",
       "      <td>1</td>\n",
       "    </tr>\n",
       "    <tr>\n",
       "      <th>1978</th>\n",
       "      <td>Which is the correct will appreciate if or would appreciate if</td>\n",
       "      <td>How do I correct WordPress mobile grammar</td>\n",
       "      <td>0</td>\n",
       "    </tr>\n",
       "    <tr>\n",
       "      <th>1979</th>\n",
       "      <td>What should I do to improve my English</td>\n",
       "      <td>What is the best way to improve my spoken English</td>\n",
       "      <td>1</td>\n",
       "    </tr>\n",
       "    <tr>\n",
       "      <th>1980</th>\n",
       "      <td>Why do people say Obama is when he is half</td>\n",
       "      <td>President Obama is half black and half Many people in the USA see him as but it seems not many if any at see him as why is</td>\n",
       "      <td>1</td>\n",
       "    </tr>\n",
       "    <tr>\n",
       "      <th>1981</th>\n",
       "      <td>Which Instagram hashtag is best to attract more</td>\n",
       "      <td>What are the best hashtags for Instagram</td>\n",
       "      <td>1</td>\n",
       "    </tr>\n",
       "    <tr>\n",
       "      <th>1982</th>\n",
       "      <td>When having where should the man put his</td>\n",
       "      <td>Can a man keep his penis and have surgery to get a</td>\n",
       "      <td>0</td>\n",
       "    </tr>\n",
       "    <tr>\n",
       "      <th>1983</th>\n",
       "      <td>How did Donald trump</td>\n",
       "      <td>How did Donald Trump win despite projections that he would</td>\n",
       "      <td>1</td>\n",
       "    </tr>\n",
       "    <tr>\n",
       "      <th>1984</th>\n",
       "      <td>How do you get surf in Pokemon</td>\n",
       "      <td>In is there a that can learn both surf and</td>\n",
       "      <td>0</td>\n",
       "    </tr>\n",
       "    <tr>\n",
       "      <th>1985</th>\n",
       "      <td>Have you ever had sex with your</td>\n",
       "      <td>Have you ever had sex with a</td>\n",
       "      <td>1</td>\n",
       "    </tr>\n",
       "    <tr>\n",
       "      <th>1986</th>\n",
       "      <td>What is the significance of a 1962 American</td>\n",
       "      <td>What is the significance of a 1969 American</td>\n",
       "      <td>0</td>\n",
       "    </tr>\n",
       "    <tr>\n",
       "      <th>1987</th>\n",
       "      <td>What is</td>\n",
       "      <td>What is a</td>\n",
       "      <td>1</td>\n",
       "    </tr>\n",
       "    <tr>\n",
       "      <th>1988</th>\n",
       "      <td>What will be the effect of recent demonetization of rs500 and rs 1000 notes on the real estate or property</td>\n",
       "      <td>How does the declaration that Rs 500 and Rs 1000 notes would not be accepted as valid transactions affect real estate in</td>\n",
       "      <td>1</td>\n",
       "    </tr>\n",
       "    <tr>\n",
       "      <th>1989</th>\n",
       "      <td>How much does a uber driver earn in</td>\n",
       "      <td>How much does Uber driver earn in</td>\n",
       "      <td>1</td>\n",
       "    </tr>\n",
       "    <tr>\n",
       "      <th>1990</th>\n",
       "      <td>How can I find a job in</td>\n",
       "      <td>How do I find a job in</td>\n",
       "      <td>1</td>\n",
       "    </tr>\n",
       "    <tr>\n",
       "      <th>1991</th>\n",
       "      <td>How is daily life in North</td>\n",
       "      <td>How is life in North What are the typical lifestyles of different sections of people in North</td>\n",
       "      <td>1</td>\n",
       "    </tr>\n",
       "    <tr>\n",
       "      <th>1992</th>\n",
       "      <td>or why should the minimum wage be raised to</td>\n",
       "      <td>Should the minimum wage be raised to for all American</td>\n",
       "      <td>1</td>\n",
       "    </tr>\n",
       "    <tr>\n",
       "      <th>1993</th>\n",
       "      <td>How do I take professional</td>\n",
       "      <td>What are some ways to take professional product</td>\n",
       "      <td>0</td>\n",
       "    </tr>\n",
       "    <tr>\n",
       "      <th>1994</th>\n",
       "      <td>How does the aluminum in MacBook Pros react with human</td>\n",
       "      <td>What are the pros and cons of a computer science student for using a</td>\n",
       "      <td>0</td>\n",
       "    </tr>\n",
       "    <tr>\n",
       "      <th>1995</th>\n",
       "      <td>I am visiting Sri Lanka soonfor 9 how can I pick up Sri Lankan girls and have</td>\n",
       "      <td>Do Indians hate Sri</td>\n",
       "      <td>0</td>\n",
       "    </tr>\n",
       "    <tr>\n",
       "      <th>1996</th>\n",
       "      <td>What are some good examples of 4 stanza</td>\n",
       "      <td>What are some good Ilocano</td>\n",
       "      <td>0</td>\n",
       "    </tr>\n",
       "    <tr>\n",
       "      <th>1997</th>\n",
       "      <td>Which CPU is better I3 4th Gen or 6th</td>\n",
       "      <td>Which is better intel i5 or i7</td>\n",
       "      <td>0</td>\n",
       "    </tr>\n",
       "    <tr>\n",
       "      <th>1998</th>\n",
       "      <td>What are some of the best tourist places to visit in</td>\n",
       "      <td>Where are the foremost tourist places in</td>\n",
       "      <td>1</td>\n",
       "    </tr>\n",
       "    <tr>\n",
       "      <th>1999</th>\n",
       "      <td>What are the differences between a love marriage and an arranged</td>\n",
       "      <td>Which is an arranged marriage or a love</td>\n",
       "      <td>0</td>\n",
       "    </tr>\n",
       "  </tbody>\n",
       "</table>\n",
       "<p>2000 rows × 3 columns</p>\n",
       "</div>"
      ],
      "text/plain": [
       "                                                                                                                              question1  \\\n",
       "0     What is the step by step guide to invest in share market in                                                                         \n",
       "1     What is the story of Kohinoor                                                                                                       \n",
       "2     How can I increase the speed of my internet connection while using a                                                                \n",
       "3     Why am I mentally very How can I solve                                                                                              \n",
       "4     Which one dissolve in water quikly methane and carbon di                                                                            \n",
       "5     I am a Capricorn Sun Cap moon and cap does that say about                                                                           \n",
       "6     Should I buy                                                                                                                        \n",
       "7     How can I be a good                                                                                                                 \n",
       "8     When do you use instead of                                                                                                          \n",
       "9     Motorola Can I hack my Charter Motorolla                                                                                            \n",
       "10    Method to find separation of slits using fresnel                                                                                    \n",
       "11    How do I read and find my YouTube                                                                                                   \n",
       "12    What can make Physics easy to                                                                                                       \n",
       "13    What was your first sexual experience                                                                                               \n",
       "14    What are the laws to change your status from a student visa to a green card in the how do they compare to the immigration laws in   \n",
       "15    What would a Trump presidency mean for current international students on an F1                                                      \n",
       "16    What does manipulation                                                                                                              \n",
       "17    Why do girls want to be friends with the guy they                                                                                   \n",
       "18    Why are so many Quora users posting questions that are readily answered on                                                          \n",
       "19    Which is the best digital marketing institution in                                                                                  \n",
       "20    Why do rockets look                                                                                                                 \n",
       "21    causing someone to be                                                                                                               \n",
       "22    What are the questions should not ask on                                                                                            \n",
       "23    How much is 30 kV in                                                                                                                \n",
       "24    What does it mean that every time I look at the clock the numbers are the                                                           \n",
       "25    What are some tips on making it through the job interview process at                                                                \n",
       "26    What is web                                                                                                                         \n",
       "27    Does society place too much importance on                                                                                           \n",
       "28    What is best way to make money                                                                                                      \n",
       "29    How should I prepare for CA final                                                                                                   \n",
       "...                                 ...                                                                                                   \n",
       "1970  What is the smallest event that needs to happen for all bitcoin transactions to be wiped                                            \n",
       "1971  How do the survivors of the real Deepwater Horizon feel about the recent                                                            \n",
       "1972  How do I prepare for the GATE and is coaching necessary or                                                                          \n",
       "1973  Why do we fall for someone whom we be                                                                                               \n",
       "1974  What are the best spaces and meeting room rental options in                                                                         \n",
       "1975  What would happen if a person listened to music all day                                                                             \n",
       "1976  What are the best resources when applying for a music graduate                                                                      \n",
       "1977  What are the emerging trends in structured                                                                                          \n",
       "1978  Which is the correct will appreciate if or would appreciate if                                                                      \n",
       "1979  What should I do to improve my English                                                                                              \n",
       "1980  Why do people say Obama is when he is half                                                                                          \n",
       "1981  Which Instagram hashtag is best to attract more                                                                                     \n",
       "1982  When having where should the man put his                                                                                            \n",
       "1983  How did Donald trump                                                                                                                \n",
       "1984  How do you get surf in Pokemon                                                                                                      \n",
       "1985  Have you ever had sex with your                                                                                                     \n",
       "1986  What is the significance of a 1962 American                                                                                         \n",
       "1987  What is                                                                                                                             \n",
       "1988  What will be the effect of recent demonetization of rs500 and rs 1000 notes on the real estate or property                          \n",
       "1989  How much does a uber driver earn in                                                                                                 \n",
       "1990  How can I find a job in                                                                                                             \n",
       "1991  How is daily life in North                                                                                                          \n",
       "1992  or why should the minimum wage be raised to                                                                                         \n",
       "1993  How do I take professional                                                                                                          \n",
       "1994  How does the aluminum in MacBook Pros react with human                                                                              \n",
       "1995  I am visiting Sri Lanka soonfor 9 how can I pick up Sri Lankan girls and have                                                       \n",
       "1996  What are some good examples of 4 stanza                                                                                             \n",
       "1997  Which CPU is better I3 4th Gen or 6th                                                                                               \n",
       "1998  What are some of the best tourist places to visit in                                                                                \n",
       "1999  What are the differences between a love marriage and an arranged                                                                    \n",
       "\n",
       "                                                                                                                              question2  \\\n",
       "0     What is the step by step guide to invest in share                                                                                   \n",
       "1     What would happen if the Indian government stole the Kohinoor diamond                                                               \n",
       "2     How can Internet speed be increased by hacking through                                                                              \n",
       "3     Find the remainder when is divided by                                                                                               \n",
       "4     Which fish would survive in salt                                                                                                    \n",
       "5     a triple Capricorn Moon and ascendant in What does this say about                                                                   \n",
       "6     What keeps childern active and far from phone and video                                                                             \n",
       "7     What should I do to be a great                                                                                                      \n",
       "8     When do you use instead of                                                                                                          \n",
       "9     How do I hack Motorola DCX3400 for free                                                                                             \n",
       "10    What are some of the things technicians can tell about the durability and reliability of Laptops and its                            \n",
       "11    How can I see all my Youtube                                                                                                        \n",
       "12    How can you make physics easy to                                                                                                    \n",
       "13    What was your first sexual                                                                                                          \n",
       "14    What are the laws to change your status from a student visa to a green card in the How do they compare to the immigration laws in   \n",
       "15    How will a Trump presidency affect the students presently in US or planning to study in                                             \n",
       "16    What does manipulation                                                                                                              \n",
       "17    How do guys feel after rejecting a                                                                                                  \n",
       "18    Why do people ask Quora questions which can be answered easily by                                                                   \n",
       "19    Which is the best digital marketing institute in                                                                                    \n",
       "20    Why are rockets and boosters painted                                                                                                \n",
       "21    What can I do to avoid being jealous of                                                                                             \n",
       "22    Which question should I ask on                                                                                                      \n",
       "23    Where can I find a conversion chart for CC to                                                                                       \n",
       "24    How many times a day do a hands                                                                                                     \n",
       "25    What are some tips on making it through the job interview process at Foundation                                                     \n",
       "26    What is the web application                                                                                                         \n",
       "27    How do sports contribute to the                                                                                                     \n",
       "28    What is best way to ask for money                                                                                                   \n",
       "29    How one should know that completely prepare for CA final                                                                            \n",
       "...                                                        ...                                                                            \n",
       "1970  Are there any quality American                                                                                                      \n",
       "1971  What are the of the movie Deepwater                                                                                                 \n",
       "1972  Is it necessary to go for coaching for GATE                                                                                         \n",
       "1973  Why do we fall for someone whom we be a part of their                                                                               \n",
       "1974  What are the best spaces and meeting room rental options in                                                                         \n",
       "1975  Do I have mania if I listen to music all day                                                                                        \n",
       "1976  What are the best resources when applying for a history graduate                                                                    \n",
       "1977  What are the emerging trends in structural                                                                                          \n",
       "1978  How do I correct WordPress mobile grammar                                                                                           \n",
       "1979  What is the best way to improve my spoken English                                                                                   \n",
       "1980  President Obama is half black and half Many people in the USA see him as but it seems not many if any at see him as why is          \n",
       "1981  What are the best hashtags for Instagram                                                                                            \n",
       "1982  Can a man keep his penis and have surgery to get a                                                                                  \n",
       "1983  How did Donald Trump win despite projections that he would                                                                          \n",
       "1984  In is there a that can learn both surf and                                                                                          \n",
       "1985  Have you ever had sex with a                                                                                                        \n",
       "1986  What is the significance of a 1969 American                                                                                         \n",
       "1987  What is a                                                                                                                           \n",
       "1988  How does the declaration that Rs 500 and Rs 1000 notes would not be accepted as valid transactions affect real estate in            \n",
       "1989  How much does Uber driver earn in                                                                                                   \n",
       "1990  How do I find a job in                                                                                                              \n",
       "1991  How is life in North What are the typical lifestyles of different sections of people in North                                       \n",
       "1992  Should the minimum wage be raised to for all American                                                                               \n",
       "1993  What are some ways to take professional product                                                                                     \n",
       "1994  What are the pros and cons of a computer science student for using a                                                                \n",
       "1995  Do Indians hate Sri                                                                                                                 \n",
       "1996  What are some good Ilocano                                                                                                          \n",
       "1997  Which is better intel i5 or i7                                                                                                      \n",
       "1998  Where are the foremost tourist places in                                                                                            \n",
       "1999  Which is an arranged marriage or a love                                                                                             \n",
       "\n",
       "      is_duplicate  \n",
       "0     0             \n",
       "1     0             \n",
       "2     0             \n",
       "3     0             \n",
       "4     0             \n",
       "5     1             \n",
       "6     0             \n",
       "7     1             \n",
       "8     0             \n",
       "9     0             \n",
       "10    0             \n",
       "11    1             \n",
       "12    1             \n",
       "13    1             \n",
       "14    0             \n",
       "15    1             \n",
       "16    1             \n",
       "17    0             \n",
       "18    1             \n",
       "19    0             \n",
       "20    1             \n",
       "21    0             \n",
       "22    0             \n",
       "23    0             \n",
       "24    0             \n",
       "25    0             \n",
       "26    0             \n",
       "27    0             \n",
       "28    0             \n",
       "29    1             \n",
       "...  ..             \n",
       "1970  0             \n",
       "1971  0             \n",
       "1972  1             \n",
       "1973  1             \n",
       "1974  0             \n",
       "1975  0             \n",
       "1976  0             \n",
       "1977  1             \n",
       "1978  0             \n",
       "1979  1             \n",
       "1980  1             \n",
       "1981  1             \n",
       "1982  0             \n",
       "1983  1             \n",
       "1984  0             \n",
       "1985  1             \n",
       "1986  0             \n",
       "1987  1             \n",
       "1988  1             \n",
       "1989  1             \n",
       "1990  1             \n",
       "1991  1             \n",
       "1992  1             \n",
       "1993  0             \n",
       "1994  0             \n",
       "1995  0             \n",
       "1996  0             \n",
       "1997  0             \n",
       "1998  1             \n",
       "1999  0             \n",
       "\n",
       "[2000 rows x 3 columns]"
      ]
     },
     "execution_count": 76,
     "metadata": {},
     "output_type": "execute_result"
    }
   ],
   "source": [
    "df[['question1', 'question2', 'is_duplicate']]"
   ]
  },
  {
   "cell_type": "code",
   "execution_count": 9,
   "metadata": {},
   "outputs": [
    {
     "data": {
      "text/html": [
       "<div>\n",
       "<style scoped>\n",
       "    .dataframe tbody tr th:only-of-type {\n",
       "        vertical-align: middle;\n",
       "    }\n",
       "\n",
       "    .dataframe tbody tr th {\n",
       "        vertical-align: top;\n",
       "    }\n",
       "\n",
       "    .dataframe thead th {\n",
       "        text-align: right;\n",
       "    }\n",
       "</style>\n",
       "<table border=\"1\" class=\"dataframe\">\n",
       "  <thead>\n",
       "    <tr style=\"text-align: right;\">\n",
       "      <th></th>\n",
       "      <th>id</th>\n",
       "      <th>qid1</th>\n",
       "      <th>qid2</th>\n",
       "      <th>question1</th>\n",
       "      <th>question2</th>\n",
       "      <th>is_duplicate</th>\n",
       "      <th>q1_word_count</th>\n",
       "      <th>q2_word_count</th>\n",
       "      <th>common_word_count</th>\n",
       "    </tr>\n",
       "  </thead>\n",
       "  <tbody>\n",
       "    <tr>\n",
       "      <th>5</th>\n",
       "      <td>5</td>\n",
       "      <td>11</td>\n",
       "      <td>12</td>\n",
       "      <td>Astrology: I am a Capricorn Sun Cap moon and cap rising...what does that say about me?</td>\n",
       "      <td>I'm a triple Capricorn (Sun, Moon and ascendant in Capricorn) What does this say about me?</td>\n",
       "      <td>1</td>\n",
       "      <td>16</td>\n",
       "      <td>16</td>\n",
       "      <td>8</td>\n",
       "    </tr>\n",
       "    <tr>\n",
       "      <th>7</th>\n",
       "      <td>7</td>\n",
       "      <td>15</td>\n",
       "      <td>16</td>\n",
       "      <td>How can I be a good geologist?</td>\n",
       "      <td>What should I do to be a great geologist?</td>\n",
       "      <td>1</td>\n",
       "      <td>7</td>\n",
       "      <td>9</td>\n",
       "      <td>4</td>\n",
       "    </tr>\n",
       "    <tr>\n",
       "      <th>11</th>\n",
       "      <td>11</td>\n",
       "      <td>23</td>\n",
       "      <td>24</td>\n",
       "      <td>How do I read and find my YouTube comments?</td>\n",
       "      <td>How can I see all my Youtube comments?</td>\n",
       "      <td>1</td>\n",
       "      <td>9</td>\n",
       "      <td>8</td>\n",
       "      <td>5</td>\n",
       "    </tr>\n",
       "    <tr>\n",
       "      <th>12</th>\n",
       "      <td>12</td>\n",
       "      <td>25</td>\n",
       "      <td>26</td>\n",
       "      <td>What can make Physics easy to learn?</td>\n",
       "      <td>How can you make physics easy to learn?</td>\n",
       "      <td>1</td>\n",
       "      <td>7</td>\n",
       "      <td>8</td>\n",
       "      <td>6</td>\n",
       "    </tr>\n",
       "    <tr>\n",
       "      <th>13</th>\n",
       "      <td>13</td>\n",
       "      <td>27</td>\n",
       "      <td>28</td>\n",
       "      <td>What was your first sexual experience like?</td>\n",
       "      <td>What was your first sexual experience?</td>\n",
       "      <td>1</td>\n",
       "      <td>7</td>\n",
       "      <td>6</td>\n",
       "      <td>5</td>\n",
       "    </tr>\n",
       "  </tbody>\n",
       "</table>\n",
       "</div>"
      ],
      "text/plain": [
       "    id  qid1  qid2  \\\n",
       "5   5   11    12     \n",
       "7   7   15    16     \n",
       "11  11  23    24     \n",
       "12  12  25    26     \n",
       "13  13  27    28     \n",
       "\n",
       "                                                                                 question1  \\\n",
       "5   Astrology: I am a Capricorn Sun Cap moon and cap rising...what does that say about me?   \n",
       "7   How can I be a good geologist?                                                           \n",
       "11  How do I read and find my YouTube comments?                                              \n",
       "12  What can make Physics easy to learn?                                                     \n",
       "13  What was your first sexual experience like?                                              \n",
       "\n",
       "                                                                                     question2  \\\n",
       "5   I'm a triple Capricorn (Sun, Moon and ascendant in Capricorn) What does this say about me?   \n",
       "7   What should I do to be a great geologist?                                                    \n",
       "11  How can I see all my Youtube comments?                                                       \n",
       "12  How can you make physics easy to learn?                                                      \n",
       "13  What was your first sexual experience?                                                       \n",
       "\n",
       "    is_duplicate  q1_word_count  q2_word_count  common_word_count  \n",
       "5   1             16             16             8                  \n",
       "7   1             7              9              4                  \n",
       "11  1             9              8              5                  \n",
       "12  1             7              8              6                  \n",
       "13  1             7              6              5                  "
      ]
     },
     "execution_count": 9,
     "metadata": {},
     "output_type": "execute_result"
    }
   ],
   "source": [
    "# let us observe the duplicates\n",
    "df[df['is_duplicate'] == 1].head()"
   ]
  },
  {
   "cell_type": "markdown",
   "metadata": {},
   "source": [
    "###  is there any null entry for questions?"
   ]
  },
  {
   "cell_type": "code",
   "execution_count": 77,
   "metadata": {},
   "outputs": [
    {
     "data": {
      "text/html": [
       "<div>\n",
       "<style scoped>\n",
       "    .dataframe tbody tr th:only-of-type {\n",
       "        vertical-align: middle;\n",
       "    }\n",
       "\n",
       "    .dataframe tbody tr th {\n",
       "        vertical-align: top;\n",
       "    }\n",
       "\n",
       "    .dataframe thead th {\n",
       "        text-align: right;\n",
       "    }\n",
       "</style>\n",
       "<table border=\"1\" class=\"dataframe\">\n",
       "  <thead>\n",
       "    <tr style=\"text-align: right;\">\n",
       "      <th></th>\n",
       "      <th>id</th>\n",
       "      <th>qid1</th>\n",
       "      <th>qid2</th>\n",
       "      <th>question1</th>\n",
       "      <th>question2</th>\n",
       "      <th>is_duplicate</th>\n",
       "      <th>q1_word_count</th>\n",
       "      <th>q2_word_count</th>\n",
       "      <th>common_word_count</th>\n",
       "      <th>is_special_char1</th>\n",
       "      <th>is_special_char2</th>\n",
       "      <th>q1_removing_stopwords</th>\n",
       "      <th>q2_removing_stopwords</th>\n",
       "      <th>q1_synonyms</th>\n",
       "      <th>synonyms_count</th>\n",
       "      <th>similarity</th>\n",
       "    </tr>\n",
       "  </thead>\n",
       "  <tbody>\n",
       "  </tbody>\n",
       "</table>\n",
       "</div>"
      ],
      "text/plain": [
       "Empty DataFrame\n",
       "Columns: [id, qid1, qid2, question1, question2, is_duplicate, q1_word_count, q2_word_count, common_word_count, is_special_char1, is_special_char2, q1_removing_stopwords, q2_removing_stopwords, q1_synonyms, synonyms_count, similarity]\n",
       "Index: []"
      ]
     },
     "execution_count": 77,
     "metadata": {},
     "output_type": "execute_result"
    }
   ],
   "source": [
    "\n",
    "df[df['question1'].isnull()]\n",
    "df[df['question2'].isnull()]"
   ]
  },
  {
   "cell_type": "code",
   "execution_count": 11,
   "metadata": {
    "collapsed": true
   },
   "outputs": [],
   "source": [
    "# cast to str.\n",
    "df['question1'] = df['question1'].astype(str)\n",
    "df['question2'] = df['question2'].astype(str)"
   ]
  },
  {
   "cell_type": "markdown",
   "metadata": {},
   "source": [
    "### is there any special chars?"
   ]
  },
  {
   "cell_type": "code",
   "execution_count": 82,
   "metadata": {
    "collapsed": true
   },
   "outputs": [],
   "source": [
    "\n",
    "import string\n",
    "\n",
    "special_chars = string.punctuation\n",
    "def check_special_char(text):\n",
    "    return any(char in string.punctuation for char in text)"
   ]
  },
  {
   "cell_type": "code",
   "execution_count": 83,
   "metadata": {},
   "outputs": [
    {
     "data": {
      "text/plain": [
       "0    What is the step by step guide to invest in share market in india?          \n",
       "1    What is the story of Kohinoor (Koh-i-Noor) Diamond?                         \n",
       "2    How can I increase the speed of my internet connection while using a VPN?   \n",
       "3    Why am I mentally very lonely? How can I solve it?                          \n",
       "4    Which one dissolve in water quikly sugar, salt, methane and carbon di oxide?\n",
       "Name: question1, dtype: object"
      ]
     },
     "execution_count": 83,
     "metadata": {},
     "output_type": "execute_result"
    }
   ],
   "source": [
    "# check special chars in column : question1\n",
    "df['is_special_char1'] = df['question1'].apply(lambda x: check_special_char(x))\n",
    "\n",
    "# count entries having special chars\n",
    "df[df['is_special_char1'] == True]['question1'].head(5)"
   ]
  },
  {
   "cell_type": "code",
   "execution_count": 14,
   "metadata": {},
   "outputs": [
    {
     "data": {
      "text/plain": [
       "0    What is the step by step guide to invest in share market?                               \n",
       "1    What would happen if the Indian government stole the Kohinoor (Koh-i-Noor) diamond back?\n",
       "2    How can Internet speed be increased by hacking through DNS?                             \n",
       "3    Find the remainder when [math]23^{24}[/math] is divided by 24,23?                       \n",
       "4    Which fish would survive in salt water?                                                 \n",
       "Name: question2, dtype: object"
      ]
     },
     "execution_count": 14,
     "metadata": {},
     "output_type": "execute_result"
    }
   ],
   "source": [
    "# check special chars in column : question2\n",
    "df['is_special_char2'] = df['question2'].apply(lambda x: check_special_char(x))\n",
    "\n",
    "# count entries having special chars\n",
    "df[df['is_special_char2'] == True]['question2'].head(5)"
   ]
  },
  {
   "cell_type": "markdown",
   "metadata": {},
   "source": [
    "### DATA CLEANING"
   ]
  },
  {
   "cell_type": "markdown",
   "metadata": {},
   "source": [
    "#### 1. Fill Null with empty string\n",
    "#### 2. Remove special characters ('#', '~', '|'...)\n",
    "#### 3. Convert mathematical symbols to text value\n",
    "#### 4. Convert abbreviation to whole : ( what's -> what is)"
   ]
  },
  {
   "cell_type": "code",
   "execution_count": 15,
   "metadata": {},
   "outputs": [
    {
     "data": {
      "text/html": [
       "<div>\n",
       "<style scoped>\n",
       "    .dataframe tbody tr th:only-of-type {\n",
       "        vertical-align: middle;\n",
       "    }\n",
       "\n",
       "    .dataframe tbody tr th {\n",
       "        vertical-align: top;\n",
       "    }\n",
       "\n",
       "    .dataframe thead th {\n",
       "        text-align: right;\n",
       "    }\n",
       "</style>\n",
       "<table border=\"1\" class=\"dataframe\">\n",
       "  <thead>\n",
       "    <tr style=\"text-align: right;\">\n",
       "      <th></th>\n",
       "      <th>id</th>\n",
       "      <th>qid1</th>\n",
       "      <th>qid2</th>\n",
       "      <th>question1</th>\n",
       "      <th>question2</th>\n",
       "      <th>is_duplicate</th>\n",
       "      <th>q1_word_count</th>\n",
       "      <th>q2_word_count</th>\n",
       "      <th>common_word_count</th>\n",
       "      <th>is_special_char1</th>\n",
       "      <th>is_special_char2</th>\n",
       "    </tr>\n",
       "  </thead>\n",
       "  <tbody>\n",
       "  </tbody>\n",
       "</table>\n",
       "</div>"
      ],
      "text/plain": [
       "Empty DataFrame\n",
       "Columns: [id, qid1, qid2, question1, question2, is_duplicate, q1_word_count, q2_word_count, common_word_count, is_special_char1, is_special_char2]\n",
       "Index: []"
      ]
     },
     "execution_count": 15,
     "metadata": {},
     "output_type": "execute_result"
    }
   ],
   "source": [
    "# Fill null values with empty string\n",
    "df = df.fillna({\"question2\": ''})\n",
    "\n",
    "df[df['question2'].isnull()]"
   ]
  },
  {
   "cell_type": "code",
   "execution_count": 16,
   "metadata": {
    "collapsed": true
   },
   "outputs": [],
   "source": [
    "\n",
    "def remove_special_chars(text):\n",
    "    return \" \".join(e for e in text.split() if e.isalnum())\n",
    "\n",
    "\n",
    "import re\n",
    "def remove_abbr_and_math_symbol(text):\n",
    "    # Mathematical symbols\n",
    "    text = re.sub(r\"\\+\", \" plus \", text)\n",
    "    text = re.sub(r\"\\-\", \" minus \", text)\n",
    "    text = re.sub(r\"\\*\", \" multiply \", text)\n",
    "    text = re.sub(r\"\\=\", \"equal\", text)\n",
    "    \n",
    "    # abbrv.\n",
    "    text = re.sub(r\"What's\", \"What is \", text)\n",
    "    text = re.sub(r\"Who's\", \"Who is \", text)\n",
    "    text = re.sub(r\"\\'ve\", \" have \", text)\n",
    "    text = re.sub(r\"can't\", \"can not \", text)\n",
    "    text = re.sub(r\"n't\", \" not \", text)\n",
    "    text = re.sub(r\"\\'re\", \" are \", text)\n",
    "    text = re.sub(r\"\\'d\", \" would \", text)\n",
    "    text = re.sub(r\"\\'ll\", \" will \", text)\n",
    "    text = re.sub(r\"'m\", \" am \", text)\n",
    "    \n",
    "    text = text.strip()\n",
    "    return text\n"
   ]
  },
  {
   "cell_type": "code",
   "execution_count": 84,
   "metadata": {
    "collapsed": true
   },
   "outputs": [],
   "source": [
    "# Remove special chars.\n",
    "df['question1'] = df['question1'].apply(lambda x: remove_special_chars(x))\n",
    "df['question2'] = df['question2'].map(lambda x: remove_special_chars(x))"
   ]
  },
  {
   "cell_type": "code",
   "execution_count": 18,
   "metadata": {
    "collapsed": true
   },
   "outputs": [],
   "source": [
    "df['is_special_char2'] = df['question2'].apply(lambda x: check_special_char(x))"
   ]
  },
  {
   "cell_type": "code",
   "execution_count": 19,
   "metadata": {},
   "outputs": [
    {
     "data": {
      "text/plain": [
       "Series([], Name: question2, dtype: object)"
      ]
     },
     "execution_count": 19,
     "metadata": {},
     "output_type": "execute_result"
    }
   ],
   "source": [
    "# Check special chars\n",
    "df[df['is_special_char2'] == True]['question2'].head(5)"
   ]
  },
  {
   "cell_type": "code",
   "execution_count": 20,
   "metadata": {
    "collapsed": true
   },
   "outputs": [],
   "source": [
    "# Pre-processing cases (mathematical symbols, abbrevations and )\n",
    "df['question1'] = df['question1'].apply(lambda x: remove_abbr_and_math_symbol(x))\n",
    "df['question2'] = df['question2'].map(lambda x: remove_abbr_and_math_symbol(x))"
   ]
  },
  {
   "cell_type": "markdown",
   "metadata": {},
   "source": [
    "## FEATURE ENGINEERING\n",
    "\n",
    "### 1. Removing stopwords\n",
    "### 2. Features\n",
    " i. total words count\n",
    " ii. common words count\n",
    " iii. synonym count\n",
    " iv. similarity (cosine)"
   ]
  },
  {
   "cell_type": "code",
   "execution_count": 45,
   "metadata": {},
   "outputs": [],
   "source": [
    "from sklearn.feature_extraction import text"
   ]
  },
  {
   "cell_type": "code",
   "execution_count": 46,
   "metadata": {
    "collapsed": true
   },
   "outputs": [],
   "source": [
    "stopwords = text.ENGLISH_STOP_WORDS"
   ]
  },
  {
   "cell_type": "code",
   "execution_count": 47,
   "metadata": {
    "collapsed": true
   },
   "outputs": [],
   "source": [
    "def remove_stopwords(text):\n",
    "    words = [word for word in text.split()]\n",
    "    words_without_stopwords = [word for word in words if word not in stopwords]\n",
    "    return \" \".join(words_without_stopwords)"
   ]
  },
  {
   "cell_type": "code",
   "execution_count": 48,
   "metadata": {},
   "outputs": [
    {
     "data": {
      "text/plain": [
       "'This test'"
      ]
     },
     "execution_count": 48,
     "metadata": {},
     "output_type": "execute_result"
    }
   ],
   "source": [
    "output = remove_stopwords('This is a test')\n",
    "output"
   ]
  },
  {
   "cell_type": "code",
   "execution_count": 49,
   "metadata": {
    "collapsed": true
   },
   "outputs": [],
   "source": [
    "df['q1_removing_stopwords'] = df['question1'].apply(lambda x: remove_stopwords(x))\n",
    "df['q2_removing_stopwords'] = df['question2'].apply(lambda x: remove_stopwords(x))"
   ]
  },
  {
   "cell_type": "code",
   "execution_count": 50,
   "metadata": {
    "collapsed": true
   },
   "outputs": [],
   "source": [
    "def common_words_count(x):\n",
    "    q1, q2 = x\n",
    "    return len(set(str(q1).lower().split()) & set(str(q2).lower().split()))\n",
    "\n",
    "def total_words_count(question):\n",
    "    return len(str(question).split())\n"
   ]
  },
  {
   "cell_type": "code",
   "execution_count": 51,
   "metadata": {
    "collapsed": true
   },
   "outputs": [],
   "source": [
    "\n",
    "df['q1_word_count'] = df['question1'].apply(total_words_count)\n",
    "df['q2_word_count'] = df['question2'].apply(total_words_count)\n",
    "df['common_word_count'] = df[['question1', 'question2']].apply(common_words_count, axis=1)"
   ]
  },
  {
   "cell_type": "code",
   "execution_count": 52,
   "metadata": {},
   "outputs": [],
   "source": [
    "import nltk\n",
    "from nltk.corpus import wordnet as wn"
   ]
  },
  {
   "cell_type": "code",
   "execution_count": 53,
   "metadata": {},
   "outputs": [
    {
     "data": {
      "text/plain": [
       "['change', 'alteration', 'modification']"
      ]
     },
     "execution_count": 53,
     "metadata": {},
     "output_type": "execute_result"
    }
   ],
   "source": [
    "wn.synsets('change')[0].lemma_names()"
   ]
  },
  {
   "cell_type": "code",
   "execution_count": 54,
   "metadata": {
    "collapsed": true
   },
   "outputs": [],
   "source": [
    "def get_lemmas(text):\n",
    "    synsets = wn.synsets(text)\n",
    "    lemmas = []\n",
    "    if synsets:\n",
    "        lemmas = synsets[0].lemma_names()\n",
    "    return lemmas\n",
    "    \n",
    "def get_synonyms_list(text):\n",
    "    tokens = nltk.word_tokenize(text)\n",
    "    synonyms = []\n",
    "    for token in tokens:\n",
    "        synonyms.append(get_lemmas(token))\n",
    "    synonyms_set = set([y for x in synonyms for y in x if y])\n",
    "    return synonyms_set\n",
    "    \n",
    "\n",
    "def get_synonyms_count(row):\n",
    "    q1_synonyms = row['q1_synonyms']\n",
    "    q2 = row['q2_removing_stopwords']\n",
    "    q2_tokens = nltk.word_tokenize(q2)\n",
    "    common_words = q1_synonyms.intersection(q2_tokens)\n",
    "    return len(common_words)\n",
    "    "
   ]
  },
  {
   "cell_type": "code",
   "execution_count": 55,
   "metadata": {
    "collapsed": true
   },
   "outputs": [],
   "source": [
    "df['q1_synonyms'] = df.apply(lambda row: get_synonyms_list(row['q1_removing_stopwords']), axis=1)"
   ]
  },
  {
   "cell_type": "code",
   "execution_count": 56,
   "metadata": {
    "collapsed": true
   },
   "outputs": [],
   "source": [
    "\n",
    "df['synonyms_count'] = df.apply(lambda row: get_synonyms_count(row), axis=1)"
   ]
  },
  {
   "cell_type": "code",
   "execution_count": 57,
   "metadata": {},
   "outputs": [
    {
     "data": {
      "text/html": [
       "<div>\n",
       "<style scoped>\n",
       "    .dataframe tbody tr th:only-of-type {\n",
       "        vertical-align: middle;\n",
       "    }\n",
       "\n",
       "    .dataframe tbody tr th {\n",
       "        vertical-align: top;\n",
       "    }\n",
       "\n",
       "    .dataframe thead th {\n",
       "        text-align: right;\n",
       "    }\n",
       "</style>\n",
       "<table border=\"1\" class=\"dataframe\">\n",
       "  <thead>\n",
       "    <tr style=\"text-align: right;\">\n",
       "      <th></th>\n",
       "      <th>synonyms_count</th>\n",
       "      <th>q1_removing_stopwords</th>\n",
       "      <th>q2_removing_stopwords</th>\n",
       "    </tr>\n",
       "  </thead>\n",
       "  <tbody>\n",
       "    <tr>\n",
       "      <th>0</th>\n",
       "      <td>4</td>\n",
       "      <td>What step step guide invest share market</td>\n",
       "      <td>What step step guide invest share</td>\n",
       "    </tr>\n",
       "    <tr>\n",
       "      <th>1</th>\n",
       "      <td>0</td>\n",
       "      <td>What story Kohinoor</td>\n",
       "      <td>What happen Indian government stole Kohinoor diamond</td>\n",
       "    </tr>\n",
       "    <tr>\n",
       "      <th>2</th>\n",
       "      <td>1</td>\n",
       "      <td>How I increase speed internet connection using</td>\n",
       "      <td>How Internet speed increased hacking</td>\n",
       "    </tr>\n",
       "    <tr>\n",
       "      <th>3</th>\n",
       "      <td>0</td>\n",
       "      <td>Why I mentally How I solve</td>\n",
       "      <td>Find remainder divided</td>\n",
       "    </tr>\n",
       "    <tr>\n",
       "      <th>4</th>\n",
       "      <td>0</td>\n",
       "      <td>Which dissolve water quikly methane carbon di</td>\n",
       "      <td>Which fish survive salt</td>\n",
       "    </tr>\n",
       "  </tbody>\n",
       "</table>\n",
       "</div>"
      ],
      "text/plain": [
       "   synonyms_count                           q1_removing_stopwords  \\\n",
       "0  4               What step step guide invest share market         \n",
       "1  0               What story Kohinoor                              \n",
       "2  1               How I increase speed internet connection using   \n",
       "3  0               Why I mentally How I solve                       \n",
       "4  0               Which dissolve water quikly methane carbon di    \n",
       "\n",
       "                                  q2_removing_stopwords  \n",
       "0  What step step guide invest share                     \n",
       "1  What happen Indian government stole Kohinoor diamond  \n",
       "2  How Internet speed increased hacking                  \n",
       "3  Find remainder divided                                \n",
       "4  Which fish survive salt                               "
      ]
     },
     "execution_count": 57,
     "metadata": {},
     "output_type": "execute_result"
    }
   ],
   "source": [
    "df[['synonyms_count','q1_removing_stopwords', 'q2_removing_stopwords']][:5]"
   ]
  },
  {
   "cell_type": "code",
   "execution_count": 58,
   "metadata": {},
   "outputs": [],
   "source": [
    "import spacy\n",
    "import wmd\n",
    "\n",
    "nlp = spacy.load('en_core_web_md')"
   ]
  },
  {
   "cell_type": "code",
   "execution_count": 59,
   "metadata": {
    "collapsed": true
   },
   "outputs": [],
   "source": [
    "def get_cosine_distance(question1, question2):\n",
    "    doc1 = nlp(question1)\n",
    "    doc2 = nlp(question2)\n",
    "    return doc1.similarity(doc2)"
   ]
  },
  {
   "cell_type": "code",
   "execution_count": 60,
   "metadata": {},
   "outputs": [
    {
     "data": {
      "text/plain": [
       "0.6850770621257415"
      ]
     },
     "execution_count": 60,
     "metadata": {},
     "output_type": "execute_result"
    }
   ],
   "source": [
    "get_cosine_distance('I speak three languages', 'I know Nepali, English, German')"
   ]
  },
  {
   "cell_type": "code",
   "execution_count": 61,
   "metadata": {
    "collapsed": true
   },
   "outputs": [],
   "source": [
    "def get_similarity(row):\n",
    "    q1 = row['q1_removing_stopwords']\n",
    "    q2 = row['q2_removing_stopwords']\n",
    "    return get_cosine_distance(q1, q2)"
   ]
  },
  {
   "cell_type": "code",
   "execution_count": 62,
   "metadata": {
    "collapsed": true
   },
   "outputs": [],
   "source": [
    "df['similarity'] = df.apply(lambda row: get_similarity(row), axis=1)"
   ]
  },
  {
   "cell_type": "code",
   "execution_count": 63,
   "metadata": {},
   "outputs": [
    {
     "data": {
      "text/html": [
       "<div>\n",
       "<style scoped>\n",
       "    .dataframe tbody tr th:only-of-type {\n",
       "        vertical-align: middle;\n",
       "    }\n",
       "\n",
       "    .dataframe tbody tr th {\n",
       "        vertical-align: top;\n",
       "    }\n",
       "\n",
       "    .dataframe thead th {\n",
       "        text-align: right;\n",
       "    }\n",
       "</style>\n",
       "<table border=\"1\" class=\"dataframe\">\n",
       "  <thead>\n",
       "    <tr style=\"text-align: right;\">\n",
       "      <th></th>\n",
       "      <th>id</th>\n",
       "      <th>qid1</th>\n",
       "      <th>qid2</th>\n",
       "      <th>question1</th>\n",
       "      <th>question2</th>\n",
       "      <th>is_duplicate</th>\n",
       "      <th>q1_word_count</th>\n",
       "      <th>q2_word_count</th>\n",
       "      <th>common_word_count</th>\n",
       "      <th>is_special_char1</th>\n",
       "      <th>is_special_char2</th>\n",
       "      <th>q1_removing_stopwords</th>\n",
       "      <th>q2_removing_stopwords</th>\n",
       "      <th>q1_synonyms</th>\n",
       "      <th>synonyms_count</th>\n",
       "      <th>similarity</th>\n",
       "    </tr>\n",
       "  </thead>\n",
       "  <tbody>\n",
       "    <tr>\n",
       "      <th>0</th>\n",
       "      <td>0</td>\n",
       "      <td>1</td>\n",
       "      <td>2</td>\n",
       "      <td>What is the step by step guide to invest in share market in</td>\n",
       "      <td>What is the step by step guide to invest in share</td>\n",
       "      <td>0</td>\n",
       "      <td>13</td>\n",
       "      <td>11</td>\n",
       "      <td>10</td>\n",
       "      <td>True</td>\n",
       "      <td>False</td>\n",
       "      <td>What step step guide invest share market</td>\n",
       "      <td>What step step guide invest share</td>\n",
       "      <td>{portion, marketplace, market_place, invest, measure, guide, commit, market, share, percentage, place, step, put, part, usher}</td>\n",
       "      <td>4</td>\n",
       "      <td>0.982112</td>\n",
       "    </tr>\n",
       "    <tr>\n",
       "      <th>1</th>\n",
       "      <td>1</td>\n",
       "      <td>3</td>\n",
       "      <td>4</td>\n",
       "      <td>What is the story of Kohinoor</td>\n",
       "      <td>What would happen if the Indian government stole the Kohinoor diamond</td>\n",
       "      <td>0</td>\n",
       "      <td>6</td>\n",
       "      <td>11</td>\n",
       "      <td>3</td>\n",
       "      <td>True</td>\n",
       "      <td>False</td>\n",
       "      <td>What story Kohinoor</td>\n",
       "      <td>What happen Indian government stole Kohinoor diamond</td>\n",
       "      <td>{narrative, tale, story, narration}</td>\n",
       "      <td>0</td>\n",
       "      <td>0.622239</td>\n",
       "    </tr>\n",
       "    <tr>\n",
       "      <th>2</th>\n",
       "      <td>2</td>\n",
       "      <td>5</td>\n",
       "      <td>6</td>\n",
       "      <td>How can I increase the speed of my internet connection while using a</td>\n",
       "      <td>How can Internet speed be increased by hacking through</td>\n",
       "      <td>0</td>\n",
       "      <td>13</td>\n",
       "      <td>9</td>\n",
       "      <td>4</td>\n",
       "      <td>True</td>\n",
       "      <td>False</td>\n",
       "      <td>How I increase speed internet connection using</td>\n",
       "      <td>How Internet speed increased hacking</td>\n",
       "      <td>{addition, gain, net, connection, increase, I, speed, victimization, internet, connectedness, cyberspace, using, iodine, connexion, victimisation, exploitation, velocity, iodin, atomic_number_53}</td>\n",
       "      <td>1</td>\n",
       "      <td>0.910691</td>\n",
       "    </tr>\n",
       "    <tr>\n",
       "      <th>3</th>\n",
       "      <td>3</td>\n",
       "      <td>7</td>\n",
       "      <td>8</td>\n",
       "      <td>Why am I mentally very How can I solve</td>\n",
       "      <td>Find the remainder when is divided by</td>\n",
       "      <td>0</td>\n",
       "      <td>9</td>\n",
       "      <td>7</td>\n",
       "      <td>0</td>\n",
       "      <td>True</td>\n",
       "      <td>False</td>\n",
       "      <td>Why I mentally How I solve</td>\n",
       "      <td>Find remainder divided</td>\n",
       "      <td>{puzzle_out, lick, I, work, figure_out, solve, iodine, work_out, why, mentally, wherefore, iodin, atomic_number_53}</td>\n",
       "      <td>0</td>\n",
       "      <td>0.530618</td>\n",
       "    </tr>\n",
       "    <tr>\n",
       "      <th>4</th>\n",
       "      <td>4</td>\n",
       "      <td>9</td>\n",
       "      <td>10</td>\n",
       "      <td>Which one dissolve in water quikly methane and carbon di</td>\n",
       "      <td>Which fish would survive in salt</td>\n",
       "      <td>0</td>\n",
       "      <td>10</td>\n",
       "      <td>6</td>\n",
       "      <td>2</td>\n",
       "      <td>True</td>\n",
       "      <td>False</td>\n",
       "      <td>Which dissolve water quikly methane carbon di</td>\n",
       "      <td>Which fish survive salt</td>\n",
       "      <td>{methane, carbon, water, C, H2O, atomic_number_6, dissolve}</td>\n",
       "      <td>0</td>\n",
       "      <td>0.631401</td>\n",
       "    </tr>\n",
       "  </tbody>\n",
       "</table>\n",
       "</div>"
      ],
      "text/plain": [
       "   id  qid1  qid2  \\\n",
       "0  0   1     2      \n",
       "1  1   3     4      \n",
       "2  2   5     6      \n",
       "3  3   7     8      \n",
       "4  4   9     10     \n",
       "\n",
       "                                                              question1  \\\n",
       "0  What is the step by step guide to invest in share market in            \n",
       "1  What is the story of Kohinoor                                          \n",
       "2  How can I increase the speed of my internet connection while using a   \n",
       "3  Why am I mentally very How can I solve                                 \n",
       "4  Which one dissolve in water quikly methane and carbon di               \n",
       "\n",
       "                                                               question2  \\\n",
       "0  What is the step by step guide to invest in share                       \n",
       "1  What would happen if the Indian government stole the Kohinoor diamond   \n",
       "2  How can Internet speed be increased by hacking through                  \n",
       "3  Find the remainder when is divided by                                   \n",
       "4  Which fish would survive in salt                                        \n",
       "\n",
       "   is_duplicate  q1_word_count  q2_word_count  common_word_count  \\\n",
       "0  0             13             11             10                  \n",
       "1  0             6              11             3                   \n",
       "2  0             13             9              4                   \n",
       "3  0             9              7              0                   \n",
       "4  0             10             6              2                   \n",
       "\n",
       "   is_special_char1  is_special_char2  \\\n",
       "0  True              False              \n",
       "1  True              False              \n",
       "2  True              False              \n",
       "3  True              False              \n",
       "4  True              False              \n",
       "\n",
       "                            q1_removing_stopwords  \\\n",
       "0  What step step guide invest share market         \n",
       "1  What story Kohinoor                              \n",
       "2  How I increase speed internet connection using   \n",
       "3  Why I mentally How I solve                       \n",
       "4  Which dissolve water quikly methane carbon di    \n",
       "\n",
       "                                  q2_removing_stopwords  \\\n",
       "0  What step step guide invest share                      \n",
       "1  What happen Indian government stole Kohinoor diamond   \n",
       "2  How Internet speed increased hacking                   \n",
       "3  Find remainder divided                                 \n",
       "4  Which fish survive salt                                \n",
       "\n",
       "                                                                                                                                                                                           q1_synonyms  \\\n",
       "0  {portion, marketplace, market_place, invest, measure, guide, commit, market, share, percentage, place, step, put, part, usher}                                                                        \n",
       "1  {narrative, tale, story, narration}                                                                                                                                                                   \n",
       "2  {addition, gain, net, connection, increase, I, speed, victimization, internet, connectedness, cyberspace, using, iodine, connexion, victimisation, exploitation, velocity, iodin, atomic_number_53}   \n",
       "3  {puzzle_out, lick, I, work, figure_out, solve, iodine, work_out, why, mentally, wherefore, iodin, atomic_number_53}                                                                                   \n",
       "4  {methane, carbon, water, C, H2O, atomic_number_6, dissolve}                                                                                                                                           \n",
       "\n",
       "   synonyms_count  similarity  \n",
       "0  4               0.982112    \n",
       "1  0               0.622239    \n",
       "2  1               0.910691    \n",
       "3  0               0.530618    \n",
       "4  0               0.631401    "
      ]
     },
     "execution_count": 63,
     "metadata": {},
     "output_type": "execute_result"
    }
   ],
   "source": [
    "df.head()"
   ]
  },
  {
   "cell_type": "code",
   "execution_count": 64,
   "metadata": {},
   "outputs": [
    {
     "name": "stderr",
     "output_type": "stream",
     "text": [
      "/home/leapfrong/workspace/envs/envpractice/lib/python3.5/site-packages/sklearn/model_selection/_split.py:2026: FutureWarning: From version 0.21, test_size will always complement train_size unless both are specified.\n",
      "  FutureWarning)\n"
     ]
    },
    {
     "name": "stdout",
     "output_type": "stream",
     "text": [
      "score is 0.6425\n"
     ]
    }
   ],
   "source": [
    "from sklearn.model_selection import train_test_split\n",
    "from sklearn.ensemble import RandomForestClassifier\n",
    "\n",
    "train, test = train_test_split(df, train_size=0.8)\n",
    "\n",
    "classifier.fit(train[['synonyms_count', 'similarity', 'q1_word_count', 'q2_word_count', 'common_word_count']], train.is_duplicate)\n",
    "score = classifier.score(test[['synonyms_count', 'similarity', 'q1_word_count', 'q2_word_count', 'common_word_count']], test.is_duplicate)\n",
    "print('score is', score)"
   ]
  },
  {
   "cell_type": "code",
   "execution_count": null,
   "metadata": {
    "collapsed": true
   },
   "outputs": [],
   "source": []
  },
  {
   "cell_type": "code",
   "execution_count": null,
   "metadata": {
    "collapsed": true
   },
   "outputs": [],
   "source": []
  }
 ],
 "metadata": {
  "kernelspec": {
   "display_name": "Python 3",
   "language": "python",
   "name": "python3"
  },
  "language_info": {
   "codemirror_mode": {
    "name": "ipython",
    "version": 3
   },
   "file_extension": ".py",
   "mimetype": "text/x-python",
   "name": "python",
   "nbconvert_exporter": "python",
   "pygments_lexer": "ipython3",
   "version": "3.5.2"
  }
 },
 "nbformat": 4,
 "nbformat_minor": 2
}
